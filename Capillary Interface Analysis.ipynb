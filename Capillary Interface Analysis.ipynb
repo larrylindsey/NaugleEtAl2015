{
 "metadata": {
  "name": ""
 },
 "nbformat": 3,
 "nbformat_minor": 0,
 "worksheets": [
  {
   "cells": [
    {
     "cell_type": "code",
     "collapsed": false,
     "input": [
      "import numpy as np\n",
      "from scipy import ndimage\n",
      "from scipy import misc\n",
      "from skimage import morphology\n",
      "import os\n",
      "import sys\n",
      "from matplotlib import pyplot as plt\n",
      "from matplotlib import colors\n",
      "import pickle\n",
      "%matplotlib inline  "
     ],
     "language": "python",
     "metadata": {},
     "outputs": [],
     "prompt_number": 1
    },
    {
     "cell_type": "code",
     "collapsed": false,
     "input": [
      "image_dir = '/home/larry/Images/Michelle-Series/'"
     ],
     "language": "python",
     "metadata": {},
     "outputs": [],
     "prompt_number": 2
    },
    {
     "cell_type": "code",
     "collapsed": false,
     "input": [
      "image_dir_contents = os.listdir(image_dir)\n",
      "animal_folders = [folder for folder in image_dir_contents if os.path.isdir(image_dir + '/' + folder)\n",
      "                  and all(char.isdigit() for char in folder)]\n",
      "print animal_folders"
     ],
     "language": "python",
     "metadata": {},
     "outputs": [
      {
       "output_type": "stream",
       "stream": "stdout",
       "text": [
        "['21786', '23081', '24296', '24827', '24836', '32567', '32448', '28392', '22180', '25689', '32204', '31983', '32461', '37109', '31634', '31500', '29656', '37108', '31090', '31998', '29352', '23714', '24888', '24831', '24163', '30582']\n"
       ]
      }
     ],
     "prompt_number": 3
    },
    {
     "cell_type": "code",
     "collapsed": false,
     "input": [
      "hue_classes = {'capillary' : [0.0085, 0.01764, 0.8333],\n",
      "               'glia' : [0.3333],\n",
      "               'terminal' : [0, 1.0]}"
     ],
     "language": "python",
     "metadata": {},
     "outputs": [],
     "prompt_number": 4
    },
    {
     "cell_type": "code",
     "collapsed": false,
     "input": [
      "# Given a numerical hue in [0 1] and a hue_classes dict of classes -> list<hues>,\n",
      "# find the key such that hue_classes[key] contains a value within 1 degree (1/360)\n",
      "# of hue. Isn't smart enough to know that 359/360 and 0 belong together.\n",
      "def findHueClass(hue, hue_classes):\n",
      "    inv_deg = 1.0 / 360.0\n",
      "    for key, c_hues in hue_classes.iteritems():\n",
      "        for c_hue in c_hues:\n",
      "            if abs(hue - c_hue) < inv_deg:\n",
      "                return key\n",
      "    return None\n",
      "\n",
      "# im - a numpy.ndarray\n",
      "# hue_classes - a dict from class name to a list of hues for that class, with hue in [0 1]\n",
      "# The image will be marked as belonging to that hue where the image hue is within a degree.\n",
      "# im background is assumed to be 0\n",
      "def segmentMasks(im, hue_classes):\n",
      "    # Segment object classes by hue. Background determined by value == 0\n",
      "    im_hue = colors.rgb_to_hsv(im)[:,:,0]\n",
      "    im_value = colors.rgb_to_hsv(im)[:,:,2]\n",
      "    fg_mask = im_value > 0\n",
      "    residue = im_value > 0\n",
      "    \n",
      "    im_hues = np.unique(im_hue.ravel()[fg_mask.ravel()])\n",
      "    \n",
      "    bad_hue = dict()\n",
      "    \n",
      "    # Find class masks\n",
      "    masks = dict()\n",
      "    for key in hue_classes:\n",
      "        masks[key] = np.zeros((im.shape[0], im.shape[1]), dtype=bool)\n",
      "    for h in im_hues:\n",
      "        mask = np.logical_and(fg_mask, im_hue == h)        \n",
      "        key = findHueClass(h, hue_classes)\n",
      "        if key is None:\n",
      "            bad_hue[key] = mask\n",
      "        else:\n",
      "            masks[key] = np.logical_or(masks[key], mask)\n",
      "            residue = np.logical_xor(residue, mask)\n",
      "    if np.sum(residue.ravel() > np.sqrt(np.prod(np.array(im.shape)))):\n",
      "        bad_keys = ''\n",
      "        for key, mask in bad_hue.iteritems():\n",
      "            plt.figure()\n",
      "            plt.imshow(dilateMask(mask), 16)\n",
      "            bad_keys = bad_keys + str(key) + ', '\n",
      "        plt.figure()\n",
      "        plt.imshow(im)\n",
      "        print 'Hues not mapped:', bad_keys\n",
      "        raise Exception('Too many residue pixels')\n",
      "    return masks"
     ],
     "language": "python",
     "metadata": {},
     "outputs": [],
     "prompt_number": 5
    },
    {
     "cell_type": "code",
     "collapsed": false,
     "input": [
      "def dilateMask(mask, radius=25):\n",
      "    dilate_mask = mask[:,:,np.newaxis]\n",
      "    strel = morphology.ball(1, dtype=bool)\n",
      "    # We approximate a radius-sized ball with radius-number of dilations\n",
      "    # with a ball of radius 1 because we don't have all day\n",
      "    for ii in range(radius):\n",
      "        dilate_mask = morphology.binary_dilation(dilate_mask, strel)\n",
      "    return dilate_mask.squeeze()\n",
      "\n",
      "def exclusionMask(im, d=25):\n",
      "    mask = np.zeros(im.shape, dtype=bool)\n",
      "    (X, Y) = im.squeeze().shape\n",
      "    mask[0,:] = True\n",
      "    mask[:,0] = True\n",
      "    mask[X-1,:] = True\n",
      "    mask[:,Y-1] = True\n",
      "    mask = dilateMask(mask, d)\n",
      "    mask = np.logical_not(mask)\n",
      "    return mask\n",
      "\n",
      "def maskInterface(cap_mask, obj_mask=None):\n",
      "    if obj_mask is None:\n",
      "        obj_mask = np.ones_like(cap_mask)\n",
      "    xsect = np.logical_and(cap_mask, obj_mask)    \n",
      "    if not np.any(xsect.ravel() > 0):\n",
      "        return xsect\n",
      "    skel = morphology.skeletonize(xsect)\n",
      "    return skel"
     ],
     "language": "python",
     "metadata": {},
     "outputs": [],
     "prompt_number": 10
    },
    {
     "cell_type": "code",
     "collapsed": false,
     "input": [
      "def measureCapillaryTotal(cap_mask, ex_mask):\n",
      "    cap_mask_bound = np.logical_xor(cap_mask, dilateMask(cap_mask, 1))\n",
      "    skel = np.logical_and(morphology.skeletonize(cap_mask_bound), ex_mask)\n",
      "    return np.sum(skel.ravel() > 0)\n",
      "\n",
      "def measureCapillaryInterface(image_file, hue_classes):\n",
      "    print 'Reading', image_file\n",
      "    sys.stdout.flush()\n",
      "    im = ndimage.imread(image_file)\n",
      "    masks = segmentMasks(im, hue_classes)\n",
      "    cap_mask = masks.pop('capillary')\n",
      "    if not cap_mask.any():\n",
      "        raise Exception('Empty capillary mask!')\n",
      "    dil_cap_mask = dilateMask(cap_mask)\n",
      "    ifaces_map = dict()\n",
      "    all_skel = np.zeros_like(im[:,:,0], dtype=bool)\n",
      "    ex_mask = exclusionMask(all_skel)\n",
      "    \n",
      "    for key, mask in masks.iteritems():\n",
      "        print 'Processing interfaces for class', key, 'in file', image_file\n",
      "        sys.stdout.flush()\n",
      "        labels, nlabels = ndimage.label(mask)\n",
      "        ifaces = []\n",
      "        for iface in range(nlabels):\n",
      "            l = iface + 1\n",
      "            skel = maskInterface(dil_cap_mask, labels == l)\n",
      "            skel = np.logical_and(skel, ex_mask)\n",
      "            cnt = np.sum(skel.ravel() > 0)\n",
      "            if cnt > 0:\n",
      "                all_skel = np.logical_or(all_skel, skel)\n",
      "                ifaces.append(cnt)\n",
      "        ifaces_map[key] = np.array(ifaces)    \n",
      "    ifaces_map['capillary'] = measureCapillaryTotal(cap_mask, ex_mask)\n",
      "    return ifaces_map\n",
      "        "
     ],
     "language": "python",
     "metadata": {},
     "outputs": [],
     "prompt_number": 7
    },
    {
     "cell_type": "code",
     "collapsed": false,
     "input": [
      "def concatenateDict(d1, d2):\n",
      "    for key in d2:\n",
      "        if key in d1:\n",
      "            d1[key] = np.concatenate((d1[key], d2[key]))\n",
      "        else:\n",
      "            d1[key] = d2[key]\n",
      "            \n",
      "def interface_map_to_csv(interfaces, animal_id):\n",
      "    csv_file = 'interface_stats' + str(animal_id) + '.csv'\n",
      "    print 'Writing', str(animal_id), 'stats to', csv_file\n",
      "    sys.stdout.flush()\n",
      "    with open(csv_file, 'w') as f:\n",
      "        cap_sum = 0\n",
      "        term_sum = 0\n",
      "        glia_sum = 0\n",
      "        for im_file, iface_dict in interfaces.iteritems():\n",
      "            cap_sum = cap_sum + iface_dict['capillary']\n",
      "            term_sum = term_sum + np.sum(iface_dict['terminal'])\n",
      "            glia_sum = glia_sum + np.sum(iface_dict['glia'])\n",
      "        \n",
      "        f.write('capillaries, {}\\n'.format(cap_sum))\n",
      "        f.write('glia, {}, {}\\n'.format(glia_sum, float(glia_sum) / float(cap_sum)))\n",
      "        f.write('terminals, {}, {}\\n'.format(term_sum, float(term_sum) / float(cap_sum)))\n",
      "        for im_file, iface_dict in interfaces.iteritems():\n",
      "            for cname, val in iface_dict.iteritems():\n",
      "                if val.size > 0:\n",
      "                    for n in np.nditer(val):\n",
      "                        f.write('{}, {}, {}\\n'.format(im_file, cname, n))\n",
      "        f.close()\n",
      "\n",
      "def run_analysis(root_dir, animal_folders, hue_classes):\n",
      "    for animal_folder in animal_folders:\n",
      "        animal_folder_fq = root_dir + '/' + animal_folder\n",
      "        capillary_interfaces = dict()\n",
      "        #master_dict = dict()\n",
      "        image_files = [f for f in os.listdir(animal_folder_fq) if 'noMit' in f and 'map' not in f]\n",
      "        print image_files\n",
      "        sys.stdout.flush()\n",
      "        for image_file in image_files:\n",
      "            image_file_fq = animal_folder_fq + '/' + image_file            \n",
      "            capillary_interfaces[image_file] = measureCapillaryInterface(image_file_fq, hue_classes)            \n",
      "            #concatenateDict(master_dict, capillary_interfaces[image_file])\n",
      "        \n",
      "        print 'Writing capillary map to ', (animal_folder_fq + '/capillary_interfaces.map')\n",
      "        sys.stdout.flush()\n",
      "        with open(animal_folder_fq + '/capillary_interfaces.map', 'w') as f:\n",
      "            pickle.dump(capillary_interfaces, f)    \n",
      "            f.close()\n",
      "        \n",
      "        #print 'Writing combined map to ', (animal_folder_fq + '/master_dict.map')\n",
      "        #sys.stdout.flush()\n",
      "        #with open(animal_folder_fq + '/master_dict.map', 'w') as f:\n",
      "        #    pickle.dump(master_dict, f)\n",
      "        #    f.close()\n",
      "        \n",
      "        interface_map_to_csv(capillary_interfaces, animal_folder)\n",
      "        \n",
      "        \n",
      "        \n",
      "\n",
      "            \n",
      "            "
     ],
     "language": "python",
     "metadata": {},
     "outputs": [],
     "prompt_number": 8
    },
    {
     "cell_type": "code",
     "collapsed": false,
     "input": [
      "run_analysis(image_dir, animal_folders, hue_classes)"
     ],
     "language": "python",
     "metadata": {},
     "outputs": [
      {
       "output_type": "stream",
       "stream": "stdout",
       "text": [
        "['s7.Tile_r1-c1_21786me7 1C site2.noMit.tif', 's10.Tile_r1-c1_21786me7 1C site3.noMit.tif', 's5.Tile_r1-c1_21786me7 1C site1.noMit.tif', 's1.Tile_r1-c1_21786me7 1C site4.noMit.tif', 's2.Tile_r1-c1_21786me7 1B site1.noMit.tif', 's9.Tile_r1-c1_21786me7 1C site3.noMit.tif', 's8.Tile_r1-c1_21786me7 1C site2.noMit.tif', 's4.Tile_r1-c1_21786me7 1B site1.noMit.tif', 's6.Tile_r1-c1_21786me7 1C site1.noMit.tif', 's3.Tile_r1-c1_21786me7 1B site1.noMit.tif']\n"
       ]
      },
      {
       "output_type": "stream",
       "stream": "stdout",
       "text": [
        "Reading /home/larry/Images/Michelle-Series//21786/s7.Tile_r1-c1_21786me7 1C site2.noMit.tif\n"
       ]
      },
      {
       "output_type": "stream",
       "stream": "stdout",
       "text": [
        "Processing interfaces for class terminal in file /home/larry/Images/Michelle-Series//21786/s7.Tile_r1-c1_21786me7 1C site2.noMit.tif\n"
       ]
      },
      {
       "output_type": "stream",
       "stream": "stdout",
       "text": [
        "Processing interfaces for class glia in file /home/larry/Images/Michelle-Series//21786/s7.Tile_r1-c1_21786me7 1C site2.noMit.tif\n"
       ]
      },
      {
       "output_type": "stream",
       "stream": "stdout",
       "text": [
        "Reading /home/larry/Images/Michelle-Series//21786/s10.Tile_r1-c1_21786me7 1C site3.noMit.tif\n"
       ]
      },
      {
       "output_type": "stream",
       "stream": "stdout",
       "text": [
        "Processing interfaces for class terminal in file /home/larry/Images/Michelle-Series//21786/s10.Tile_r1-c1_21786me7 1C site3.noMit.tif\n"
       ]
      },
      {
       "output_type": "stream",
       "stream": "stdout",
       "text": [
        "Processing interfaces for class glia in file /home/larry/Images/Michelle-Series//21786/s10.Tile_r1-c1_21786me7 1C site3.noMit.tif\n"
       ]
      },
      {
       "output_type": "stream",
       "stream": "stdout",
       "text": [
        "Reading /home/larry/Images/Michelle-Series//21786/s5.Tile_r1-c1_21786me7 1C site1.noMit.tif\n"
       ]
      },
      {
       "output_type": "stream",
       "stream": "stdout",
       "text": [
        "Processing interfaces for class terminal in file /home/larry/Images/Michelle-Series//21786/s5.Tile_r1-c1_21786me7 1C site1.noMit.tif\n"
       ]
      },
      {
       "output_type": "stream",
       "stream": "stdout",
       "text": [
        "Processing interfaces for class glia in file /home/larry/Images/Michelle-Series//21786/s5.Tile_r1-c1_21786me7 1C site1.noMit.tif\n"
       ]
      },
      {
       "output_type": "stream",
       "stream": "stdout",
       "text": [
        "Reading /home/larry/Images/Michelle-Series//21786/s1.Tile_r1-c1_21786me7 1C site4.noMit.tif\n"
       ]
      },
      {
       "output_type": "stream",
       "stream": "stdout",
       "text": [
        "Processing interfaces for class terminal in file /home/larry/Images/Michelle-Series//21786/s1.Tile_r1-c1_21786me7 1C site4.noMit.tif\n"
       ]
      },
      {
       "output_type": "stream",
       "stream": "stdout",
       "text": [
        "Processing interfaces for class glia in file /home/larry/Images/Michelle-Series//21786/s1.Tile_r1-c1_21786me7 1C site4.noMit.tif\n"
       ]
      },
      {
       "output_type": "stream",
       "stream": "stdout",
       "text": [
        "Reading /home/larry/Images/Michelle-Series//21786/s2.Tile_r1-c1_21786me7 1B site1.noMit.tif\n"
       ]
      },
      {
       "output_type": "stream",
       "stream": "stdout",
       "text": [
        "Processing interfaces for class terminal in file /home/larry/Images/Michelle-Series//21786/s2.Tile_r1-c1_21786me7 1B site1.noMit.tif\n"
       ]
      },
      {
       "output_type": "stream",
       "stream": "stdout",
       "text": [
        "Processing interfaces for class glia in file /home/larry/Images/Michelle-Series//21786/s2.Tile_r1-c1_21786me7 1B site1.noMit.tif\n"
       ]
      },
      {
       "output_type": "stream",
       "stream": "stdout",
       "text": [
        "Reading /home/larry/Images/Michelle-Series//21786/s9.Tile_r1-c1_21786me7 1C site3.noMit.tif\n"
       ]
      },
      {
       "output_type": "stream",
       "stream": "stdout",
       "text": [
        "Processing interfaces for class terminal in file /home/larry/Images/Michelle-Series//21786/s9.Tile_r1-c1_21786me7 1C site3.noMit.tif\n"
       ]
      },
      {
       "output_type": "stream",
       "stream": "stdout",
       "text": [
        "Processing interfaces for class glia in file /home/larry/Images/Michelle-Series//21786/s9.Tile_r1-c1_21786me7 1C site3.noMit.tif\n"
       ]
      },
      {
       "output_type": "stream",
       "stream": "stdout",
       "text": [
        "Reading /home/larry/Images/Michelle-Series//21786/s8.Tile_r1-c1_21786me7 1C site2.noMit.tif\n"
       ]
      },
      {
       "output_type": "stream",
       "stream": "stdout",
       "text": [
        "Processing interfaces for class terminal in file /home/larry/Images/Michelle-Series//21786/s8.Tile_r1-c1_21786me7 1C site2.noMit.tif\n"
       ]
      },
      {
       "output_type": "stream",
       "stream": "stdout",
       "text": [
        "Processing interfaces for class glia in file /home/larry/Images/Michelle-Series//21786/s8.Tile_r1-c1_21786me7 1C site2.noMit.tif\n"
       ]
      },
      {
       "output_type": "stream",
       "stream": "stdout",
       "text": [
        "Reading /home/larry/Images/Michelle-Series//21786/s4.Tile_r1-c1_21786me7 1B site1.noMit.tif\n"
       ]
      },
      {
       "output_type": "stream",
       "stream": "stdout",
       "text": [
        "Processing interfaces for class terminal in file /home/larry/Images/Michelle-Series//21786/s4.Tile_r1-c1_21786me7 1B site1.noMit.tif\n"
       ]
      },
      {
       "output_type": "stream",
       "stream": "stdout",
       "text": [
        "Processing interfaces for class glia in file /home/larry/Images/Michelle-Series//21786/s4.Tile_r1-c1_21786me7 1B site1.noMit.tif\n"
       ]
      },
      {
       "output_type": "stream",
       "stream": "stdout",
       "text": [
        "Reading /home/larry/Images/Michelle-Series//21786/s6.Tile_r1-c1_21786me7 1C site1.noMit.tif\n"
       ]
      },
      {
       "output_type": "stream",
       "stream": "stdout",
       "text": [
        "Processing interfaces for class terminal in file /home/larry/Images/Michelle-Series//21786/s6.Tile_r1-c1_21786me7 1C site1.noMit.tif\n"
       ]
      },
      {
       "output_type": "stream",
       "stream": "stdout",
       "text": [
        "Processing interfaces for class glia in file /home/larry/Images/Michelle-Series//21786/s6.Tile_r1-c1_21786me7 1C site1.noMit.tif\n"
       ]
      },
      {
       "output_type": "stream",
       "stream": "stdout",
       "text": [
        "Reading /home/larry/Images/Michelle-Series//21786/s3.Tile_r1-c1_21786me7 1B site1.noMit.tif\n"
       ]
      },
      {
       "output_type": "stream",
       "stream": "stdout",
       "text": [
        "Processing interfaces for class terminal in file /home/larry/Images/Michelle-Series//21786/s3.Tile_r1-c1_21786me7 1B site1.noMit.tif\n"
       ]
      },
      {
       "output_type": "stream",
       "stream": "stdout",
       "text": [
        "Processing interfaces for class glia in file /home/larry/Images/Michelle-Series//21786/s3.Tile_r1-c1_21786me7 1B site1.noMit.tif\n"
       ]
      },
      {
       "output_type": "stream",
       "stream": "stdout",
       "text": [
        "Writing capillary map to  /home/larry/Images/Michelle-Series//21786/capillary_interfaces.map\n"
       ]
      },
      {
       "output_type": "stream",
       "stream": "stdout",
       "text": [
        "Writing 21786 stats to interface_stats21786.csv\n"
       ]
      },
      {
       "output_type": "stream",
       "stream": "stdout",
       "text": [
        "['site_5 23108ME4GRD1Af.noMit.tif', 'site_3 23108ME4GRD1Ad.noMit.tif', 'site_2 23108ME4GRD1Ac.noMit.tif', 'site_9 23108ME4GRD1Ag.noMit.tif', 'site_6 23108ME4GRD1Ah.noMit.tif', 'site_4 23108ME4GRD1Ae.noMit.tif', 'site_8 23108ME4GRD1Ai.noMit.tif', 'site_7 23108ME4GRD1Aj.noMit.tif', 'site_1 23108ME4GRD1Aa.noMit.tif']\n"
       ]
      },
      {
       "output_type": "stream",
       "stream": "stdout",
       "text": [
        "Reading /home/larry/Images/Michelle-Series//23081/site_5 23108ME4GRD1Af.noMit.tif\n"
       ]
      },
      {
       "output_type": "stream",
       "stream": "stdout",
       "text": [
        "Processing interfaces for class terminal in file /home/larry/Images/Michelle-Series//23081/site_5 23108ME4GRD1Af.noMit.tif\n"
       ]
      },
      {
       "output_type": "stream",
       "stream": "stdout",
       "text": [
        "Processing interfaces for class glia in file /home/larry/Images/Michelle-Series//23081/site_5 23108ME4GRD1Af.noMit.tif\n"
       ]
      },
      {
       "output_type": "stream",
       "stream": "stdout",
       "text": [
        "Reading /home/larry/Images/Michelle-Series//23081/site_3 23108ME4GRD1Ad.noMit.tif\n"
       ]
      },
      {
       "output_type": "stream",
       "stream": "stdout",
       "text": [
        "Processing interfaces for class terminal in file /home/larry/Images/Michelle-Series//23081/site_3 23108ME4GRD1Ad.noMit.tif\n"
       ]
      },
      {
       "output_type": "stream",
       "stream": "stdout",
       "text": [
        "Processing interfaces for class glia in file /home/larry/Images/Michelle-Series//23081/site_3 23108ME4GRD1Ad.noMit.tif\n"
       ]
      },
      {
       "output_type": "stream",
       "stream": "stdout",
       "text": [
        "Reading /home/larry/Images/Michelle-Series//23081/site_2 23108ME4GRD1Ac.noMit.tif\n"
       ]
      },
      {
       "output_type": "stream",
       "stream": "stdout",
       "text": [
        "Processing interfaces for class terminal in file /home/larry/Images/Michelle-Series//23081/site_2 23108ME4GRD1Ac.noMit.tif\n"
       ]
      },
      {
       "output_type": "stream",
       "stream": "stdout",
       "text": [
        "Processing interfaces for class glia in file /home/larry/Images/Michelle-Series//23081/site_2 23108ME4GRD1Ac.noMit.tif\n"
       ]
      },
      {
       "output_type": "stream",
       "stream": "stdout",
       "text": [
        "Reading /home/larry/Images/Michelle-Series//23081/site_9 23108ME4GRD1Ag.noMit.tif\n"
       ]
      },
      {
       "output_type": "stream",
       "stream": "stdout",
       "text": [
        "Processing interfaces for class terminal in file /home/larry/Images/Michelle-Series//23081/site_9 23108ME4GRD1Ag.noMit.tif\n"
       ]
      },
      {
       "output_type": "stream",
       "stream": "stdout",
       "text": [
        "Processing interfaces for class glia in file /home/larry/Images/Michelle-Series//23081/site_9 23108ME4GRD1Ag.noMit.tif\n"
       ]
      },
      {
       "output_type": "stream",
       "stream": "stdout",
       "text": [
        "Reading /home/larry/Images/Michelle-Series//23081/site_6 23108ME4GRD1Ah.noMit.tif\n"
       ]
      },
      {
       "output_type": "stream",
       "stream": "stdout",
       "text": [
        "Processing interfaces for class terminal in file /home/larry/Images/Michelle-Series//23081/site_6 23108ME4GRD1Ah.noMit.tif\n"
       ]
      },
      {
       "output_type": "stream",
       "stream": "stdout",
       "text": [
        "Processing interfaces for class glia in file /home/larry/Images/Michelle-Series//23081/site_6 23108ME4GRD1Ah.noMit.tif\n"
       ]
      },
      {
       "output_type": "stream",
       "stream": "stdout",
       "text": [
        "Reading /home/larry/Images/Michelle-Series//23081/site_4 23108ME4GRD1Ae.noMit.tif\n"
       ]
      },
      {
       "output_type": "stream",
       "stream": "stdout",
       "text": [
        "Processing interfaces for class terminal in file /home/larry/Images/Michelle-Series//23081/site_4 23108ME4GRD1Ae.noMit.tif\n"
       ]
      },
      {
       "output_type": "stream",
       "stream": "stdout",
       "text": [
        "Processing interfaces for class glia in file /home/larry/Images/Michelle-Series//23081/site_4 23108ME4GRD1Ae.noMit.tif\n"
       ]
      },
      {
       "output_type": "stream",
       "stream": "stdout",
       "text": [
        "Reading /home/larry/Images/Michelle-Series//23081/site_8 23108ME4GRD1Ai.noMit.tif\n"
       ]
      },
      {
       "output_type": "stream",
       "stream": "stdout",
       "text": [
        "Processing interfaces for class terminal in file /home/larry/Images/Michelle-Series//23081/site_8 23108ME4GRD1Ai.noMit.tif\n"
       ]
      },
      {
       "output_type": "stream",
       "stream": "stdout",
       "text": [
        "Processing interfaces for class glia in file /home/larry/Images/Michelle-Series//23081/site_8 23108ME4GRD1Ai.noMit.tif\n"
       ]
      },
      {
       "output_type": "stream",
       "stream": "stdout",
       "text": [
        "Reading /home/larry/Images/Michelle-Series//23081/site_7 23108ME4GRD1Aj.noMit.tif\n"
       ]
      },
      {
       "output_type": "stream",
       "stream": "stdout",
       "text": [
        "Processing interfaces for class terminal in file /home/larry/Images/Michelle-Series//23081/site_7 23108ME4GRD1Aj.noMit.tif\n"
       ]
      },
      {
       "output_type": "stream",
       "stream": "stdout",
       "text": [
        "Processing interfaces for class glia in file /home/larry/Images/Michelle-Series//23081/site_7 23108ME4GRD1Aj.noMit.tif\n"
       ]
      },
      {
       "output_type": "stream",
       "stream": "stdout",
       "text": [
        "Reading /home/larry/Images/Michelle-Series//23081/site_1 23108ME4GRD1Aa.noMit.tif\n"
       ]
      },
      {
       "output_type": "stream",
       "stream": "stdout",
       "text": [
        "Processing interfaces for class terminal in file /home/larry/Images/Michelle-Series//23081/site_1 23108ME4GRD1Aa.noMit.tif\n"
       ]
      },
      {
       "output_type": "stream",
       "stream": "stdout",
       "text": [
        "Processing interfaces for class glia in file /home/larry/Images/Michelle-Series//23081/site_1 23108ME4GRD1Aa.noMit.tif\n"
       ]
      },
      {
       "output_type": "stream",
       "stream": "stdout",
       "text": [
        "Writing capillary map to  /home/larry/Images/Michelle-Series//23081/capillary_interfaces.map\n"
       ]
      },
      {
       "output_type": "stream",
       "stream": "stdout",
       "text": [
        "Writing 23081 stats to interface_stats23081.csv\n"
       ]
      },
      {
       "output_type": "stream",
       "stream": "stdout",
       "text": [
        "['s7 Tile_r1-c1_24296me19 1B site5.noMit.tif', 's6 Tile_r1-c1_24296me19 1B site5.noMit.tif', 's1 cropped1_Tile_r1-c1_24296me19 1B site4.noMit.tif', 's10 Tile_r1-c1_24296me19 1B site5.noMit.tif', 's5 Tile_r1-c1_24296me19 1B site6.noMit.tif', 's4 site 1_24296me19 1B site4.noMit.tif', 's3 cropped5_Tile_r1-c1_24296me19 1B site6.noMit.tif', 's9 Tile_r1-c1_24296me19 1B site6.noMit.tif', 's2 cropped2_Tile_r1-c1_24296me19 1B site4.noMit.tif']\n"
       ]
      },
      {
       "output_type": "stream",
       "stream": "stdout",
       "text": [
        "Reading /home/larry/Images/Michelle-Series//24296/s7 Tile_r1-c1_24296me19 1B site5.noMit.tif\n"
       ]
      },
      {
       "output_type": "stream",
       "stream": "stdout",
       "text": [
        "Processing interfaces for class terminal in file /home/larry/Images/Michelle-Series//24296/s7 Tile_r1-c1_24296me19 1B site5.noMit.tif\n"
       ]
      },
      {
       "output_type": "stream",
       "stream": "stdout",
       "text": [
        "Processing interfaces for class glia in file /home/larry/Images/Michelle-Series//24296/s7 Tile_r1-c1_24296me19 1B site5.noMit.tif\n"
       ]
      },
      {
       "output_type": "stream",
       "stream": "stdout",
       "text": [
        "Reading /home/larry/Images/Michelle-Series//24296/s6 Tile_r1-c1_24296me19 1B site5.noMit.tif\n"
       ]
      },
      {
       "output_type": "stream",
       "stream": "stdout",
       "text": [
        "Processing interfaces for class terminal in file /home/larry/Images/Michelle-Series//24296/s6 Tile_r1-c1_24296me19 1B site5.noMit.tif\n"
       ]
      },
      {
       "output_type": "stream",
       "stream": "stdout",
       "text": [
        "Processing interfaces for class glia in file /home/larry/Images/Michelle-Series//24296/s6 Tile_r1-c1_24296me19 1B site5.noMit.tif\n"
       ]
      },
      {
       "output_type": "stream",
       "stream": "stdout",
       "text": [
        "Reading /home/larry/Images/Michelle-Series//24296/s1 cropped1_Tile_r1-c1_24296me19 1B site4.noMit.tif\n"
       ]
      },
      {
       "output_type": "stream",
       "stream": "stdout",
       "text": [
        "Processing interfaces for class terminal in file /home/larry/Images/Michelle-Series//24296/s1 cropped1_Tile_r1-c1_24296me19 1B site4.noMit.tif\n"
       ]
      },
      {
       "output_type": "stream",
       "stream": "stdout",
       "text": [
        "Processing interfaces for class glia in file /home/larry/Images/Michelle-Series//24296/s1 cropped1_Tile_r1-c1_24296me19 1B site4.noMit.tif\n"
       ]
      },
      {
       "output_type": "stream",
       "stream": "stdout",
       "text": [
        "Reading /home/larry/Images/Michelle-Series//24296/s10 Tile_r1-c1_24296me19 1B site5.noMit.tif\n"
       ]
      },
      {
       "output_type": "stream",
       "stream": "stdout",
       "text": [
        "Processing interfaces for class terminal in file /home/larry/Images/Michelle-Series//24296/s10 Tile_r1-c1_24296me19 1B site5.noMit.tif\n"
       ]
      },
      {
       "output_type": "stream",
       "stream": "stdout",
       "text": [
        "Processing interfaces for class glia in file /home/larry/Images/Michelle-Series//24296/s10 Tile_r1-c1_24296me19 1B site5.noMit.tif\n"
       ]
      },
      {
       "output_type": "stream",
       "stream": "stdout",
       "text": [
        "Reading /home/larry/Images/Michelle-Series//24296/s5 Tile_r1-c1_24296me19 1B site6.noMit.tif\n"
       ]
      },
      {
       "output_type": "stream",
       "stream": "stdout",
       "text": [
        "Processing interfaces for class terminal in file /home/larry/Images/Michelle-Series//24296/s5 Tile_r1-c1_24296me19 1B site6.noMit.tif\n"
       ]
      },
      {
       "output_type": "stream",
       "stream": "stdout",
       "text": [
        "Processing interfaces for class glia in file /home/larry/Images/Michelle-Series//24296/s5 Tile_r1-c1_24296me19 1B site6.noMit.tif\n"
       ]
      },
      {
       "output_type": "stream",
       "stream": "stdout",
       "text": [
        "Reading /home/larry/Images/Michelle-Series//24296/s4 site 1_24296me19 1B site4.noMit.tif\n"
       ]
      },
      {
       "output_type": "stream",
       "stream": "stdout",
       "text": [
        "Processing interfaces for class terminal in file /home/larry/Images/Michelle-Series//24296/s4 site 1_24296me19 1B site4.noMit.tif\n"
       ]
      },
      {
       "output_type": "stream",
       "stream": "stdout",
       "text": [
        "Processing interfaces for class glia in file /home/larry/Images/Michelle-Series//24296/s4 site 1_24296me19 1B site4.noMit.tif\n"
       ]
      },
      {
       "output_type": "stream",
       "stream": "stdout",
       "text": [
        "Reading /home/larry/Images/Michelle-Series//24296/s3 cropped5_Tile_r1-c1_24296me19 1B site6.noMit.tif\n"
       ]
      },
      {
       "output_type": "stream",
       "stream": "stdout",
       "text": [
        "Processing interfaces for class terminal in file /home/larry/Images/Michelle-Series//24296/s3 cropped5_Tile_r1-c1_24296me19 1B site6.noMit.tif\n"
       ]
      },
      {
       "output_type": "stream",
       "stream": "stdout",
       "text": [
        "Processing interfaces for class glia in file /home/larry/Images/Michelle-Series//24296/s3 cropped5_Tile_r1-c1_24296me19 1B site6.noMit.tif\n"
       ]
      },
      {
       "output_type": "stream",
       "stream": "stdout",
       "text": [
        "Reading /home/larry/Images/Michelle-Series//24296/s9 Tile_r1-c1_24296me19 1B site6.noMit.tif\n"
       ]
      },
      {
       "output_type": "stream",
       "stream": "stdout",
       "text": [
        "Processing interfaces for class terminal in file /home/larry/Images/Michelle-Series//24296/s9 Tile_r1-c1_24296me19 1B site6.noMit.tif\n"
       ]
      },
      {
       "output_type": "stream",
       "stream": "stdout",
       "text": [
        "Processing interfaces for class glia in file /home/larry/Images/Michelle-Series//24296/s9 Tile_r1-c1_24296me19 1B site6.noMit.tif\n"
       ]
      },
      {
       "output_type": "stream",
       "stream": "stdout",
       "text": [
        "Reading /home/larry/Images/Michelle-Series//24296/s2 cropped2_Tile_r1-c1_24296me19 1B site4.noMit.tif\n"
       ]
      },
      {
       "output_type": "stream",
       "stream": "stdout",
       "text": [
        "Processing interfaces for class terminal in file /home/larry/Images/Michelle-Series//24296/s2 cropped2_Tile_r1-c1_24296me19 1B site4.noMit.tif\n"
       ]
      },
      {
       "output_type": "stream",
       "stream": "stdout",
       "text": [
        "Processing interfaces for class glia in file /home/larry/Images/Michelle-Series//24296/s2 cropped2_Tile_r1-c1_24296me19 1B site4.noMit.tif\n"
       ]
      },
      {
       "output_type": "stream",
       "stream": "stdout",
       "text": [
        "Writing capillary map to  /home/larry/Images/Michelle-Series//24296/capillary_interfaces.map\n"
       ]
      },
      {
       "output_type": "stream",
       "stream": "stdout",
       "text": [
        "Writing 24296 stats to interface_stats24296.csv\n"
       ]
      },
      {
       "output_type": "stream",
       "stream": "stdout",
       "text": [
        "['site 2_24827me6 noMit.tif', 'site 8_24827me6a noMit.tif', 'site 10_24827me6a noMit.tif', 'site 1_24827me6 noMit.tif', 'site 4_24827me6 noMit.tif', 'site 3_24827me6 noMit.tif', 'site 9_24827me6a noMit.tif', 'site 6_24827me6a noMit.tif', 'site 11_24827me6a.noMit.tif', 'site 5_24827me6a noMit.tif']\n"
       ]
      },
      {
       "output_type": "stream",
       "stream": "stdout",
       "text": [
        "Reading /home/larry/Images/Michelle-Series//24827/site 2_24827me6 noMit.tif\n"
       ]
      },
      {
       "output_type": "stream",
       "stream": "stdout",
       "text": [
        "Processing interfaces for class terminal in file /home/larry/Images/Michelle-Series//24827/site 2_24827me6 noMit.tif\n"
       ]
      },
      {
       "output_type": "stream",
       "stream": "stdout",
       "text": [
        "Processing interfaces for class glia in file /home/larry/Images/Michelle-Series//24827/site 2_24827me6 noMit.tif\n"
       ]
      },
      {
       "output_type": "stream",
       "stream": "stdout",
       "text": [
        "Reading /home/larry/Images/Michelle-Series//24827/site 8_24827me6a noMit.tif\n"
       ]
      },
      {
       "output_type": "stream",
       "stream": "stdout",
       "text": [
        "Processing interfaces for class terminal in file /home/larry/Images/Michelle-Series//24827/site 8_24827me6a noMit.tif\n"
       ]
      },
      {
       "output_type": "stream",
       "stream": "stdout",
       "text": [
        "Processing interfaces for class glia in file /home/larry/Images/Michelle-Series//24827/site 8_24827me6a noMit.tif\n"
       ]
      },
      {
       "output_type": "stream",
       "stream": "stdout",
       "text": [
        "Reading /home/larry/Images/Michelle-Series//24827/site 10_24827me6a noMit.tif\n"
       ]
      },
      {
       "output_type": "stream",
       "stream": "stdout",
       "text": [
        "Processing interfaces for class terminal in file /home/larry/Images/Michelle-Series//24827/site 10_24827me6a noMit.tif\n"
       ]
      },
      {
       "output_type": "stream",
       "stream": "stdout",
       "text": [
        "Processing interfaces for class glia in file /home/larry/Images/Michelle-Series//24827/site 10_24827me6a noMit.tif\n"
       ]
      },
      {
       "output_type": "stream",
       "stream": "stdout",
       "text": [
        "Reading /home/larry/Images/Michelle-Series//24827/site 1_24827me6 noMit.tif\n"
       ]
      },
      {
       "output_type": "stream",
       "stream": "stdout",
       "text": [
        "Processing interfaces for class terminal in file /home/larry/Images/Michelle-Series//24827/site 1_24827me6 noMit.tif\n"
       ]
      },
      {
       "output_type": "stream",
       "stream": "stdout",
       "text": [
        "Processing interfaces for class glia in file /home/larry/Images/Michelle-Series//24827/site 1_24827me6 noMit.tif\n"
       ]
      },
      {
       "output_type": "stream",
       "stream": "stdout",
       "text": [
        "Reading /home/larry/Images/Michelle-Series//24827/site 4_24827me6 noMit.tif\n"
       ]
      },
      {
       "output_type": "stream",
       "stream": "stdout",
       "text": [
        "Processing interfaces for class terminal in file /home/larry/Images/Michelle-Series//24827/site 4_24827me6 noMit.tif\n"
       ]
      },
      {
       "output_type": "stream",
       "stream": "stdout",
       "text": [
        "Processing interfaces for class glia in file /home/larry/Images/Michelle-Series//24827/site 4_24827me6 noMit.tif\n"
       ]
      },
      {
       "output_type": "stream",
       "stream": "stdout",
       "text": [
        "Reading /home/larry/Images/Michelle-Series//24827/site 3_24827me6 noMit.tif\n"
       ]
      },
      {
       "output_type": "stream",
       "stream": "stdout",
       "text": [
        "Processing interfaces for class terminal in file /home/larry/Images/Michelle-Series//24827/site 3_24827me6 noMit.tif\n"
       ]
      },
      {
       "output_type": "stream",
       "stream": "stdout",
       "text": [
        "Processing interfaces for class glia in file /home/larry/Images/Michelle-Series//24827/site 3_24827me6 noMit.tif\n"
       ]
      },
      {
       "output_type": "stream",
       "stream": "stdout",
       "text": [
        "Reading /home/larry/Images/Michelle-Series//24827/site 9_24827me6a noMit.tif\n"
       ]
      },
      {
       "output_type": "stream",
       "stream": "stdout",
       "text": [
        "Processing interfaces for class terminal in file /home/larry/Images/Michelle-Series//24827/site 9_24827me6a noMit.tif\n"
       ]
      },
      {
       "output_type": "stream",
       "stream": "stdout",
       "text": [
        "Processing interfaces for class glia in file /home/larry/Images/Michelle-Series//24827/site 9_24827me6a noMit.tif\n"
       ]
      },
      {
       "output_type": "stream",
       "stream": "stdout",
       "text": [
        "Reading /home/larry/Images/Michelle-Series//24827/site 6_24827me6a noMit.tif\n"
       ]
      },
      {
       "output_type": "stream",
       "stream": "stdout",
       "text": [
        "Processing interfaces for class terminal in file /home/larry/Images/Michelle-Series//24827/site 6_24827me6a noMit.tif\n"
       ]
      },
      {
       "output_type": "stream",
       "stream": "stdout",
       "text": [
        "Processing interfaces for class glia in file /home/larry/Images/Michelle-Series//24827/site 6_24827me6a noMit.tif\n"
       ]
      },
      {
       "output_type": "stream",
       "stream": "stdout",
       "text": [
        "Reading /home/larry/Images/Michelle-Series//24827/site 11_24827me6a.noMit.tif\n"
       ]
      },
      {
       "output_type": "stream",
       "stream": "stdout",
       "text": [
        "Processing interfaces for class terminal in file /home/larry/Images/Michelle-Series//24827/site 11_24827me6a.noMit.tif\n"
       ]
      },
      {
       "output_type": "stream",
       "stream": "stdout",
       "text": [
        "Processing interfaces for class glia in file /home/larry/Images/Michelle-Series//24827/site 11_24827me6a.noMit.tif\n"
       ]
      },
      {
       "output_type": "stream",
       "stream": "stdout",
       "text": [
        "Reading /home/larry/Images/Michelle-Series//24827/site 5_24827me6a noMit.tif\n"
       ]
      },
      {
       "output_type": "stream",
       "stream": "stdout",
       "text": [
        "Processing interfaces for class terminal in file /home/larry/Images/Michelle-Series//24827/site 5_24827me6a noMit.tif\n"
       ]
      },
      {
       "output_type": "stream",
       "stream": "stdout",
       "text": [
        "Processing interfaces for class glia in file /home/larry/Images/Michelle-Series//24827/site 5_24827me6a noMit.tif\n"
       ]
      },
      {
       "output_type": "stream",
       "stream": "stdout",
       "text": [
        "Writing capillary map to  /home/larry/Images/Michelle-Series//24827/capillary_interfaces.map\n"
       ]
      },
      {
       "output_type": "stream",
       "stream": "stdout",
       "text": [
        "Writing 24827 stats to interface_stats24827.csv\n"
       ]
      },
      {
       "output_type": "stream",
       "stream": "stdout",
       "text": [
        "['s10 24836me2.1C pos2.noMit.tif', 's6 24836me2.1C pos1 crop.noMit.tif', 's3.noMit.tif', 's8 24836me2.1C pos1 crop.noMit.tif', 's9 24836me2.1C pos1 crop.noMit.tif', 's4.noMit.tif', 's11 24836me2.1C pos2.noMit.tif', 's7 24836me2.1C pos1 crop.noMit.tif', 's5 24836me2.1C pos1.noMit.tif', 's2.noMit.tif']\n"
       ]
      },
      {
       "output_type": "stream",
       "stream": "stdout",
       "text": [
        "Reading /home/larry/Images/Michelle-Series//24836/s10 24836me2.1C pos2.noMit.tif\n"
       ]
      },
      {
       "output_type": "stream",
       "stream": "stdout",
       "text": [
        "Processing interfaces for class terminal in file /home/larry/Images/Michelle-Series//24836/s10 24836me2.1C pos2.noMit.tif\n"
       ]
      },
      {
       "output_type": "stream",
       "stream": "stdout",
       "text": [
        "Processing interfaces for class glia in file /home/larry/Images/Michelle-Series//24836/s10 24836me2.1C pos2.noMit.tif\n"
       ]
      },
      {
       "output_type": "stream",
       "stream": "stdout",
       "text": [
        "Reading /home/larry/Images/Michelle-Series//24836/s6 24836me2.1C pos1 crop.noMit.tif\n"
       ]
      },
      {
       "output_type": "stream",
       "stream": "stdout",
       "text": [
        "Processing interfaces for class terminal in file /home/larry/Images/Michelle-Series//24836/s6 24836me2.1C pos1 crop.noMit.tif\n"
       ]
      },
      {
       "output_type": "stream",
       "stream": "stdout",
       "text": [
        "Processing interfaces for class glia in file /home/larry/Images/Michelle-Series//24836/s6 24836me2.1C pos1 crop.noMit.tif\n"
       ]
      },
      {
       "output_type": "stream",
       "stream": "stdout",
       "text": [
        "Reading /home/larry/Images/Michelle-Series//24836/s3.noMit.tif\n"
       ]
      },
      {
       "output_type": "stream",
       "stream": "stdout",
       "text": [
        "Processing interfaces for class terminal in file /home/larry/Images/Michelle-Series//24836/s3.noMit.tif\n"
       ]
      },
      {
       "output_type": "stream",
       "stream": "stdout",
       "text": [
        "Processing interfaces for class glia in file /home/larry/Images/Michelle-Series//24836/s3.noMit.tif\n"
       ]
      },
      {
       "output_type": "stream",
       "stream": "stdout",
       "text": [
        "Reading /home/larry/Images/Michelle-Series//24836/s8 24836me2.1C pos1 crop.noMit.tif\n"
       ]
      },
      {
       "output_type": "stream",
       "stream": "stdout",
       "text": [
        "Processing interfaces for class terminal in file /home/larry/Images/Michelle-Series//24836/s8 24836me2.1C pos1 crop.noMit.tif\n"
       ]
      },
      {
       "output_type": "stream",
       "stream": "stdout",
       "text": [
        "Processing interfaces for class glia in file /home/larry/Images/Michelle-Series//24836/s8 24836me2.1C pos1 crop.noMit.tif\n"
       ]
      },
      {
       "output_type": "stream",
       "stream": "stdout",
       "text": [
        "Reading /home/larry/Images/Michelle-Series//24836/s9 24836me2.1C pos1 crop.noMit.tif\n"
       ]
      },
      {
       "output_type": "stream",
       "stream": "stdout",
       "text": [
        "Processing interfaces for class terminal in file /home/larry/Images/Michelle-Series//24836/s9 24836me2.1C pos1 crop.noMit.tif\n"
       ]
      },
      {
       "output_type": "stream",
       "stream": "stdout",
       "text": [
        "Processing interfaces for class glia in file /home/larry/Images/Michelle-Series//24836/s9 24836me2.1C pos1 crop.noMit.tif\n"
       ]
      },
      {
       "output_type": "stream",
       "stream": "stdout",
       "text": [
        "Reading /home/larry/Images/Michelle-Series//24836/s4.noMit.tif\n"
       ]
      },
      {
       "output_type": "stream",
       "stream": "stdout",
       "text": [
        "Processing interfaces for class terminal in file /home/larry/Images/Michelle-Series//24836/s4.noMit.tif\n"
       ]
      },
      {
       "output_type": "stream",
       "stream": "stdout",
       "text": [
        "Processing interfaces for class glia in file /home/larry/Images/Michelle-Series//24836/s4.noMit.tif\n"
       ]
      },
      {
       "output_type": "stream",
       "stream": "stdout",
       "text": [
        "Reading /home/larry/Images/Michelle-Series//24836/s11 24836me2.1C pos2.noMit.tif\n"
       ]
      },
      {
       "output_type": "stream",
       "stream": "stdout",
       "text": [
        "Processing interfaces for class terminal in file /home/larry/Images/Michelle-Series//24836/s11 24836me2.1C pos2.noMit.tif\n"
       ]
      },
      {
       "output_type": "stream",
       "stream": "stdout",
       "text": [
        "Processing interfaces for class glia in file /home/larry/Images/Michelle-Series//24836/s11 24836me2.1C pos2.noMit.tif\n"
       ]
      },
      {
       "output_type": "stream",
       "stream": "stdout",
       "text": [
        "Reading /home/larry/Images/Michelle-Series//24836/s7 24836me2.1C pos1 crop.noMit.tif\n"
       ]
      },
      {
       "output_type": "stream",
       "stream": "stdout",
       "text": [
        "Processing interfaces for class terminal in file /home/larry/Images/Michelle-Series//24836/s7 24836me2.1C pos1 crop.noMit.tif\n"
       ]
      },
      {
       "output_type": "stream",
       "stream": "stdout",
       "text": [
        "Processing interfaces for class glia in file /home/larry/Images/Michelle-Series//24836/s7 24836me2.1C pos1 crop.noMit.tif\n"
       ]
      },
      {
       "output_type": "stream",
       "stream": "stdout",
       "text": [
        "Reading /home/larry/Images/Michelle-Series//24836/s5 24836me2.1C pos1.noMit.tif\n"
       ]
      },
      {
       "output_type": "stream",
       "stream": "stdout",
       "text": [
        "Processing interfaces for class terminal in file /home/larry/Images/Michelle-Series//24836/s5 24836me2.1C pos1.noMit.tif\n"
       ]
      },
      {
       "output_type": "stream",
       "stream": "stdout",
       "text": [
        "Processing interfaces for class glia in file /home/larry/Images/Michelle-Series//24836/s5 24836me2.1C pos1.noMit.tif\n"
       ]
      },
      {
       "output_type": "stream",
       "stream": "stdout",
       "text": [
        "Reading /home/larry/Images/Michelle-Series//24836/s2.noMit.tif\n"
       ]
      },
      {
       "output_type": "stream",
       "stream": "stdout",
       "text": [
        "Processing interfaces for class terminal in file /home/larry/Images/Michelle-Series//24836/s2.noMit.tif\n"
       ]
      },
      {
       "output_type": "stream",
       "stream": "stdout",
       "text": [
        "Processing interfaces for class glia in file /home/larry/Images/Michelle-Series//24836/s2.noMit.tif\n"
       ]
      },
      {
       "output_type": "stream",
       "stream": "stdout",
       "text": [
        "Writing capillary map to  /home/larry/Images/Michelle-Series//24836/capillary_interfaces.map\n"
       ]
      },
      {
       "output_type": "stream",
       "stream": "stdout",
       "text": [
        "Writing 24836 stats to interface_stats24836.csv\n"
       ]
      },
      {
       "output_type": "stream",
       "stream": "stdout",
       "text": [
        "['s6 site 4 2k wMit32567ME4_r1-c2_g06s2c.noMit.tif', 's8 32567ME4_r1-c1_g06s1FIJIadjustedb.noMit.tif', 's4 32567ME4_r1-c1_g06s1FIJIadjusteda_2k_site2.noMit.tif', 's5 site 3 2k 32567ME4_r1-c1_g06s2a.noMit.tif', 's7 32567ME4_r1-c1_g06s1FIJIadjustedb_site2_2k.noMit.tif', 's1 32567ME4_r1-c1_g06s1FIJIadjusteda_2k_site1.noMit.tif', 's3 32567ME4_r1-c1_g06s1FIJIadjusteda_2k_site1.noMit.tif', 's9 32567ME4_r1-c1_g06s1FIJIadjustedc.noMit.tif', 's2 site 1 2k 32567ME4_r2-c2_g06s2b.noMit.tif', 's10 32567ME4_r1-c1_g06s1FIJIadjustedc.noMit.tif']\n"
       ]
      },
      {
       "output_type": "stream",
       "stream": "stdout",
       "text": [
        "Reading /home/larry/Images/Michelle-Series//32567/s6 site 4 2k wMit32567ME4_r1-c2_g06s2c.noMit.tif\n"
       ]
      },
      {
       "output_type": "stream",
       "stream": "stdout",
       "text": [
        "Processing interfaces for class terminal in file /home/larry/Images/Michelle-Series//32567/s6 site 4 2k wMit32567ME4_r1-c2_g06s2c.noMit.tif\n"
       ]
      },
      {
       "output_type": "stream",
       "stream": "stdout",
       "text": [
        "Processing interfaces for class glia in file /home/larry/Images/Michelle-Series//32567/s6 site 4 2k wMit32567ME4_r1-c2_g06s2c.noMit.tif\n"
       ]
      },
      {
       "output_type": "stream",
       "stream": "stdout",
       "text": [
        "Reading /home/larry/Images/Michelle-Series//32567/s8 32567ME4_r1-c1_g06s1FIJIadjustedb.noMit.tif\n"
       ]
      },
      {
       "output_type": "stream",
       "stream": "stdout",
       "text": [
        "Processing interfaces for class terminal in file /home/larry/Images/Michelle-Series//32567/s8 32567ME4_r1-c1_g06s1FIJIadjustedb.noMit.tif\n"
       ]
      },
      {
       "output_type": "stream",
       "stream": "stdout",
       "text": [
        "Processing interfaces for class glia in file /home/larry/Images/Michelle-Series//32567/s8 32567ME4_r1-c1_g06s1FIJIadjustedb.noMit.tif\n"
       ]
      },
      {
       "output_type": "stream",
       "stream": "stdout",
       "text": [
        "Reading /home/larry/Images/Michelle-Series//32567/s4 32567ME4_r1-c1_g06s1FIJIadjusteda_2k_site2.noMit.tif\n"
       ]
      },
      {
       "output_type": "stream",
       "stream": "stdout",
       "text": [
        "Processing interfaces for class terminal in file /home/larry/Images/Michelle-Series//32567/s4 32567ME4_r1-c1_g06s1FIJIadjusteda_2k_site2.noMit.tif\n"
       ]
      },
      {
       "output_type": "stream",
       "stream": "stdout",
       "text": [
        "Processing interfaces for class glia in file /home/larry/Images/Michelle-Series//32567/s4 32567ME4_r1-c1_g06s1FIJIadjusteda_2k_site2.noMit.tif\n"
       ]
      },
      {
       "output_type": "stream",
       "stream": "stdout",
       "text": [
        "Reading /home/larry/Images/Michelle-Series//32567/s5 site 3 2k 32567ME4_r1-c1_g06s2a.noMit.tif\n"
       ]
      },
      {
       "output_type": "stream",
       "stream": "stdout",
       "text": [
        "Processing interfaces for class terminal in file /home/larry/Images/Michelle-Series//32567/s5 site 3 2k 32567ME4_r1-c1_g06s2a.noMit.tif\n"
       ]
      },
      {
       "output_type": "stream",
       "stream": "stdout",
       "text": [
        "Processing interfaces for class glia in file /home/larry/Images/Michelle-Series//32567/s5 site 3 2k 32567ME4_r1-c1_g06s2a.noMit.tif\n"
       ]
      },
      {
       "output_type": "stream",
       "stream": "stdout",
       "text": [
        "Reading /home/larry/Images/Michelle-Series//32567/s7 32567ME4_r1-c1_g06s1FIJIadjustedb_site2_2k.noMit.tif\n"
       ]
      },
      {
       "output_type": "stream",
       "stream": "stdout",
       "text": [
        "Processing interfaces for class terminal in file /home/larry/Images/Michelle-Series//32567/s7 32567ME4_r1-c1_g06s1FIJIadjustedb_site2_2k.noMit.tif\n"
       ]
      },
      {
       "output_type": "stream",
       "stream": "stdout",
       "text": [
        "Processing interfaces for class glia in file /home/larry/Images/Michelle-Series//32567/s7 32567ME4_r1-c1_g06s1FIJIadjustedb_site2_2k.noMit.tif\n"
       ]
      },
      {
       "output_type": "stream",
       "stream": "stdout",
       "text": [
        "Reading /home/larry/Images/Michelle-Series//32567/s1 32567ME4_r1-c1_g06s1FIJIadjusteda_2k_site1.noMit.tif\n"
       ]
      },
      {
       "output_type": "stream",
       "stream": "stdout",
       "text": [
        "Processing interfaces for class terminal in file /home/larry/Images/Michelle-Series//32567/s1 32567ME4_r1-c1_g06s1FIJIadjusteda_2k_site1.noMit.tif\n"
       ]
      },
      {
       "output_type": "stream",
       "stream": "stdout",
       "text": [
        "Processing interfaces for class glia in file /home/larry/Images/Michelle-Series//32567/s1 32567ME4_r1-c1_g06s1FIJIadjusteda_2k_site1.noMit.tif\n"
       ]
      },
      {
       "output_type": "stream",
       "stream": "stdout",
       "text": [
        "Reading /home/larry/Images/Michelle-Series//32567/s3 32567ME4_r1-c1_g06s1FIJIadjusteda_2k_site1.noMit.tif\n"
       ]
      },
      {
       "output_type": "stream",
       "stream": "stdout",
       "text": [
        "Processing interfaces for class terminal in file /home/larry/Images/Michelle-Series//32567/s3 32567ME4_r1-c1_g06s1FIJIadjusteda_2k_site1.noMit.tif\n"
       ]
      },
      {
       "output_type": "stream",
       "stream": "stdout",
       "text": [
        "Processing interfaces for class glia in file /home/larry/Images/Michelle-Series//32567/s3 32567ME4_r1-c1_g06s1FIJIadjusteda_2k_site1.noMit.tif\n"
       ]
      },
      {
       "output_type": "stream",
       "stream": "stdout",
       "text": [
        "Reading /home/larry/Images/Michelle-Series//32567/s9 32567ME4_r1-c1_g06s1FIJIadjustedc.noMit.tif\n"
       ]
      },
      {
       "output_type": "stream",
       "stream": "stdout",
       "text": [
        "Processing interfaces for class terminal in file /home/larry/Images/Michelle-Series//32567/s9 32567ME4_r1-c1_g06s1FIJIadjustedc.noMit.tif\n"
       ]
      },
      {
       "output_type": "stream",
       "stream": "stdout",
       "text": [
        "Processing interfaces for class glia in file /home/larry/Images/Michelle-Series//32567/s9 32567ME4_r1-c1_g06s1FIJIadjustedc.noMit.tif\n"
       ]
      },
      {
       "output_type": "stream",
       "stream": "stdout",
       "text": [
        "Reading /home/larry/Images/Michelle-Series//32567/s2 site 1 2k 32567ME4_r2-c2_g06s2b.noMit.tif\n"
       ]
      },
      {
       "output_type": "stream",
       "stream": "stdout",
       "text": [
        "Processing interfaces for class terminal in file /home/larry/Images/Michelle-Series//32567/s2 site 1 2k 32567ME4_r2-c2_g06s2b.noMit.tif\n"
       ]
      },
      {
       "output_type": "stream",
       "stream": "stdout",
       "text": [
        "Processing interfaces for class glia in file /home/larry/Images/Michelle-Series//32567/s2 site 1 2k 32567ME4_r2-c2_g06s2b.noMit.tif\n"
       ]
      },
      {
       "output_type": "stream",
       "stream": "stdout",
       "text": [
        "Reading /home/larry/Images/Michelle-Series//32567/s10 32567ME4_r1-c1_g06s1FIJIadjustedc.noMit.tif\n"
       ]
      },
      {
       "output_type": "stream",
       "stream": "stdout",
       "text": [
        "Processing interfaces for class terminal in file /home/larry/Images/Michelle-Series//32567/s10 32567ME4_r1-c1_g06s1FIJIadjustedc.noMit.tif\n"
       ]
      },
      {
       "output_type": "stream",
       "stream": "stdout",
       "text": [
        "Processing interfaces for class glia in file /home/larry/Images/Michelle-Series//32567/s10 32567ME4_r1-c1_g06s1FIJIadjustedc.noMit.tif\n"
       ]
      },
      {
       "output_type": "stream",
       "stream": "stdout",
       "text": [
        "Writing capillary map to  /home/larry/Images/Michelle-Series//32567/capillary_interfaces.map\n"
       ]
      },
      {
       "output_type": "stream",
       "stream": "stdout",
       "text": [
        "Writing 32567 stats to interface_stats32567.csv\n"
       ]
      },
      {
       "output_type": "stream",
       "stream": "stdout",
       "text": [
        "['site6_ 32448ME4grd2Ai noMit.tif', 'site1_ 32448ME4grd2Aa noMit.tif', 'site3_ 32448ME4grd2Ad noMit.tif', 'site2_ 32448ME4grd2Ab noMit.tif', 'site5_ 32448ME4grd2Ag noMit.tif', 'site10_ 32448ME4grd2An noMit.tif', 'site9_ 32448ME4grd2Am noMit.tif', 'site4_ 32448ME4grd2Af noMit.tif', 'site7_ 32448ME4grd2Aj noMit.tif', 'site8_ 32448ME4grd2Ak noMit.tif']\n"
       ]
      },
      {
       "output_type": "stream",
       "stream": "stdout",
       "text": [
        "Reading /home/larry/Images/Michelle-Series//32448/site6_ 32448ME4grd2Ai noMit.tif\n"
       ]
      },
      {
       "output_type": "stream",
       "stream": "stdout",
       "text": [
        "Processing interfaces for class terminal in file /home/larry/Images/Michelle-Series//32448/site6_ 32448ME4grd2Ai noMit.tif\n"
       ]
      },
      {
       "output_type": "stream",
       "stream": "stdout",
       "text": [
        "Processing interfaces for class glia in file /home/larry/Images/Michelle-Series//32448/site6_ 32448ME4grd2Ai noMit.tif\n"
       ]
      },
      {
       "output_type": "stream",
       "stream": "stdout",
       "text": [
        "Reading /home/larry/Images/Michelle-Series//32448/site1_ 32448ME4grd2Aa noMit.tif\n"
       ]
      },
      {
       "output_type": "stream",
       "stream": "stdout",
       "text": [
        "Processing interfaces for class terminal in file /home/larry/Images/Michelle-Series//32448/site1_ 32448ME4grd2Aa noMit.tif\n"
       ]
      },
      {
       "output_type": "stream",
       "stream": "stdout",
       "text": [
        "Processing interfaces for class glia in file /home/larry/Images/Michelle-Series//32448/site1_ 32448ME4grd2Aa noMit.tif\n"
       ]
      },
      {
       "output_type": "stream",
       "stream": "stdout",
       "text": [
        "Reading /home/larry/Images/Michelle-Series//32448/site3_ 32448ME4grd2Ad noMit.tif\n"
       ]
      },
      {
       "output_type": "stream",
       "stream": "stdout",
       "text": [
        "Processing interfaces for class terminal in file /home/larry/Images/Michelle-Series//32448/site3_ 32448ME4grd2Ad noMit.tif\n"
       ]
      },
      {
       "output_type": "stream",
       "stream": "stdout",
       "text": [
        "Processing interfaces for class glia in file /home/larry/Images/Michelle-Series//32448/site3_ 32448ME4grd2Ad noMit.tif\n"
       ]
      },
      {
       "output_type": "stream",
       "stream": "stdout",
       "text": [
        "Reading /home/larry/Images/Michelle-Series//32448/site2_ 32448ME4grd2Ab noMit.tif\n"
       ]
      },
      {
       "output_type": "stream",
       "stream": "stdout",
       "text": [
        "Processing interfaces for class terminal in file /home/larry/Images/Michelle-Series//32448/site2_ 32448ME4grd2Ab noMit.tif\n"
       ]
      },
      {
       "output_type": "stream",
       "stream": "stdout",
       "text": [
        "Processing interfaces for class glia in file /home/larry/Images/Michelle-Series//32448/site2_ 32448ME4grd2Ab noMit.tif\n"
       ]
      },
      {
       "output_type": "stream",
       "stream": "stdout",
       "text": [
        "Reading /home/larry/Images/Michelle-Series//32448/site5_ 32448ME4grd2Ag noMit.tif\n"
       ]
      },
      {
       "output_type": "stream",
       "stream": "stdout",
       "text": [
        "Processing interfaces for class terminal in file /home/larry/Images/Michelle-Series//32448/site5_ 32448ME4grd2Ag noMit.tif\n"
       ]
      },
      {
       "output_type": "stream",
       "stream": "stdout",
       "text": [
        "Processing interfaces for class glia in file /home/larry/Images/Michelle-Series//32448/site5_ 32448ME4grd2Ag noMit.tif\n"
       ]
      },
      {
       "output_type": "stream",
       "stream": "stdout",
       "text": [
        "Reading /home/larry/Images/Michelle-Series//32448/site10_ 32448ME4grd2An noMit.tif\n"
       ]
      },
      {
       "output_type": "stream",
       "stream": "stdout",
       "text": [
        "Processing interfaces for class terminal in file /home/larry/Images/Michelle-Series//32448/site10_ 32448ME4grd2An noMit.tif\n"
       ]
      },
      {
       "output_type": "stream",
       "stream": "stdout",
       "text": [
        "Processing interfaces for class glia in file /home/larry/Images/Michelle-Series//32448/site10_ 32448ME4grd2An noMit.tif\n"
       ]
      },
      {
       "output_type": "stream",
       "stream": "stdout",
       "text": [
        "Reading /home/larry/Images/Michelle-Series//32448/site9_ 32448ME4grd2Am noMit.tif\n"
       ]
      },
      {
       "output_type": "stream",
       "stream": "stdout",
       "text": [
        "Processing interfaces for class terminal in file /home/larry/Images/Michelle-Series//32448/site9_ 32448ME4grd2Am noMit.tif\n"
       ]
      },
      {
       "output_type": "stream",
       "stream": "stdout",
       "text": [
        "Processing interfaces for class glia in file /home/larry/Images/Michelle-Series//32448/site9_ 32448ME4grd2Am noMit.tif\n"
       ]
      },
      {
       "output_type": "stream",
       "stream": "stdout",
       "text": [
        "Reading /home/larry/Images/Michelle-Series//32448/site4_ 32448ME4grd2Af noMit.tif\n"
       ]
      },
      {
       "output_type": "stream",
       "stream": "stdout",
       "text": [
        "Processing interfaces for class terminal in file /home/larry/Images/Michelle-Series//32448/site4_ 32448ME4grd2Af noMit.tif\n"
       ]
      },
      {
       "output_type": "stream",
       "stream": "stdout",
       "text": [
        "Processing interfaces for class glia in file /home/larry/Images/Michelle-Series//32448/site4_ 32448ME4grd2Af noMit.tif\n"
       ]
      },
      {
       "output_type": "stream",
       "stream": "stdout",
       "text": [
        "Reading /home/larry/Images/Michelle-Series//32448/site7_ 32448ME4grd2Aj noMit.tif\n"
       ]
      },
      {
       "output_type": "stream",
       "stream": "stdout",
       "text": [
        "Processing interfaces for class terminal in file /home/larry/Images/Michelle-Series//32448/site7_ 32448ME4grd2Aj noMit.tif\n"
       ]
      },
      {
       "output_type": "stream",
       "stream": "stdout",
       "text": [
        "Processing interfaces for class glia in file /home/larry/Images/Michelle-Series//32448/site7_ 32448ME4grd2Aj noMit.tif\n"
       ]
      },
      {
       "output_type": "stream",
       "stream": "stdout",
       "text": [
        "Reading /home/larry/Images/Michelle-Series//32448/site8_ 32448ME4grd2Ak noMit.tif\n"
       ]
      },
      {
       "output_type": "stream",
       "stream": "stdout",
       "text": [
        "Processing interfaces for class terminal in file /home/larry/Images/Michelle-Series//32448/site8_ 32448ME4grd2Ak noMit.tif\n"
       ]
      },
      {
       "output_type": "stream",
       "stream": "stdout",
       "text": [
        "Processing interfaces for class glia in file /home/larry/Images/Michelle-Series//32448/site8_ 32448ME4grd2Ak noMit.tif\n"
       ]
      },
      {
       "output_type": "stream",
       "stream": "stdout",
       "text": [
        "Writing capillary map to  /home/larry/Images/Michelle-Series//32448/capillary_interfaces.map\n"
       ]
      },
      {
       "output_type": "stream",
       "stream": "stdout",
       "text": [
        "Writing 32448 stats to interface_stats32448.csv\n"
       ]
      },
      {
       "output_type": "stream",
       "stream": "stdout",
       "text": [
        "['site 1_28392site1a.noMit.tif', 'site 8_28392site3.noMit.tif', 'site 2_28392site1a noMit.tif', 'site 4_28392site2 noMit.tif', 'site 3_28392site1a.noMit.tif', 'site 6_28392site3.noMit.tif', 'site 7_28392site3.noMit.tif', 'site 9_28392site3.noMit.tif', 'site 5_28392site2.noMit.tif']\n"
       ]
      },
      {
       "output_type": "stream",
       "stream": "stdout",
       "text": [
        "Reading /home/larry/Images/Michelle-Series//28392/site 1_28392site1a.noMit.tif\n"
       ]
      },
      {
       "output_type": "stream",
       "stream": "stdout",
       "text": [
        "Processing interfaces for class terminal in file /home/larry/Images/Michelle-Series//28392/site 1_28392site1a.noMit.tif\n"
       ]
      },
      {
       "output_type": "stream",
       "stream": "stdout",
       "text": [
        "Processing interfaces for class glia in file /home/larry/Images/Michelle-Series//28392/site 1_28392site1a.noMit.tif\n"
       ]
      },
      {
       "output_type": "stream",
       "stream": "stdout",
       "text": [
        "Reading /home/larry/Images/Michelle-Series//28392/site 8_28392site3.noMit.tif\n"
       ]
      },
      {
       "output_type": "stream",
       "stream": "stdout",
       "text": [
        "Processing interfaces for class terminal in file /home/larry/Images/Michelle-Series//28392/site 8_28392site3.noMit.tif\n"
       ]
      },
      {
       "output_type": "stream",
       "stream": "stdout",
       "text": [
        "Processing interfaces for class glia in file /home/larry/Images/Michelle-Series//28392/site 8_28392site3.noMit.tif\n"
       ]
      },
      {
       "output_type": "stream",
       "stream": "stdout",
       "text": [
        "Reading /home/larry/Images/Michelle-Series//28392/site 2_28392site1a noMit.tif\n"
       ]
      },
      {
       "output_type": "stream",
       "stream": "stdout",
       "text": [
        "Processing interfaces for class terminal in file /home/larry/Images/Michelle-Series//28392/site 2_28392site1a noMit.tif\n"
       ]
      },
      {
       "output_type": "stream",
       "stream": "stdout",
       "text": [
        "Processing interfaces for class glia in file /home/larry/Images/Michelle-Series//28392/site 2_28392site1a noMit.tif\n"
       ]
      },
      {
       "output_type": "stream",
       "stream": "stdout",
       "text": [
        "Reading /home/larry/Images/Michelle-Series//28392/site 4_28392site2 noMit.tif\n"
       ]
      },
      {
       "output_type": "stream",
       "stream": "stdout",
       "text": [
        "Processing interfaces for class terminal in file /home/larry/Images/Michelle-Series//28392/site 4_28392site2 noMit.tif\n"
       ]
      },
      {
       "output_type": "stream",
       "stream": "stdout",
       "text": [
        "Processing interfaces for class glia in file /home/larry/Images/Michelle-Series//28392/site 4_28392site2 noMit.tif\n"
       ]
      },
      {
       "output_type": "stream",
       "stream": "stdout",
       "text": [
        "Reading /home/larry/Images/Michelle-Series//28392/site 3_28392site1a.noMit.tif\n"
       ]
      },
      {
       "output_type": "stream",
       "stream": "stdout",
       "text": [
        "Processing interfaces for class terminal in file /home/larry/Images/Michelle-Series//28392/site 3_28392site1a.noMit.tif\n"
       ]
      },
      {
       "output_type": "stream",
       "stream": "stdout",
       "text": [
        "Processing interfaces for class glia in file /home/larry/Images/Michelle-Series//28392/site 3_28392site1a.noMit.tif\n"
       ]
      },
      {
       "output_type": "stream",
       "stream": "stdout",
       "text": [
        "Reading /home/larry/Images/Michelle-Series//28392/site 6_28392site3.noMit.tif\n"
       ]
      },
      {
       "output_type": "stream",
       "stream": "stdout",
       "text": [
        "Processing interfaces for class terminal in file /home/larry/Images/Michelle-Series//28392/site 6_28392site3.noMit.tif\n"
       ]
      },
      {
       "output_type": "stream",
       "stream": "stdout",
       "text": [
        "Processing interfaces for class glia in file /home/larry/Images/Michelle-Series//28392/site 6_28392site3.noMit.tif\n"
       ]
      },
      {
       "output_type": "stream",
       "stream": "stdout",
       "text": [
        "Reading /home/larry/Images/Michelle-Series//28392/site 7_28392site3.noMit.tif\n"
       ]
      },
      {
       "output_type": "stream",
       "stream": "stdout",
       "text": [
        "Processing interfaces for class terminal in file /home/larry/Images/Michelle-Series//28392/site 7_28392site3.noMit.tif\n"
       ]
      },
      {
       "output_type": "stream",
       "stream": "stdout",
       "text": [
        "Processing interfaces for class glia in file /home/larry/Images/Michelle-Series//28392/site 7_28392site3.noMit.tif\n"
       ]
      },
      {
       "output_type": "stream",
       "stream": "stdout",
       "text": [
        "Reading /home/larry/Images/Michelle-Series//28392/site 9_28392site3.noMit.tif\n"
       ]
      },
      {
       "output_type": "stream",
       "stream": "stdout",
       "text": [
        "Processing interfaces for class terminal in file /home/larry/Images/Michelle-Series//28392/site 9_28392site3.noMit.tif\n"
       ]
      },
      {
       "output_type": "stream",
       "stream": "stdout",
       "text": [
        "Processing interfaces for class glia in file /home/larry/Images/Michelle-Series//28392/site 9_28392site3.noMit.tif\n"
       ]
      },
      {
       "output_type": "stream",
       "stream": "stdout",
       "text": [
        "Reading /home/larry/Images/Michelle-Series//28392/site 5_28392site2.noMit.tif\n"
       ]
      },
      {
       "output_type": "stream",
       "stream": "stdout",
       "text": [
        "Processing interfaces for class terminal in file /home/larry/Images/Michelle-Series//28392/site 5_28392site2.noMit.tif\n"
       ]
      },
      {
       "output_type": "stream",
       "stream": "stdout",
       "text": [
        "Processing interfaces for class glia in file /home/larry/Images/Michelle-Series//28392/site 5_28392site2.noMit.tif\n"
       ]
      },
      {
       "output_type": "stream",
       "stream": "stdout",
       "text": [
        "Writing capillary map to  /home/larry/Images/Michelle-Series//28392/capillary_interfaces.map\n"
       ]
      },
      {
       "output_type": "stream",
       "stream": "stdout",
       "text": [
        "Writing 28392 stats to interface_stats28392.csv\n"
       ]
      },
      {
       "output_type": "stream",
       "stream": "stdout",
       "text": [
        "['s10.noMit.tif', 's3.noMit.tif', 's5.noMit.tif', 's9.noMit.tif', 's7.noMit.tif', 's4.noMit.tif', 's8.noMit.tif', 's1.noMit.tif', 's6.noMit.tif', 's2.noMit.tif']\n"
       ]
      },
      {
       "output_type": "stream",
       "stream": "stdout",
       "text": [
        "Reading /home/larry/Images/Michelle-Series//22180/s10.noMit.tif\n"
       ]
      },
      {
       "output_type": "stream",
       "stream": "stdout",
       "text": [
        "Processing interfaces for class terminal in file /home/larry/Images/Michelle-Series//22180/s10.noMit.tif\n"
       ]
      },
      {
       "output_type": "stream",
       "stream": "stdout",
       "text": [
        "Processing interfaces for class glia in file /home/larry/Images/Michelle-Series//22180/s10.noMit.tif\n"
       ]
      },
      {
       "output_type": "stream",
       "stream": "stdout",
       "text": [
        "Reading /home/larry/Images/Michelle-Series//22180/s3.noMit.tif\n"
       ]
      },
      {
       "output_type": "stream",
       "stream": "stdout",
       "text": [
        "Processing interfaces for class terminal in file /home/larry/Images/Michelle-Series//22180/s3.noMit.tif\n"
       ]
      },
      {
       "output_type": "stream",
       "stream": "stdout",
       "text": [
        "Processing interfaces for class glia in file /home/larry/Images/Michelle-Series//22180/s3.noMit.tif\n"
       ]
      },
      {
       "output_type": "stream",
       "stream": "stdout",
       "text": [
        "Reading /home/larry/Images/Michelle-Series//22180/s5.noMit.tif\n"
       ]
      },
      {
       "output_type": "stream",
       "stream": "stdout",
       "text": [
        "Processing interfaces for class terminal in file /home/larry/Images/Michelle-Series//22180/s5.noMit.tif\n"
       ]
      },
      {
       "output_type": "stream",
       "stream": "stdout",
       "text": [
        "Processing interfaces for class glia in file /home/larry/Images/Michelle-Series//22180/s5.noMit.tif\n"
       ]
      },
      {
       "output_type": "stream",
       "stream": "stdout",
       "text": [
        "Reading /home/larry/Images/Michelle-Series//22180/s9.noMit.tif\n"
       ]
      },
      {
       "output_type": "stream",
       "stream": "stdout",
       "text": [
        "Processing interfaces for class terminal in file /home/larry/Images/Michelle-Series//22180/s9.noMit.tif\n"
       ]
      },
      {
       "output_type": "stream",
       "stream": "stdout",
       "text": [
        "Processing interfaces for class glia in file /home/larry/Images/Michelle-Series//22180/s9.noMit.tif\n"
       ]
      },
      {
       "output_type": "stream",
       "stream": "stdout",
       "text": [
        "Reading /home/larry/Images/Michelle-Series//22180/s7.noMit.tif\n"
       ]
      },
      {
       "output_type": "stream",
       "stream": "stdout",
       "text": [
        "Processing interfaces for class terminal in file /home/larry/Images/Michelle-Series//22180/s7.noMit.tif\n"
       ]
      },
      {
       "output_type": "stream",
       "stream": "stdout",
       "text": [
        "Processing interfaces for class glia in file /home/larry/Images/Michelle-Series//22180/s7.noMit.tif\n"
       ]
      },
      {
       "output_type": "stream",
       "stream": "stdout",
       "text": [
        "Reading /home/larry/Images/Michelle-Series//22180/s4.noMit.tif\n"
       ]
      },
      {
       "output_type": "stream",
       "stream": "stdout",
       "text": [
        "Processing interfaces for class terminal in file /home/larry/Images/Michelle-Series//22180/s4.noMit.tif\n"
       ]
      },
      {
       "output_type": "stream",
       "stream": "stdout",
       "text": [
        "Processing interfaces for class glia in file /home/larry/Images/Michelle-Series//22180/s4.noMit.tif\n"
       ]
      },
      {
       "output_type": "stream",
       "stream": "stdout",
       "text": [
        "Reading /home/larry/Images/Michelle-Series//22180/s8.noMit.tif\n"
       ]
      },
      {
       "output_type": "stream",
       "stream": "stdout",
       "text": [
        "Processing interfaces for class terminal in file /home/larry/Images/Michelle-Series//22180/s8.noMit.tif\n"
       ]
      },
      {
       "output_type": "stream",
       "stream": "stdout",
       "text": [
        "Processing interfaces for class glia in file /home/larry/Images/Michelle-Series//22180/s8.noMit.tif\n"
       ]
      },
      {
       "output_type": "stream",
       "stream": "stdout",
       "text": [
        "Reading /home/larry/Images/Michelle-Series//22180/s1.noMit.tif\n"
       ]
      },
      {
       "output_type": "stream",
       "stream": "stdout",
       "text": [
        "Processing interfaces for class terminal in file /home/larry/Images/Michelle-Series//22180/s1.noMit.tif\n"
       ]
      },
      {
       "output_type": "stream",
       "stream": "stdout",
       "text": [
        "Processing interfaces for class glia in file /home/larry/Images/Michelle-Series//22180/s1.noMit.tif\n"
       ]
      },
      {
       "output_type": "stream",
       "stream": "stdout",
       "text": [
        "Reading /home/larry/Images/Michelle-Series//22180/s6.noMit.tif\n"
       ]
      },
      {
       "output_type": "stream",
       "stream": "stdout",
       "text": [
        "Processing interfaces for class terminal in file /home/larry/Images/Michelle-Series//22180/s6.noMit.tif\n"
       ]
      },
      {
       "output_type": "stream",
       "stream": "stdout",
       "text": [
        "Processing interfaces for class glia in file /home/larry/Images/Michelle-Series//22180/s6.noMit.tif\n"
       ]
      },
      {
       "output_type": "stream",
       "stream": "stdout",
       "text": [
        "Reading /home/larry/Images/Michelle-Series//22180/s2.noMit.tif\n"
       ]
      },
      {
       "output_type": "stream",
       "stream": "stdout",
       "text": [
        "Processing interfaces for class terminal in file /home/larry/Images/Michelle-Series//22180/s2.noMit.tif\n"
       ]
      },
      {
       "output_type": "stream",
       "stream": "stdout",
       "text": [
        "Processing interfaces for class glia in file /home/larry/Images/Michelle-Series//22180/s2.noMit.tif\n"
       ]
      },
      {
       "output_type": "stream",
       "stream": "stdout",
       "text": [
        "Writing capillary map to  /home/larry/Images/Michelle-Series//22180/capillary_interfaces.map\n"
       ]
      },
      {
       "output_type": "stream",
       "stream": "stdout",
       "text": [
        "Writing 22180 stats to interface_stats22180.csv\n"
       ]
      },
      {
       "output_type": "stream",
       "stream": "stdout",
       "text": [
        "['s4 part s8 5k_site7_r2c1.noMit.tif', 'r3c2.noMit.tif', 'half site1b 5k_r3c1.noMit.tif', 's5part s6 2k_site3_Tile_r1-c1_1to100 10nm 25689.noMit.tif', 's1 5k_site4_r1c1.noMit.tif', 's2 5k_site5_r1c1.noMit.tif', 's9 part s10 5k_site9_r2c2.noMit.tif', 's3 5k_site6_r1c2.noMit.tif', 's7part s6 2k_site3_Tile_r1-c1_1to100 10nm 25689.noMit.tif', 'half site1 5k_r3c1.noMit.tif']\n"
       ]
      },
      {
       "output_type": "stream",
       "stream": "stdout",
       "text": [
        "Reading /home/larry/Images/Michelle-Series//25689/s4 part s8 5k_site7_r2c1.noMit.tif\n"
       ]
      },
      {
       "output_type": "stream",
       "stream": "stdout",
       "text": [
        "Processing interfaces for class terminal in file /home/larry/Images/Michelle-Series//25689/s4 part s8 5k_site7_r2c1.noMit.tif\n"
       ]
      },
      {
       "output_type": "stream",
       "stream": "stdout",
       "text": [
        "Processing interfaces for class glia in file /home/larry/Images/Michelle-Series//25689/s4 part s8 5k_site7_r2c1.noMit.tif\n"
       ]
      },
      {
       "output_type": "stream",
       "stream": "stdout",
       "text": [
        "Reading /home/larry/Images/Michelle-Series//25689/r3c2.noMit.tif\n"
       ]
      },
      {
       "output_type": "stream",
       "stream": "stdout",
       "text": [
        "Processing interfaces for class terminal in file /home/larry/Images/Michelle-Series//25689/r3c2.noMit.tif\n"
       ]
      },
      {
       "output_type": "stream",
       "stream": "stdout",
       "text": [
        "Processing interfaces for class glia in file /home/larry/Images/Michelle-Series//25689/r3c2.noMit.tif\n"
       ]
      },
      {
       "output_type": "stream",
       "stream": "stdout",
       "text": [
        "Reading /home/larry/Images/Michelle-Series//25689/half site1b 5k_r3c1.noMit.tif\n"
       ]
      },
      {
       "output_type": "stream",
       "stream": "stdout",
       "text": [
        "Processing interfaces for class terminal in file /home/larry/Images/Michelle-Series//25689/half site1b 5k_r3c1.noMit.tif\n"
       ]
      },
      {
       "output_type": "stream",
       "stream": "stdout",
       "text": [
        "Processing interfaces for class glia in file /home/larry/Images/Michelle-Series//25689/half site1b 5k_r3c1.noMit.tif\n"
       ]
      },
      {
       "output_type": "stream",
       "stream": "stdout",
       "text": [
        "Reading /home/larry/Images/Michelle-Series//25689/s5part s6 2k_site3_Tile_r1-c1_1to100 10nm 25689.noMit.tif\n"
       ]
      },
      {
       "output_type": "stream",
       "stream": "stdout",
       "text": [
        "Processing interfaces for class terminal in file /home/larry/Images/Michelle-Series//25689/s5part s6 2k_site3_Tile_r1-c1_1to100 10nm 25689.noMit.tif\n"
       ]
      },
      {
       "output_type": "stream",
       "stream": "stdout",
       "text": [
        "Processing interfaces for class glia in file /home/larry/Images/Michelle-Series//25689/s5part s6 2k_site3_Tile_r1-c1_1to100 10nm 25689.noMit.tif\n"
       ]
      },
      {
       "output_type": "stream",
       "stream": "stdout",
       "text": [
        "Reading /home/larry/Images/Michelle-Series//25689/s1 5k_site4_r1c1.noMit.tif\n"
       ]
      },
      {
       "output_type": "stream",
       "stream": "stdout",
       "text": [
        "Processing interfaces for class terminal in file /home/larry/Images/Michelle-Series//25689/s1 5k_site4_r1c1.noMit.tif\n"
       ]
      },
      {
       "output_type": "stream",
       "stream": "stdout",
       "text": [
        "Processing interfaces for class glia in file /home/larry/Images/Michelle-Series//25689/s1 5k_site4_r1c1.noMit.tif\n"
       ]
      },
      {
       "output_type": "stream",
       "stream": "stdout",
       "text": [
        "Reading /home/larry/Images/Michelle-Series//25689/s2 5k_site5_r1c1.noMit.tif\n"
       ]
      },
      {
       "output_type": "stream",
       "stream": "stdout",
       "text": [
        "Processing interfaces for class terminal in file /home/larry/Images/Michelle-Series//25689/s2 5k_site5_r1c1.noMit.tif\n"
       ]
      },
      {
       "output_type": "stream",
       "stream": "stdout",
       "text": [
        "Processing interfaces for class glia in file /home/larry/Images/Michelle-Series//25689/s2 5k_site5_r1c1.noMit.tif\n"
       ]
      },
      {
       "output_type": "stream",
       "stream": "stdout",
       "text": [
        "Reading /home/larry/Images/Michelle-Series//25689/s9 part s10 5k_site9_r2c2.noMit.tif\n"
       ]
      },
      {
       "output_type": "stream",
       "stream": "stdout",
       "text": [
        "Processing interfaces for class terminal in file /home/larry/Images/Michelle-Series//25689/s9 part s10 5k_site9_r2c2.noMit.tif\n"
       ]
      },
      {
       "output_type": "stream",
       "stream": "stdout",
       "text": [
        "Processing interfaces for class glia in file /home/larry/Images/Michelle-Series//25689/s9 part s10 5k_site9_r2c2.noMit.tif\n"
       ]
      },
      {
       "output_type": "stream",
       "stream": "stdout",
       "text": [
        "Reading /home/larry/Images/Michelle-Series//25689/s3 5k_site6_r1c2.noMit.tif\n"
       ]
      },
      {
       "output_type": "stream",
       "stream": "stdout",
       "text": [
        "Processing interfaces for class terminal in file /home/larry/Images/Michelle-Series//25689/s3 5k_site6_r1c2.noMit.tif\n"
       ]
      },
      {
       "output_type": "stream",
       "stream": "stdout",
       "text": [
        "Processing interfaces for class glia in file /home/larry/Images/Michelle-Series//25689/s3 5k_site6_r1c2.noMit.tif\n"
       ]
      },
      {
       "output_type": "stream",
       "stream": "stdout",
       "text": [
        "Reading /home/larry/Images/Michelle-Series//25689/s7part s6 2k_site3_Tile_r1-c1_1to100 10nm 25689.noMit.tif\n"
       ]
      },
      {
       "output_type": "stream",
       "stream": "stdout",
       "text": [
        "Processing interfaces for class terminal in file /home/larry/Images/Michelle-Series//25689/s7part s6 2k_site3_Tile_r1-c1_1to100 10nm 25689.noMit.tif\n"
       ]
      },
      {
       "output_type": "stream",
       "stream": "stdout",
       "text": [
        "Processing interfaces for class glia in file /home/larry/Images/Michelle-Series//25689/s7part s6 2k_site3_Tile_r1-c1_1to100 10nm 25689.noMit.tif\n"
       ]
      },
      {
       "output_type": "stream",
       "stream": "stdout",
       "text": [
        "Reading /home/larry/Images/Michelle-Series//25689/half site1 5k_r3c1.noMit.tif\n"
       ]
      },
      {
       "output_type": "stream",
       "stream": "stdout",
       "text": [
        "Processing interfaces for class terminal in file /home/larry/Images/Michelle-Series//25689/half site1 5k_r3c1.noMit.tif\n"
       ]
      },
      {
       "output_type": "stream",
       "stream": "stdout",
       "text": [
        "Processing interfaces for class glia in file /home/larry/Images/Michelle-Series//25689/half site1 5k_r3c1.noMit.tif\n"
       ]
      },
      {
       "output_type": "stream",
       "stream": "stdout",
       "text": [
        "Writing capillary map to  /home/larry/Images/Michelle-Series//25689/capillary_interfaces.map\n"
       ]
      },
      {
       "output_type": "stream",
       "stream": "stdout",
       "text": [
        "Writing 25689 stats to interface_stats25689.csv\n"
       ]
      },
      {
       "output_type": "stream",
       "stream": "stdout",
       "text": [
        "['site 10 Tile_r1-c1_32204me2grid7site2c.FLAT.noMit.tif', 'site 6 Tile_r1-c1_32204me2grid7site1b.FLATa.noMit.tif', 'site 9 Tile_r1-c1_32204me2grid7site2b.FLAT.noMit.tif', 'site 1 wMit_32204me2grid7site2a.noMit.tif', 'site 4 wMit_32204me2grid7site1b.noMit.tif', 'site 8 Tile_r1-c1_32204me2grid7site2a.FLATb.noMit.tif', 'site 3 wMit_32204me2grid7site1a.noMit.tif', 'site 5 Tile_r1-c1_32204me2grid7site1a noMit.tif', 'site 2 wMit_32204me2grid7site1a.noMit.tif', 'site 7 Tile_r1-c1_32204me2grid7site1b.FLATc.noMit.tif']\n"
       ]
      },
      {
       "output_type": "stream",
       "stream": "stdout",
       "text": [
        "Reading /home/larry/Images/Michelle-Series//32204/site 10 Tile_r1-c1_32204me2grid7site2c.FLAT.noMit.tif\n"
       ]
      },
      {
       "output_type": "stream",
       "stream": "stdout",
       "text": [
        "Processing interfaces for class terminal in file /home/larry/Images/Michelle-Series//32204/site 10 Tile_r1-c1_32204me2grid7site2c.FLAT.noMit.tif\n"
       ]
      },
      {
       "output_type": "stream",
       "stream": "stdout",
       "text": [
        "Processing interfaces for class glia in file /home/larry/Images/Michelle-Series//32204/site 10 Tile_r1-c1_32204me2grid7site2c.FLAT.noMit.tif\n"
       ]
      },
      {
       "output_type": "stream",
       "stream": "stdout",
       "text": [
        "Reading /home/larry/Images/Michelle-Series//32204/site 6 Tile_r1-c1_32204me2grid7site1b.FLATa.noMit.tif\n"
       ]
      },
      {
       "output_type": "stream",
       "stream": "stdout",
       "text": [
        "Processing interfaces for class terminal in file /home/larry/Images/Michelle-Series//32204/site 6 Tile_r1-c1_32204me2grid7site1b.FLATa.noMit.tif\n"
       ]
      },
      {
       "output_type": "stream",
       "stream": "stdout",
       "text": [
        "Processing interfaces for class glia in file /home/larry/Images/Michelle-Series//32204/site 6 Tile_r1-c1_32204me2grid7site1b.FLATa.noMit.tif\n"
       ]
      },
      {
       "output_type": "stream",
       "stream": "stdout",
       "text": [
        "Reading /home/larry/Images/Michelle-Series//32204/site 9 Tile_r1-c1_32204me2grid7site2b.FLAT.noMit.tif\n"
       ]
      },
      {
       "output_type": "stream",
       "stream": "stdout",
       "text": [
        "Processing interfaces for class terminal in file /home/larry/Images/Michelle-Series//32204/site 9 Tile_r1-c1_32204me2grid7site2b.FLAT.noMit.tif\n"
       ]
      },
      {
       "output_type": "stream",
       "stream": "stdout",
       "text": [
        "Processing interfaces for class glia in file /home/larry/Images/Michelle-Series//32204/site 9 Tile_r1-c1_32204me2grid7site2b.FLAT.noMit.tif\n"
       ]
      },
      {
       "output_type": "stream",
       "stream": "stdout",
       "text": [
        "Reading /home/larry/Images/Michelle-Series//32204/site 1 wMit_32204me2grid7site2a.noMit.tif\n"
       ]
      },
      {
       "output_type": "stream",
       "stream": "stdout",
       "text": [
        "Processing interfaces for class terminal in file /home/larry/Images/Michelle-Series//32204/site 1 wMit_32204me2grid7site2a.noMit.tif\n"
       ]
      },
      {
       "output_type": "stream",
       "stream": "stdout",
       "text": [
        "Processing interfaces for class glia in file /home/larry/Images/Michelle-Series//32204/site 1 wMit_32204me2grid7site2a.noMit.tif\n"
       ]
      },
      {
       "output_type": "stream",
       "stream": "stdout",
       "text": [
        "Reading /home/larry/Images/Michelle-Series//32204/site 4 wMit_32204me2grid7site1b.noMit.tif\n"
       ]
      },
      {
       "output_type": "stream",
       "stream": "stdout",
       "text": [
        "Processing interfaces for class terminal in file /home/larry/Images/Michelle-Series//32204/site 4 wMit_32204me2grid7site1b.noMit.tif\n"
       ]
      },
      {
       "output_type": "stream",
       "stream": "stdout",
       "text": [
        "Processing interfaces for class glia in file /home/larry/Images/Michelle-Series//32204/site 4 wMit_32204me2grid7site1b.noMit.tif\n"
       ]
      },
      {
       "output_type": "stream",
       "stream": "stdout",
       "text": [
        "Reading /home/larry/Images/Michelle-Series//32204/site 8 Tile_r1-c1_32204me2grid7site2a.FLATb.noMit.tif\n"
       ]
      },
      {
       "output_type": "stream",
       "stream": "stdout",
       "text": [
        "Processing interfaces for class terminal in file /home/larry/Images/Michelle-Series//32204/site 8 Tile_r1-c1_32204me2grid7site2a.FLATb.noMit.tif\n"
       ]
      },
      {
       "output_type": "stream",
       "stream": "stdout",
       "text": [
        "Processing interfaces for class glia in file /home/larry/Images/Michelle-Series//32204/site 8 Tile_r1-c1_32204me2grid7site2a.FLATb.noMit.tif\n"
       ]
      },
      {
       "output_type": "stream",
       "stream": "stdout",
       "text": [
        "Reading /home/larry/Images/Michelle-Series//32204/site 3 wMit_32204me2grid7site1a.noMit.tif\n"
       ]
      },
      {
       "output_type": "stream",
       "stream": "stdout",
       "text": [
        "Processing interfaces for class terminal in file /home/larry/Images/Michelle-Series//32204/site 3 wMit_32204me2grid7site1a.noMit.tif\n"
       ]
      },
      {
       "output_type": "stream",
       "stream": "stdout",
       "text": [
        "Processing interfaces for class glia in file /home/larry/Images/Michelle-Series//32204/site 3 wMit_32204me2grid7site1a.noMit.tif\n"
       ]
      },
      {
       "output_type": "stream",
       "stream": "stdout",
       "text": [
        "Reading /home/larry/Images/Michelle-Series//32204/site 5 Tile_r1-c1_32204me2grid7site1a noMit.tif\n"
       ]
      },
      {
       "output_type": "stream",
       "stream": "stdout",
       "text": [
        "Processing interfaces for class terminal in file /home/larry/Images/Michelle-Series//32204/site 5 Tile_r1-c1_32204me2grid7site1a noMit.tif\n"
       ]
      },
      {
       "output_type": "stream",
       "stream": "stdout",
       "text": [
        "Processing interfaces for class glia in file /home/larry/Images/Michelle-Series//32204/site 5 Tile_r1-c1_32204me2grid7site1a noMit.tif\n"
       ]
      },
      {
       "output_type": "stream",
       "stream": "stdout",
       "text": [
        "Reading /home/larry/Images/Michelle-Series//32204/site 2 wMit_32204me2grid7site1a.noMit.tif\n"
       ]
      },
      {
       "output_type": "stream",
       "stream": "stdout",
       "text": [
        "Processing interfaces for class terminal in file /home/larry/Images/Michelle-Series//32204/site 2 wMit_32204me2grid7site1a.noMit.tif\n"
       ]
      },
      {
       "output_type": "stream",
       "stream": "stdout",
       "text": [
        "Processing interfaces for class glia in file /home/larry/Images/Michelle-Series//32204/site 2 wMit_32204me2grid7site1a.noMit.tif\n"
       ]
      },
      {
       "output_type": "stream",
       "stream": "stdout",
       "text": [
        "Reading /home/larry/Images/Michelle-Series//32204/site 7 Tile_r1-c1_32204me2grid7site1b.FLATc.noMit.tif\n"
       ]
      },
      {
       "output_type": "stream",
       "stream": "stdout",
       "text": [
        "Processing interfaces for class terminal in file /home/larry/Images/Michelle-Series//32204/site 7 Tile_r1-c1_32204me2grid7site1b.FLATc.noMit.tif\n"
       ]
      },
      {
       "output_type": "stream",
       "stream": "stdout",
       "text": [
        "Processing interfaces for class glia in file /home/larry/Images/Michelle-Series//32204/site 7 Tile_r1-c1_32204me2grid7site1b.FLATc.noMit.tif\n"
       ]
      },
      {
       "output_type": "stream",
       "stream": "stdout",
       "text": [
        "Writing capillary map to  /home/larry/Images/Michelle-Series//32204/capillary_interfaces.map\n"
       ]
      },
      {
       "output_type": "stream",
       "stream": "stdout",
       "text": [
        "Writing 32204 stats to interface_stats32204.csv\n"
       ]
      },
      {
       "output_type": "stream",
       "stream": "stdout",
       "text": [
        "['s10 Tile_r1-c1_grid09 site3.noMit.tif', 's3 Tile_r1-c1_grid09 site1a.noMit.tif', 's2 Tile_r1-c1_grid09 site1a.noMit.tif', 's11 Tile_r1-c1_grid09 site1a.noMit.tif', 's8 Tile_r1-c1_grid09 site2.noMit.tif', 's1 Tile_r1-c1_grid09 site1.noMit.tif', 's7 Tile_r1-c1_grid09 site3.noMit.tif', 's9 Tile_r1-c1_grid09 site3.noMit.tif', 's4 Tile_r1-c1_grid09 site3.noMit.tif', 's5 Tile_r1-c1_grid09 site3.noMit.tif']\n"
       ]
      },
      {
       "output_type": "stream",
       "stream": "stdout",
       "text": [
        "Reading /home/larry/Images/Michelle-Series//31983/s10 Tile_r1-c1_grid09 site3.noMit.tif\n"
       ]
      },
      {
       "output_type": "stream",
       "stream": "stdout",
       "text": [
        "Processing interfaces for class terminal in file /home/larry/Images/Michelle-Series//31983/s10 Tile_r1-c1_grid09 site3.noMit.tif\n"
       ]
      },
      {
       "output_type": "stream",
       "stream": "stdout",
       "text": [
        "Processing interfaces for class glia in file /home/larry/Images/Michelle-Series//31983/s10 Tile_r1-c1_grid09 site3.noMit.tif\n"
       ]
      },
      {
       "output_type": "stream",
       "stream": "stdout",
       "text": [
        "Reading /home/larry/Images/Michelle-Series//31983/s3 Tile_r1-c1_grid09 site1a.noMit.tif\n"
       ]
      },
      {
       "output_type": "stream",
       "stream": "stdout",
       "text": [
        "Processing interfaces for class terminal in file /home/larry/Images/Michelle-Series//31983/s3 Tile_r1-c1_grid09 site1a.noMit.tif\n"
       ]
      },
      {
       "output_type": "stream",
       "stream": "stdout",
       "text": [
        "Processing interfaces for class glia in file /home/larry/Images/Michelle-Series//31983/s3 Tile_r1-c1_grid09 site1a.noMit.tif\n"
       ]
      },
      {
       "output_type": "stream",
       "stream": "stdout",
       "text": [
        "Reading /home/larry/Images/Michelle-Series//31983/s2 Tile_r1-c1_grid09 site1a.noMit.tif\n"
       ]
      },
      {
       "output_type": "stream",
       "stream": "stdout",
       "text": [
        "Processing interfaces for class terminal in file /home/larry/Images/Michelle-Series//31983/s2 Tile_r1-c1_grid09 site1a.noMit.tif\n"
       ]
      },
      {
       "output_type": "stream",
       "stream": "stdout",
       "text": [
        "Processing interfaces for class glia in file /home/larry/Images/Michelle-Series//31983/s2 Tile_r1-c1_grid09 site1a.noMit.tif\n"
       ]
      },
      {
       "output_type": "stream",
       "stream": "stdout",
       "text": [
        "Reading /home/larry/Images/Michelle-Series//31983/s11 Tile_r1-c1_grid09 site1a.noMit.tif\n"
       ]
      },
      {
       "output_type": "stream",
       "stream": "stdout",
       "text": [
        "Processing interfaces for class terminal in file /home/larry/Images/Michelle-Series//31983/s11 Tile_r1-c1_grid09 site1a.noMit.tif\n"
       ]
      },
      {
       "output_type": "stream",
       "stream": "stdout",
       "text": [
        "Processing interfaces for class glia in file /home/larry/Images/Michelle-Series//31983/s11 Tile_r1-c1_grid09 site1a.noMit.tif\n"
       ]
      },
      {
       "output_type": "stream",
       "stream": "stdout",
       "text": [
        "Reading /home/larry/Images/Michelle-Series//31983/s8 Tile_r1-c1_grid09 site2.noMit.tif\n"
       ]
      },
      {
       "output_type": "stream",
       "stream": "stdout",
       "text": [
        "Processing interfaces for class terminal in file /home/larry/Images/Michelle-Series//31983/s8 Tile_r1-c1_grid09 site2.noMit.tif\n"
       ]
      },
      {
       "output_type": "stream",
       "stream": "stdout",
       "text": [
        "Processing interfaces for class glia in file /home/larry/Images/Michelle-Series//31983/s8 Tile_r1-c1_grid09 site2.noMit.tif\n"
       ]
      },
      {
       "output_type": "stream",
       "stream": "stdout",
       "text": [
        "Reading /home/larry/Images/Michelle-Series//31983/s1 Tile_r1-c1_grid09 site1.noMit.tif\n"
       ]
      },
      {
       "output_type": "stream",
       "stream": "stdout",
       "text": [
        "Processing interfaces for class terminal in file /home/larry/Images/Michelle-Series//31983/s1 Tile_r1-c1_grid09 site1.noMit.tif\n"
       ]
      },
      {
       "output_type": "stream",
       "stream": "stdout",
       "text": [
        "Processing interfaces for class glia in file /home/larry/Images/Michelle-Series//31983/s1 Tile_r1-c1_grid09 site1.noMit.tif\n"
       ]
      },
      {
       "output_type": "stream",
       "stream": "stdout",
       "text": [
        "Reading /home/larry/Images/Michelle-Series//31983/s7 Tile_r1-c1_grid09 site3.noMit.tif\n"
       ]
      },
      {
       "output_type": "stream",
       "stream": "stdout",
       "text": [
        "Processing interfaces for class terminal in file /home/larry/Images/Michelle-Series//31983/s7 Tile_r1-c1_grid09 site3.noMit.tif\n"
       ]
      },
      {
       "output_type": "stream",
       "stream": "stdout",
       "text": [
        "Processing interfaces for class glia in file /home/larry/Images/Michelle-Series//31983/s7 Tile_r1-c1_grid09 site3.noMit.tif\n"
       ]
      },
      {
       "output_type": "stream",
       "stream": "stdout",
       "text": [
        "Reading /home/larry/Images/Michelle-Series//31983/s9 Tile_r1-c1_grid09 site3.noMit.tif\n"
       ]
      },
      {
       "output_type": "stream",
       "stream": "stdout",
       "text": [
        "Processing interfaces for class terminal in file /home/larry/Images/Michelle-Series//31983/s9 Tile_r1-c1_grid09 site3.noMit.tif\n"
       ]
      },
      {
       "output_type": "stream",
       "stream": "stdout",
       "text": [
        "Processing interfaces for class glia in file /home/larry/Images/Michelle-Series//31983/s9 Tile_r1-c1_grid09 site3.noMit.tif\n"
       ]
      },
      {
       "output_type": "stream",
       "stream": "stdout",
       "text": [
        "Reading /home/larry/Images/Michelle-Series//31983/s4 Tile_r1-c1_grid09 site3.noMit.tif\n"
       ]
      },
      {
       "output_type": "stream",
       "stream": "stdout",
       "text": [
        "Processing interfaces for class terminal in file /home/larry/Images/Michelle-Series//31983/s4 Tile_r1-c1_grid09 site3.noMit.tif\n"
       ]
      },
      {
       "output_type": "stream",
       "stream": "stdout",
       "text": [
        "Processing interfaces for class glia in file /home/larry/Images/Michelle-Series//31983/s4 Tile_r1-c1_grid09 site3.noMit.tif\n"
       ]
      },
      {
       "output_type": "stream",
       "stream": "stdout",
       "text": [
        "Reading /home/larry/Images/Michelle-Series//31983/s5 Tile_r1-c1_grid09 site3.noMit.tif\n"
       ]
      },
      {
       "output_type": "stream",
       "stream": "stdout",
       "text": [
        "Processing interfaces for class terminal in file /home/larry/Images/Michelle-Series//31983/s5 Tile_r1-c1_grid09 site3.noMit.tif\n"
       ]
      },
      {
       "output_type": "stream",
       "stream": "stdout",
       "text": [
        "Processing interfaces for class glia in file /home/larry/Images/Michelle-Series//31983/s5 Tile_r1-c1_grid09 site3.noMit.tif\n"
       ]
      },
      {
       "output_type": "stream",
       "stream": "stdout",
       "text": [
        "Writing capillary map to  /home/larry/Images/Michelle-Series//31983/capillary_interfaces.map\n"
       ]
      },
      {
       "output_type": "stream",
       "stream": "stdout",
       "text": [
        "Writing 31983 stats to interface_stats31983.csv\n"
       ]
      },
      {
       "output_type": "stream",
       "stream": "stdout",
       "text": [
        "['s8_Tile_r1-c1_32461me4e.noMit.tif', 's2 cropped_Tile_r1-c1_32461me4f.noMit.tif', 's1 cropped_Tile_r1-c1_32461me4g noMit.tif', 's4_Tile_r1-c1_32461me4a.noMit.tif', 's9_Tile_r1-c1_32461me4c.noMit.tif', 's7_Tile_r1-c1_32461me4e.noMit.tif', 's3 cropped_Tile_r1-c1_32461me4i.noMit.tif', 's5_Tile_r1-c1_32461me4a.noMit.tif', 's6_Tile_r1-c1_32461me4j.noMit.tif']\n"
       ]
      },
      {
       "output_type": "stream",
       "stream": "stdout",
       "text": [
        "Reading /home/larry/Images/Michelle-Series//32461/s8_Tile_r1-c1_32461me4e.noMit.tif\n"
       ]
      },
      {
       "output_type": "stream",
       "stream": "stdout",
       "text": [
        "Processing interfaces for class terminal in file /home/larry/Images/Michelle-Series//32461/s8_Tile_r1-c1_32461me4e.noMit.tif\n"
       ]
      },
      {
       "output_type": "stream",
       "stream": "stdout",
       "text": [
        "Processing interfaces for class glia in file /home/larry/Images/Michelle-Series//32461/s8_Tile_r1-c1_32461me4e.noMit.tif\n"
       ]
      },
      {
       "output_type": "stream",
       "stream": "stdout",
       "text": [
        "Reading /home/larry/Images/Michelle-Series//32461/s2 cropped_Tile_r1-c1_32461me4f.noMit.tif\n"
       ]
      },
      {
       "output_type": "stream",
       "stream": "stdout",
       "text": [
        "Processing interfaces for class terminal in file /home/larry/Images/Michelle-Series//32461/s2 cropped_Tile_r1-c1_32461me4f.noMit.tif\n"
       ]
      },
      {
       "output_type": "stream",
       "stream": "stdout",
       "text": [
        "Processing interfaces for class glia in file /home/larry/Images/Michelle-Series//32461/s2 cropped_Tile_r1-c1_32461me4f.noMit.tif\n"
       ]
      },
      {
       "output_type": "stream",
       "stream": "stdout",
       "text": [
        "Reading /home/larry/Images/Michelle-Series//32461/s1 cropped_Tile_r1-c1_32461me4g noMit.tif\n"
       ]
      },
      {
       "output_type": "stream",
       "stream": "stdout",
       "text": [
        "Processing interfaces for class terminal in file /home/larry/Images/Michelle-Series//32461/s1 cropped_Tile_r1-c1_32461me4g noMit.tif\n"
       ]
      },
      {
       "output_type": "stream",
       "stream": "stdout",
       "text": [
        "Processing interfaces for class glia in file /home/larry/Images/Michelle-Series//32461/s1 cropped_Tile_r1-c1_32461me4g noMit.tif\n"
       ]
      },
      {
       "output_type": "stream",
       "stream": "stdout",
       "text": [
        "Reading /home/larry/Images/Michelle-Series//32461/s4_Tile_r1-c1_32461me4a.noMit.tif\n"
       ]
      },
      {
       "output_type": "stream",
       "stream": "stdout",
       "text": [
        "Processing interfaces for class terminal in file /home/larry/Images/Michelle-Series//32461/s4_Tile_r1-c1_32461me4a.noMit.tif\n"
       ]
      },
      {
       "output_type": "stream",
       "stream": "stdout",
       "text": [
        "Processing interfaces for class glia in file /home/larry/Images/Michelle-Series//32461/s4_Tile_r1-c1_32461me4a.noMit.tif\n"
       ]
      },
      {
       "output_type": "stream",
       "stream": "stdout",
       "text": [
        "Reading /home/larry/Images/Michelle-Series//32461/s9_Tile_r1-c1_32461me4c.noMit.tif\n"
       ]
      },
      {
       "output_type": "stream",
       "stream": "stdout",
       "text": [
        "Processing interfaces for class terminal in file /home/larry/Images/Michelle-Series//32461/s9_Tile_r1-c1_32461me4c.noMit.tif\n"
       ]
      },
      {
       "output_type": "stream",
       "stream": "stdout",
       "text": [
        "Processing interfaces for class glia in file /home/larry/Images/Michelle-Series//32461/s9_Tile_r1-c1_32461me4c.noMit.tif\n"
       ]
      },
      {
       "output_type": "stream",
       "stream": "stdout",
       "text": [
        "Reading /home/larry/Images/Michelle-Series//32461/s7_Tile_r1-c1_32461me4e.noMit.tif\n"
       ]
      },
      {
       "output_type": "stream",
       "stream": "stdout",
       "text": [
        "Processing interfaces for class terminal in file /home/larry/Images/Michelle-Series//32461/s7_Tile_r1-c1_32461me4e.noMit.tif\n"
       ]
      },
      {
       "output_type": "stream",
       "stream": "stdout",
       "text": [
        "Processing interfaces for class glia in file /home/larry/Images/Michelle-Series//32461/s7_Tile_r1-c1_32461me4e.noMit.tif\n"
       ]
      },
      {
       "output_type": "stream",
       "stream": "stdout",
       "text": [
        "Reading /home/larry/Images/Michelle-Series//32461/s3 cropped_Tile_r1-c1_32461me4i.noMit.tif\n"
       ]
      },
      {
       "output_type": "stream",
       "stream": "stdout",
       "text": [
        "Processing interfaces for class terminal in file /home/larry/Images/Michelle-Series//32461/s3 cropped_Tile_r1-c1_32461me4i.noMit.tif\n"
       ]
      },
      {
       "output_type": "stream",
       "stream": "stdout",
       "text": [
        "Processing interfaces for class glia in file /home/larry/Images/Michelle-Series//32461/s3 cropped_Tile_r1-c1_32461me4i.noMit.tif\n"
       ]
      },
      {
       "output_type": "stream",
       "stream": "stdout",
       "text": [
        "Reading /home/larry/Images/Michelle-Series//32461/s5_Tile_r1-c1_32461me4a.noMit.tif\n"
       ]
      },
      {
       "output_type": "stream",
       "stream": "stdout",
       "text": [
        "Processing interfaces for class terminal in file /home/larry/Images/Michelle-Series//32461/s5_Tile_r1-c1_32461me4a.noMit.tif\n"
       ]
      },
      {
       "output_type": "stream",
       "stream": "stdout",
       "text": [
        "Processing interfaces for class glia in file /home/larry/Images/Michelle-Series//32461/s5_Tile_r1-c1_32461me4a.noMit.tif\n"
       ]
      },
      {
       "output_type": "stream",
       "stream": "stdout",
       "text": [
        "Reading /home/larry/Images/Michelle-Series//32461/s6_Tile_r1-c1_32461me4j.noMit.tif\n"
       ]
      },
      {
       "output_type": "stream",
       "stream": "stdout",
       "text": [
        "Processing interfaces for class terminal in file /home/larry/Images/Michelle-Series//32461/s6_Tile_r1-c1_32461me4j.noMit.tif\n"
       ]
      },
      {
       "output_type": "stream",
       "stream": "stdout",
       "text": [
        "Processing interfaces for class glia in file /home/larry/Images/Michelle-Series//32461/s6_Tile_r1-c1_32461me4j.noMit.tif\n"
       ]
      },
      {
       "output_type": "stream",
       "stream": "stdout",
       "text": [
        "Writing capillary map to  /home/larry/Images/Michelle-Series//32461/capillary_interfaces.map\n"
       ]
      },
      {
       "output_type": "stream",
       "stream": "stdout",
       "text": [
        "Writing 32461 stats to interface_stats32461.csv\n"
       ]
      },
      {
       "output_type": "stream",
       "stream": "stdout",
       "text": [
        "['site6 37109me5_r2-c1_g12s02a noMit.tif', 'site10 37109me5_r2-c2_g12s02a noMit.tif', 'site8 37109me5_r2-c1_g12s02b noMit.tif', 'site7 37109me5_r smaller.noMit.tif', 'site1 37109me5_r1-c2_g12s01a 2k.noMit.tif', 'site2 37109me5_r2-c1_g12s02a 2k.noMit.tif', 'site3 37109me5_r2-c2_g12s02a.noMit.tif', 'site9 37109me5_r small.noMit.tif', 'site5 37109me5_r2-c2_g12s02c.noMit.tif', 'site4 37109me5_r1-c2_g12s01b 2k.noMit.tif']\n"
       ]
      },
      {
       "output_type": "stream",
       "stream": "stdout",
       "text": [
        "Reading /home/larry/Images/Michelle-Series//37109/site6 37109me5_r2-c1_g12s02a noMit.tif\n"
       ]
      },
      {
       "output_type": "stream",
       "stream": "stdout",
       "text": [
        "Processing interfaces for class terminal in file /home/larry/Images/Michelle-Series//37109/site6 37109me5_r2-c1_g12s02a noMit.tif\n"
       ]
      },
      {
       "output_type": "stream",
       "stream": "stdout",
       "text": [
        "Processing interfaces for class glia in file /home/larry/Images/Michelle-Series//37109/site6 37109me5_r2-c1_g12s02a noMit.tif\n"
       ]
      },
      {
       "output_type": "stream",
       "stream": "stdout",
       "text": [
        "Reading /home/larry/Images/Michelle-Series//37109/site10 37109me5_r2-c2_g12s02a noMit.tif\n"
       ]
      },
      {
       "output_type": "stream",
       "stream": "stdout",
       "text": [
        "Processing interfaces for class terminal in file /home/larry/Images/Michelle-Series//37109/site10 37109me5_r2-c2_g12s02a noMit.tif\n"
       ]
      },
      {
       "output_type": "stream",
       "stream": "stdout",
       "text": [
        "Processing interfaces for class glia in file /home/larry/Images/Michelle-Series//37109/site10 37109me5_r2-c2_g12s02a noMit.tif\n"
       ]
      },
      {
       "output_type": "stream",
       "stream": "stdout",
       "text": [
        "Reading /home/larry/Images/Michelle-Series//37109/site8 37109me5_r2-c1_g12s02b noMit.tif\n"
       ]
      },
      {
       "output_type": "stream",
       "stream": "stdout",
       "text": [
        "Processing interfaces for class terminal in file /home/larry/Images/Michelle-Series//37109/site8 37109me5_r2-c1_g12s02b noMit.tif\n"
       ]
      },
      {
       "output_type": "stream",
       "stream": "stdout",
       "text": [
        "Processing interfaces for class glia in file /home/larry/Images/Michelle-Series//37109/site8 37109me5_r2-c1_g12s02b noMit.tif\n"
       ]
      },
      {
       "output_type": "stream",
       "stream": "stdout",
       "text": [
        "Reading /home/larry/Images/Michelle-Series//37109/site7 37109me5_r smaller.noMit.tif\n"
       ]
      },
      {
       "output_type": "stream",
       "stream": "stdout",
       "text": [
        "Processing interfaces for class terminal in file /home/larry/Images/Michelle-Series//37109/site7 37109me5_r smaller.noMit.tif\n"
       ]
      },
      {
       "output_type": "stream",
       "stream": "stdout",
       "text": [
        "Processing interfaces for class glia in file /home/larry/Images/Michelle-Series//37109/site7 37109me5_r smaller.noMit.tif\n"
       ]
      },
      {
       "output_type": "stream",
       "stream": "stdout",
       "text": [
        "Reading /home/larry/Images/Michelle-Series//37109/site1 37109me5_r1-c2_g12s01a 2k.noMit.tif\n"
       ]
      },
      {
       "output_type": "stream",
       "stream": "stdout",
       "text": [
        "Processing interfaces for class terminal in file /home/larry/Images/Michelle-Series//37109/site1 37109me5_r1-c2_g12s01a 2k.noMit.tif\n"
       ]
      },
      {
       "output_type": "stream",
       "stream": "stdout",
       "text": [
        "Processing interfaces for class glia in file /home/larry/Images/Michelle-Series//37109/site1 37109me5_r1-c2_g12s01a 2k.noMit.tif\n"
       ]
      },
      {
       "output_type": "stream",
       "stream": "stdout",
       "text": [
        "Reading /home/larry/Images/Michelle-Series//37109/site2 37109me5_r2-c1_g12s02a 2k.noMit.tif\n"
       ]
      },
      {
       "output_type": "stream",
       "stream": "stdout",
       "text": [
        "Processing interfaces for class terminal in file /home/larry/Images/Michelle-Series//37109/site2 37109me5_r2-c1_g12s02a 2k.noMit.tif\n"
       ]
      },
      {
       "output_type": "stream",
       "stream": "stdout",
       "text": [
        "Processing interfaces for class glia in file /home/larry/Images/Michelle-Series//37109/site2 37109me5_r2-c1_g12s02a 2k.noMit.tif\n"
       ]
      },
      {
       "output_type": "stream",
       "stream": "stdout",
       "text": [
        "Reading /home/larry/Images/Michelle-Series//37109/site3 37109me5_r2-c2_g12s02a.noMit.tif\n"
       ]
      },
      {
       "output_type": "stream",
       "stream": "stdout",
       "text": [
        "Processing interfaces for class terminal in file /home/larry/Images/Michelle-Series//37109/site3 37109me5_r2-c2_g12s02a.noMit.tif\n"
       ]
      },
      {
       "output_type": "stream",
       "stream": "stdout",
       "text": [
        "Processing interfaces for class glia in file /home/larry/Images/Michelle-Series//37109/site3 37109me5_r2-c2_g12s02a.noMit.tif\n"
       ]
      },
      {
       "output_type": "stream",
       "stream": "stdout",
       "text": [
        "Reading /home/larry/Images/Michelle-Series//37109/site9 37109me5_r small.noMit.tif\n"
       ]
      },
      {
       "output_type": "stream",
       "stream": "stdout",
       "text": [
        "Processing interfaces for class terminal in file /home/larry/Images/Michelle-Series//37109/site9 37109me5_r small.noMit.tif\n"
       ]
      },
      {
       "output_type": "stream",
       "stream": "stdout",
       "text": [
        "Processing interfaces for class glia in file /home/larry/Images/Michelle-Series//37109/site9 37109me5_r small.noMit.tif\n"
       ]
      },
      {
       "output_type": "stream",
       "stream": "stdout",
       "text": [
        "Reading /home/larry/Images/Michelle-Series//37109/site5 37109me5_r2-c2_g12s02c.noMit.tif\n"
       ]
      },
      {
       "output_type": "stream",
       "stream": "stdout",
       "text": [
        "Processing interfaces for class terminal in file /home/larry/Images/Michelle-Series//37109/site5 37109me5_r2-c2_g12s02c.noMit.tif\n"
       ]
      },
      {
       "output_type": "stream",
       "stream": "stdout",
       "text": [
        "Processing interfaces for class glia in file /home/larry/Images/Michelle-Series//37109/site5 37109me5_r2-c2_g12s02c.noMit.tif\n"
       ]
      },
      {
       "output_type": "stream",
       "stream": "stdout",
       "text": [
        "Reading /home/larry/Images/Michelle-Series//37109/site4 37109me5_r1-c2_g12s01b 2k.noMit.tif\n"
       ]
      },
      {
       "output_type": "stream",
       "stream": "stdout",
       "text": [
        "Processing interfaces for class terminal in file /home/larry/Images/Michelle-Series//37109/site4 37109me5_r1-c2_g12s01b 2k.noMit.tif\n"
       ]
      },
      {
       "output_type": "stream",
       "stream": "stdout",
       "text": [
        "Processing interfaces for class glia in file /home/larry/Images/Michelle-Series//37109/site4 37109me5_r1-c2_g12s01b 2k.noMit.tif\n"
       ]
      },
      {
       "output_type": "stream",
       "stream": "stdout",
       "text": [
        "Writing capillary map to  /home/larry/Images/Michelle-Series//37109/capillary_interfaces.map\n"
       ]
      },
      {
       "output_type": "stream",
       "stream": "stdout",
       "text": [
        "Writing 37109 stats to interface_stats37109.csv\n"
       ]
      },
      {
       "output_type": "stream",
       "stream": "stdout",
       "text": [
        "['site8_2k_Tile_r1-c1_31634me3yeGrd3tak2c.noMit.tif', 'site3 2k site 4 FLATwithMitochondria_31634me3yeGrd3tak2c.noMit.tif', 'site9_2k_Tile_r1-c1_31634me3yeGrd1tak2a.noMit.tif', 'site2 2k site 7 FLATwithMitochondria_31634me3yeGrd1c.noMit.tif', 'site6_2k_FLATwithMitochondria_31634me3yeGrd1c.noMit.tif', 'site1 31634r1c1b.noMit.tif', 'site7_2k_Tile_r1-c1_31634me3yeGrd3tak2d.noMit.tif', 'site10_2k_Tile_r1-c1_31634me3_site1-upper3.noMit.tif', 's4 Tile_r1-c1_31634me3yeGrd1tak2a.noMit.tif']\n"
       ]
      },
      {
       "output_type": "stream",
       "stream": "stdout",
       "text": [
        "Reading /home/larry/Images/Michelle-Series//31634/site8_2k_Tile_r1-c1_31634me3yeGrd3tak2c.noMit.tif\n"
       ]
      },
      {
       "output_type": "stream",
       "stream": "stdout",
       "text": [
        "Processing interfaces for class terminal in file /home/larry/Images/Michelle-Series//31634/site8_2k_Tile_r1-c1_31634me3yeGrd3tak2c.noMit.tif\n"
       ]
      },
      {
       "output_type": "stream",
       "stream": "stdout",
       "text": [
        "Processing interfaces for class glia in file /home/larry/Images/Michelle-Series//31634/site8_2k_Tile_r1-c1_31634me3yeGrd3tak2c.noMit.tif\n"
       ]
      },
      {
       "output_type": "stream",
       "stream": "stdout",
       "text": [
        "Reading /home/larry/Images/Michelle-Series//31634/site3 2k site 4 FLATwithMitochondria_31634me3yeGrd3tak2c.noMit.tif\n"
       ]
      },
      {
       "output_type": "stream",
       "stream": "stdout",
       "text": [
        "Processing interfaces for class terminal in file /home/larry/Images/Michelle-Series//31634/site3 2k site 4 FLATwithMitochondria_31634me3yeGrd3tak2c.noMit.tif\n"
       ]
      },
      {
       "output_type": "stream",
       "stream": "stdout",
       "text": [
        "Processing interfaces for class glia in file /home/larry/Images/Michelle-Series//31634/site3 2k site 4 FLATwithMitochondria_31634me3yeGrd3tak2c.noMit.tif\n"
       ]
      },
      {
       "output_type": "stream",
       "stream": "stdout",
       "text": [
        "Reading /home/larry/Images/Michelle-Series//31634/site9_2k_Tile_r1-c1_31634me3yeGrd1tak2a.noMit.tif\n"
       ]
      },
      {
       "output_type": "stream",
       "stream": "stdout",
       "text": [
        "Processing interfaces for class terminal in file /home/larry/Images/Michelle-Series//31634/site9_2k_Tile_r1-c1_31634me3yeGrd1tak2a.noMit.tif\n"
       ]
      },
      {
       "output_type": "stream",
       "stream": "stdout",
       "text": [
        "Processing interfaces for class glia in file /home/larry/Images/Michelle-Series//31634/site9_2k_Tile_r1-c1_31634me3yeGrd1tak2a.noMit.tif\n"
       ]
      },
      {
       "output_type": "stream",
       "stream": "stdout",
       "text": [
        "Reading /home/larry/Images/Michelle-Series//31634/site2 2k site 7 FLATwithMitochondria_31634me3yeGrd1c.noMit.tif\n"
       ]
      },
      {
       "output_type": "stream",
       "stream": "stdout",
       "text": [
        "Processing interfaces for class terminal in file /home/larry/Images/Michelle-Series//31634/site2 2k site 7 FLATwithMitochondria_31634me3yeGrd1c.noMit.tif\n"
       ]
      },
      {
       "output_type": "stream",
       "stream": "stdout",
       "text": [
        "Processing interfaces for class glia in file /home/larry/Images/Michelle-Series//31634/site2 2k site 7 FLATwithMitochondria_31634me3yeGrd1c.noMit.tif\n"
       ]
      },
      {
       "output_type": "stream",
       "stream": "stdout",
       "text": [
        "Reading /home/larry/Images/Michelle-Series//31634/site6_2k_FLATwithMitochondria_31634me3yeGrd1c.noMit.tif\n"
       ]
      },
      {
       "output_type": "stream",
       "stream": "stdout",
       "text": [
        "Processing interfaces for class terminal in file /home/larry/Images/Michelle-Series//31634/site6_2k_FLATwithMitochondria_31634me3yeGrd1c.noMit.tif\n"
       ]
      },
      {
       "output_type": "stream",
       "stream": "stdout",
       "text": [
        "Processing interfaces for class glia in file /home/larry/Images/Michelle-Series//31634/site6_2k_FLATwithMitochondria_31634me3yeGrd1c.noMit.tif\n"
       ]
      },
      {
       "output_type": "stream",
       "stream": "stdout",
       "text": [
        "Reading /home/larry/Images/Michelle-Series//31634/site1 31634r1c1b.noMit.tif\n"
       ]
      },
      {
       "output_type": "stream",
       "stream": "stdout",
       "text": [
        "Processing interfaces for class terminal in file /home/larry/Images/Michelle-Series//31634/site1 31634r1c1b.noMit.tif\n"
       ]
      },
      {
       "output_type": "stream",
       "stream": "stdout",
       "text": [
        "Processing interfaces for class glia in file /home/larry/Images/Michelle-Series//31634/site1 31634r1c1b.noMit.tif\n"
       ]
      },
      {
       "output_type": "stream",
       "stream": "stdout",
       "text": [
        "Reading /home/larry/Images/Michelle-Series//31634/site7_2k_Tile_r1-c1_31634me3yeGrd3tak2d.noMit.tif\n"
       ]
      },
      {
       "output_type": "stream",
       "stream": "stdout",
       "text": [
        "Processing interfaces for class terminal in file /home/larry/Images/Michelle-Series//31634/site7_2k_Tile_r1-c1_31634me3yeGrd3tak2d.noMit.tif\n"
       ]
      },
      {
       "output_type": "stream",
       "stream": "stdout",
       "text": [
        "Processing interfaces for class glia in file /home/larry/Images/Michelle-Series//31634/site7_2k_Tile_r1-c1_31634me3yeGrd3tak2d.noMit.tif\n"
       ]
      },
      {
       "output_type": "stream",
       "stream": "stdout",
       "text": [
        "Reading /home/larry/Images/Michelle-Series//31634/site10_2k_Tile_r1-c1_31634me3_site1-upper3.noMit.tif\n"
       ]
      },
      {
       "output_type": "stream",
       "stream": "stdout",
       "text": [
        "Processing interfaces for class terminal in file /home/larry/Images/Michelle-Series//31634/site10_2k_Tile_r1-c1_31634me3_site1-upper3.noMit.tif\n"
       ]
      },
      {
       "output_type": "stream",
       "stream": "stdout",
       "text": [
        "Processing interfaces for class glia in file /home/larry/Images/Michelle-Series//31634/site10_2k_Tile_r1-c1_31634me3_site1-upper3.noMit.tif\n"
       ]
      },
      {
       "output_type": "stream",
       "stream": "stdout",
       "text": [
        "Reading /home/larry/Images/Michelle-Series//31634/s4 Tile_r1-c1_31634me3yeGrd1tak2a.noMit.tif\n"
       ]
      },
      {
       "output_type": "stream",
       "stream": "stdout",
       "text": [
        "Processing interfaces for class terminal in file /home/larry/Images/Michelle-Series//31634/s4 Tile_r1-c1_31634me3yeGrd1tak2a.noMit.tif\n"
       ]
      },
      {
       "output_type": "stream",
       "stream": "stdout",
       "text": [
        "Processing interfaces for class glia in file /home/larry/Images/Michelle-Series//31634/s4 Tile_r1-c1_31634me3yeGrd1tak2a.noMit.tif\n"
       ]
      },
      {
       "output_type": "stream",
       "stream": "stdout",
       "text": [
        "Writing capillary map to  /home/larry/Images/Michelle-Series//31634/capillary_interfaces.map\n"
       ]
      },
      {
       "output_type": "stream",
       "stream": "stdout",
       "text": [
        "Writing 31634 stats to interface_stats31634.csv\n"
       ]
      },
      {
       "output_type": "stream",
       "stream": "stdout",
       "text": [
        "['s11 Tile_r1-c1_grid05 pos3.noMit.tif', 's5 Tile_r1-c1_grid05 pos2.noMit.tif', 's10 Tile_r1-c1_grid05 pos3.noMit.tif', 's8 Tile_r1-c1_grid05 pos3.noMit.tif', 's9 Tile_r1-c1_grid05 pos3.noMit.tif', 's12 Tile_r1-c1_grid05 pos3.noMit.tif', 's13 Tile_r1-c1_grid05 pos3.noMit.tif', 's7 Tile_r1-c1_grid05 pos2.noMit.tif', 's14 Tile_r1-c1_grid05 pos3.noMit.tif', 's4 Tile_r1-c1_grid05 pos2.noMit.tif']\n"
       ]
      },
      {
       "output_type": "stream",
       "stream": "stdout",
       "text": [
        "Reading /home/larry/Images/Michelle-Series//31500/s11 Tile_r1-c1_grid05 pos3.noMit.tif\n"
       ]
      },
      {
       "output_type": "stream",
       "stream": "stdout",
       "text": [
        "Processing interfaces for class terminal in file /home/larry/Images/Michelle-Series//31500/s11 Tile_r1-c1_grid05 pos3.noMit.tif\n"
       ]
      },
      {
       "output_type": "stream",
       "stream": "stdout",
       "text": [
        "Processing interfaces for class glia in file /home/larry/Images/Michelle-Series//31500/s11 Tile_r1-c1_grid05 pos3.noMit.tif\n"
       ]
      },
      {
       "output_type": "stream",
       "stream": "stdout",
       "text": [
        "Reading /home/larry/Images/Michelle-Series//31500/s5 Tile_r1-c1_grid05 pos2.noMit.tif\n"
       ]
      },
      {
       "output_type": "stream",
       "stream": "stdout",
       "text": [
        "Processing interfaces for class terminal in file /home/larry/Images/Michelle-Series//31500/s5 Tile_r1-c1_grid05 pos2.noMit.tif\n"
       ]
      },
      {
       "output_type": "stream",
       "stream": "stdout",
       "text": [
        "Processing interfaces for class glia in file /home/larry/Images/Michelle-Series//31500/s5 Tile_r1-c1_grid05 pos2.noMit.tif\n"
       ]
      },
      {
       "output_type": "stream",
       "stream": "stdout",
       "text": [
        "Reading /home/larry/Images/Michelle-Series//31500/s10 Tile_r1-c1_grid05 pos3.noMit.tif\n"
       ]
      },
      {
       "output_type": "stream",
       "stream": "stdout",
       "text": [
        "Processing interfaces for class terminal in file /home/larry/Images/Michelle-Series//31500/s10 Tile_r1-c1_grid05 pos3.noMit.tif\n"
       ]
      },
      {
       "output_type": "stream",
       "stream": "stdout",
       "text": [
        "Processing interfaces for class glia in file /home/larry/Images/Michelle-Series//31500/s10 Tile_r1-c1_grid05 pos3.noMit.tif\n"
       ]
      },
      {
       "output_type": "stream",
       "stream": "stdout",
       "text": [
        "Reading /home/larry/Images/Michelle-Series//31500/s8 Tile_r1-c1_grid05 pos3.noMit.tif\n"
       ]
      },
      {
       "output_type": "stream",
       "stream": "stdout",
       "text": [
        "Processing interfaces for class terminal in file /home/larry/Images/Michelle-Series//31500/s8 Tile_r1-c1_grid05 pos3.noMit.tif\n"
       ]
      },
      {
       "output_type": "stream",
       "stream": "stdout",
       "text": [
        "Processing interfaces for class glia in file /home/larry/Images/Michelle-Series//31500/s8 Tile_r1-c1_grid05 pos3.noMit.tif\n"
       ]
      },
      {
       "output_type": "stream",
       "stream": "stdout",
       "text": [
        "Reading /home/larry/Images/Michelle-Series//31500/s9 Tile_r1-c1_grid05 pos3.noMit.tif\n"
       ]
      },
      {
       "output_type": "stream",
       "stream": "stdout",
       "text": [
        "Processing interfaces for class terminal in file /home/larry/Images/Michelle-Series//31500/s9 Tile_r1-c1_grid05 pos3.noMit.tif\n"
       ]
      },
      {
       "output_type": "stream",
       "stream": "stdout",
       "text": [
        "Processing interfaces for class glia in file /home/larry/Images/Michelle-Series//31500/s9 Tile_r1-c1_grid05 pos3.noMit.tif\n"
       ]
      },
      {
       "output_type": "stream",
       "stream": "stdout",
       "text": [
        "Reading /home/larry/Images/Michelle-Series//31500/s12 Tile_r1-c1_grid05 pos3.noMit.tif\n"
       ]
      },
      {
       "output_type": "stream",
       "stream": "stdout",
       "text": [
        "Processing interfaces for class terminal in file /home/larry/Images/Michelle-Series//31500/s12 Tile_r1-c1_grid05 pos3.noMit.tif\n"
       ]
      },
      {
       "output_type": "stream",
       "stream": "stdout",
       "text": [
        "Processing interfaces for class glia in file /home/larry/Images/Michelle-Series//31500/s12 Tile_r1-c1_grid05 pos3.noMit.tif\n"
       ]
      },
      {
       "output_type": "stream",
       "stream": "stdout",
       "text": [
        "Reading /home/larry/Images/Michelle-Series//31500/s13 Tile_r1-c1_grid05 pos3.noMit.tif\n"
       ]
      },
      {
       "output_type": "stream",
       "stream": "stdout",
       "text": [
        "Processing interfaces for class terminal in file /home/larry/Images/Michelle-Series//31500/s13 Tile_r1-c1_grid05 pos3.noMit.tif\n"
       ]
      },
      {
       "output_type": "stream",
       "stream": "stdout",
       "text": [
        "Processing interfaces for class glia in file /home/larry/Images/Michelle-Series//31500/s13 Tile_r1-c1_grid05 pos3.noMit.tif\n"
       ]
      },
      {
       "output_type": "stream",
       "stream": "stdout",
       "text": [
        "Reading /home/larry/Images/Michelle-Series//31500/s7 Tile_r1-c1_grid05 pos2.noMit.tif\n"
       ]
      },
      {
       "output_type": "stream",
       "stream": "stdout",
       "text": [
        "Processing interfaces for class terminal in file /home/larry/Images/Michelle-Series//31500/s7 Tile_r1-c1_grid05 pos2.noMit.tif\n"
       ]
      },
      {
       "output_type": "stream",
       "stream": "stdout",
       "text": [
        "Processing interfaces for class glia in file /home/larry/Images/Michelle-Series//31500/s7 Tile_r1-c1_grid05 pos2.noMit.tif\n"
       ]
      },
      {
       "output_type": "stream",
       "stream": "stdout",
       "text": [
        "Reading /home/larry/Images/Michelle-Series//31500/s14 Tile_r1-c1_grid05 pos3.noMit.tif\n"
       ]
      },
      {
       "output_type": "stream",
       "stream": "stdout",
       "text": [
        "Processing interfaces for class terminal in file /home/larry/Images/Michelle-Series//31500/s14 Tile_r1-c1_grid05 pos3.noMit.tif\n"
       ]
      },
      {
       "output_type": "stream",
       "stream": "stdout",
       "text": [
        "Processing interfaces for class glia in file /home/larry/Images/Michelle-Series//31500/s14 Tile_r1-c1_grid05 pos3.noMit.tif\n"
       ]
      },
      {
       "output_type": "stream",
       "stream": "stdout",
       "text": [
        "Reading /home/larry/Images/Michelle-Series//31500/s4 Tile_r1-c1_grid05 pos2.noMit.tif\n"
       ]
      },
      {
       "output_type": "stream",
       "stream": "stdout",
       "text": [
        "Processing interfaces for class terminal in file /home/larry/Images/Michelle-Series//31500/s4 Tile_r1-c1_grid05 pos2.noMit.tif\n"
       ]
      },
      {
       "output_type": "stream",
       "stream": "stdout",
       "text": [
        "Processing interfaces for class glia in file /home/larry/Images/Michelle-Series//31500/s4 Tile_r1-c1_grid05 pos2.noMit.tif\n"
       ]
      },
      {
       "output_type": "stream",
       "stream": "stdout",
       "text": [
        "Writing capillary map to  /home/larry/Images/Michelle-Series//31500/capillary_interfaces.map\n"
       ]
      },
      {
       "output_type": "stream",
       "stream": "stdout",
       "text": [
        "Writing 31500 stats to interface_stats31500.csv\n"
       ]
      },
      {
       "output_type": "stream",
       "stream": "stdout",
       "text": [
        "['site10 _29656me7 site2.FLATnoMit.tif', 'site6 _29656me7 1D d 1.FLATnoMit.tif', 'site5 _29656me7 1D c 1.FLATnoMit.tif', 'site3 _29656me7 1D b 3.FLATnoMit.tif', 'site7 _29656me7 1D d 2.FLATnoMit.tif', 'site2 _29656me7 1D b 2.FLATnoMit.tif', 'site1 _29656me7 1D b 1.FLATnoMit.tif', 'site4 _29656me7 1D b.FLATnoMit.tif', 'site8 _29656me7 1D d.FLATnoMit.tif', 'site9 _29656me7 site2 1.FLATnoMit.tif']\n"
       ]
      },
      {
       "output_type": "stream",
       "stream": "stdout",
       "text": [
        "Reading /home/larry/Images/Michelle-Series//29656/site10 _29656me7 site2.FLATnoMit.tif\n"
       ]
      },
      {
       "output_type": "stream",
       "stream": "stdout",
       "text": [
        "Processing interfaces for class terminal in file /home/larry/Images/Michelle-Series//29656/site10 _29656me7 site2.FLATnoMit.tif\n"
       ]
      },
      {
       "output_type": "stream",
       "stream": "stdout",
       "text": [
        "Processing interfaces for class glia in file /home/larry/Images/Michelle-Series//29656/site10 _29656me7 site2.FLATnoMit.tif\n"
       ]
      },
      {
       "output_type": "stream",
       "stream": "stdout",
       "text": [
        "Reading /home/larry/Images/Michelle-Series//29656/site6 _29656me7 1D d 1.FLATnoMit.tif\n"
       ]
      },
      {
       "output_type": "stream",
       "stream": "stdout",
       "text": [
        "Processing interfaces for class terminal in file /home/larry/Images/Michelle-Series//29656/site6 _29656me7 1D d 1.FLATnoMit.tif\n"
       ]
      },
      {
       "output_type": "stream",
       "stream": "stdout",
       "text": [
        "Processing interfaces for class glia in file /home/larry/Images/Michelle-Series//29656/site6 _29656me7 1D d 1.FLATnoMit.tif\n"
       ]
      },
      {
       "output_type": "stream",
       "stream": "stdout",
       "text": [
        "Reading /home/larry/Images/Michelle-Series//29656/site5 _29656me7 1D c 1.FLATnoMit.tif\n"
       ]
      },
      {
       "output_type": "stream",
       "stream": "stdout",
       "text": [
        "Processing interfaces for class terminal in file /home/larry/Images/Michelle-Series//29656/site5 _29656me7 1D c 1.FLATnoMit.tif\n"
       ]
      },
      {
       "output_type": "stream",
       "stream": "stdout",
       "text": [
        "Processing interfaces for class glia in file /home/larry/Images/Michelle-Series//29656/site5 _29656me7 1D c 1.FLATnoMit.tif\n"
       ]
      },
      {
       "output_type": "stream",
       "stream": "stdout",
       "text": [
        "Reading /home/larry/Images/Michelle-Series//29656/site3 _29656me7 1D b 3.FLATnoMit.tif\n"
       ]
      },
      {
       "output_type": "stream",
       "stream": "stdout",
       "text": [
        "Processing interfaces for class terminal in file /home/larry/Images/Michelle-Series//29656/site3 _29656me7 1D b 3.FLATnoMit.tif\n"
       ]
      },
      {
       "output_type": "stream",
       "stream": "stdout",
       "text": [
        "Processing interfaces for class glia in file /home/larry/Images/Michelle-Series//29656/site3 _29656me7 1D b 3.FLATnoMit.tif\n"
       ]
      },
      {
       "output_type": "stream",
       "stream": "stdout",
       "text": [
        "Reading /home/larry/Images/Michelle-Series//29656/site7 _29656me7 1D d 2.FLATnoMit.tif\n"
       ]
      },
      {
       "output_type": "stream",
       "stream": "stdout",
       "text": [
        "Processing interfaces for class terminal in file /home/larry/Images/Michelle-Series//29656/site7 _29656me7 1D d 2.FLATnoMit.tif\n"
       ]
      },
      {
       "output_type": "stream",
       "stream": "stdout",
       "text": [
        "Processing interfaces for class glia in file /home/larry/Images/Michelle-Series//29656/site7 _29656me7 1D d 2.FLATnoMit.tif\n"
       ]
      },
      {
       "output_type": "stream",
       "stream": "stdout",
       "text": [
        "Reading /home/larry/Images/Michelle-Series//29656/site2 _29656me7 1D b 2.FLATnoMit.tif\n"
       ]
      },
      {
       "output_type": "stream",
       "stream": "stdout",
       "text": [
        "Processing interfaces for class terminal in file /home/larry/Images/Michelle-Series//29656/site2 _29656me7 1D b 2.FLATnoMit.tif\n"
       ]
      },
      {
       "output_type": "stream",
       "stream": "stdout",
       "text": [
        "Processing interfaces for class glia in file /home/larry/Images/Michelle-Series//29656/site2 _29656me7 1D b 2.FLATnoMit.tif\n"
       ]
      },
      {
       "output_type": "stream",
       "stream": "stdout",
       "text": [
        "Reading /home/larry/Images/Michelle-Series//29656/site1 _29656me7 1D b 1.FLATnoMit.tif\n"
       ]
      },
      {
       "output_type": "stream",
       "stream": "stdout",
       "text": [
        "Processing interfaces for class terminal in file /home/larry/Images/Michelle-Series//29656/site1 _29656me7 1D b 1.FLATnoMit.tif\n"
       ]
      },
      {
       "output_type": "stream",
       "stream": "stdout",
       "text": [
        "Processing interfaces for class glia in file /home/larry/Images/Michelle-Series//29656/site1 _29656me7 1D b 1.FLATnoMit.tif\n"
       ]
      },
      {
       "output_type": "stream",
       "stream": "stdout",
       "text": [
        "Reading /home/larry/Images/Michelle-Series//29656/site4 _29656me7 1D b.FLATnoMit.tif\n"
       ]
      },
      {
       "output_type": "stream",
       "stream": "stdout",
       "text": [
        "Processing interfaces for class terminal in file /home/larry/Images/Michelle-Series//29656/site4 _29656me7 1D b.FLATnoMit.tif\n"
       ]
      },
      {
       "output_type": "stream",
       "stream": "stdout",
       "text": [
        "Processing interfaces for class glia in file /home/larry/Images/Michelle-Series//29656/site4 _29656me7 1D b.FLATnoMit.tif\n"
       ]
      },
      {
       "output_type": "stream",
       "stream": "stdout",
       "text": [
        "Reading /home/larry/Images/Michelle-Series//29656/site8 _29656me7 1D d.FLATnoMit.tif\n"
       ]
      },
      {
       "output_type": "stream",
       "stream": "stdout",
       "text": [
        "Processing interfaces for class terminal in file /home/larry/Images/Michelle-Series//29656/site8 _29656me7 1D d.FLATnoMit.tif\n"
       ]
      },
      {
       "output_type": "stream",
       "stream": "stdout",
       "text": [
        "Processing interfaces for class glia in file /home/larry/Images/Michelle-Series//29656/site8 _29656me7 1D d.FLATnoMit.tif\n"
       ]
      },
      {
       "output_type": "stream",
       "stream": "stdout",
       "text": [
        "Reading /home/larry/Images/Michelle-Series//29656/site9 _29656me7 site2 1.FLATnoMit.tif\n"
       ]
      },
      {
       "output_type": "stream",
       "stream": "stdout",
       "text": [
        "Processing interfaces for class terminal in file /home/larry/Images/Michelle-Series//29656/site9 _29656me7 site2 1.FLATnoMit.tif\n"
       ]
      },
      {
       "output_type": "stream",
       "stream": "stdout",
       "text": [
        "Processing interfaces for class glia in file /home/larry/Images/Michelle-Series//29656/site9 _29656me7 site2 1.FLATnoMit.tif\n"
       ]
      },
      {
       "output_type": "stream",
       "stream": "stdout",
       "text": [
        "Writing capillary map to  /home/larry/Images/Michelle-Series//29656/capillary_interfaces.map\n"
       ]
      },
      {
       "output_type": "stream",
       "stream": "stdout",
       "text": [
        "Writing 29656 stats to interface_stats29656.csv\n"
       ]
      },
      {
       "output_type": "stream",
       "stream": "stdout",
       "text": [
        "['s8 37108ME9grd7A siteE Flat_noMit.tif', 's2 37108ME9grd7A siteA0 Flat_noMit.tif', 's7 37108ME9grd siteE-2 Flat_noMit.tif', 's3 37108ME9grd7A siteA3 Flat_noMit.tif', 's5 37108ME9grd7A siteC1 Flat_noMit.tif', 's9 site_ _37108ME9grd7A siteD.noMit.tif', 's3 37108ME9grd7A siteA2 Flat_noMit.tif', 's6 37108ME9grd7A siteC2 Flat_noMit.tif', 's4 37108ME9grd7A siteC Flat_noMit.tif', 's1 37108ME9grd siteC0.noMit.tif']\n"
       ]
      },
      {
       "output_type": "stream",
       "stream": "stdout",
       "text": [
        "Reading /home/larry/Images/Michelle-Series//37108/s8 37108ME9grd7A siteE Flat_noMit.tif\n"
       ]
      },
      {
       "output_type": "stream",
       "stream": "stdout",
       "text": [
        "Processing interfaces for class terminal in file /home/larry/Images/Michelle-Series//37108/s8 37108ME9grd7A siteE Flat_noMit.tif\n"
       ]
      },
      {
       "output_type": "stream",
       "stream": "stdout",
       "text": [
        "Processing interfaces for class glia in file /home/larry/Images/Michelle-Series//37108/s8 37108ME9grd7A siteE Flat_noMit.tif\n"
       ]
      },
      {
       "output_type": "stream",
       "stream": "stdout",
       "text": [
        "Reading /home/larry/Images/Michelle-Series//37108/s2 37108ME9grd7A siteA0 Flat_noMit.tif\n"
       ]
      },
      {
       "output_type": "stream",
       "stream": "stdout",
       "text": [
        "Processing interfaces for class terminal in file /home/larry/Images/Michelle-Series//37108/s2 37108ME9grd7A siteA0 Flat_noMit.tif\n"
       ]
      },
      {
       "output_type": "stream",
       "stream": "stdout",
       "text": [
        "Processing interfaces for class glia in file /home/larry/Images/Michelle-Series//37108/s2 37108ME9grd7A siteA0 Flat_noMit.tif\n"
       ]
      },
      {
       "output_type": "stream",
       "stream": "stdout",
       "text": [
        "Reading /home/larry/Images/Michelle-Series//37108/s7 37108ME9grd siteE-2 Flat_noMit.tif\n"
       ]
      },
      {
       "output_type": "stream",
       "stream": "stdout",
       "text": [
        "Processing interfaces for class terminal in file /home/larry/Images/Michelle-Series//37108/s7 37108ME9grd siteE-2 Flat_noMit.tif\n"
       ]
      },
      {
       "output_type": "stream",
       "stream": "stdout",
       "text": [
        "Processing interfaces for class glia in file /home/larry/Images/Michelle-Series//37108/s7 37108ME9grd siteE-2 Flat_noMit.tif\n"
       ]
      },
      {
       "output_type": "stream",
       "stream": "stdout",
       "text": [
        "Reading /home/larry/Images/Michelle-Series//37108/s3 37108ME9grd7A siteA3 Flat_noMit.tif\n"
       ]
      },
      {
       "output_type": "stream",
       "stream": "stdout",
       "text": [
        "Processing interfaces for class terminal in file /home/larry/Images/Michelle-Series//37108/s3 37108ME9grd7A siteA3 Flat_noMit.tif\n"
       ]
      },
      {
       "output_type": "stream",
       "stream": "stdout",
       "text": [
        "Processing interfaces for class glia in file /home/larry/Images/Michelle-Series//37108/s3 37108ME9grd7A siteA3 Flat_noMit.tif\n"
       ]
      },
      {
       "output_type": "stream",
       "stream": "stdout",
       "text": [
        "Reading /home/larry/Images/Michelle-Series//37108/s5 37108ME9grd7A siteC1 Flat_noMit.tif\n"
       ]
      },
      {
       "output_type": "stream",
       "stream": "stdout",
       "text": [
        "Processing interfaces for class terminal in file /home/larry/Images/Michelle-Series//37108/s5 37108ME9grd7A siteC1 Flat_noMit.tif\n"
       ]
      },
      {
       "output_type": "stream",
       "stream": "stdout",
       "text": [
        "Processing interfaces for class glia in file /home/larry/Images/Michelle-Series//37108/s5 37108ME9grd7A siteC1 Flat_noMit.tif\n"
       ]
      },
      {
       "output_type": "stream",
       "stream": "stdout",
       "text": [
        "Reading /home/larry/Images/Michelle-Series//37108/s9 site_ _37108ME9grd7A siteD.noMit.tif\n"
       ]
      },
      {
       "output_type": "stream",
       "stream": "stdout",
       "text": [
        "Processing interfaces for class terminal in file /home/larry/Images/Michelle-Series//37108/s9 site_ _37108ME9grd7A siteD.noMit.tif\n"
       ]
      },
      {
       "output_type": "stream",
       "stream": "stdout",
       "text": [
        "Processing interfaces for class glia in file /home/larry/Images/Michelle-Series//37108/s9 site_ _37108ME9grd7A siteD.noMit.tif\n"
       ]
      },
      {
       "output_type": "stream",
       "stream": "stdout",
       "text": [
        "Reading /home/larry/Images/Michelle-Series//37108/s3 37108ME9grd7A siteA2 Flat_noMit.tif\n"
       ]
      },
      {
       "output_type": "stream",
       "stream": "stdout",
       "text": [
        "Processing interfaces for class terminal in file /home/larry/Images/Michelle-Series//37108/s3 37108ME9grd7A siteA2 Flat_noMit.tif\n"
       ]
      },
      {
       "output_type": "stream",
       "stream": "stdout",
       "text": [
        "Processing interfaces for class glia in file /home/larry/Images/Michelle-Series//37108/s3 37108ME9grd7A siteA2 Flat_noMit.tif\n"
       ]
      },
      {
       "output_type": "stream",
       "stream": "stdout",
       "text": [
        "Reading /home/larry/Images/Michelle-Series//37108/s6 37108ME9grd7A siteC2 Flat_noMit.tif\n"
       ]
      },
      {
       "output_type": "stream",
       "stream": "stdout",
       "text": [
        "Processing interfaces for class terminal in file /home/larry/Images/Michelle-Series//37108/s6 37108ME9grd7A siteC2 Flat_noMit.tif\n"
       ]
      },
      {
       "output_type": "stream",
       "stream": "stdout",
       "text": [
        "Processing interfaces for class glia in file /home/larry/Images/Michelle-Series//37108/s6 37108ME9grd7A siteC2 Flat_noMit.tif\n"
       ]
      },
      {
       "output_type": "stream",
       "stream": "stdout",
       "text": [
        "Reading /home/larry/Images/Michelle-Series//37108/s4 37108ME9grd7A siteC Flat_noMit.tif\n"
       ]
      },
      {
       "output_type": "stream",
       "stream": "stdout",
       "text": [
        "Processing interfaces for class terminal in file /home/larry/Images/Michelle-Series//37108/s4 37108ME9grd7A siteC Flat_noMit.tif\n"
       ]
      },
      {
       "output_type": "stream",
       "stream": "stdout",
       "text": [
        "Processing interfaces for class glia in file /home/larry/Images/Michelle-Series//37108/s4 37108ME9grd7A siteC Flat_noMit.tif\n"
       ]
      },
      {
       "output_type": "stream",
       "stream": "stdout",
       "text": [
        "Reading /home/larry/Images/Michelle-Series//37108/s1 37108ME9grd siteC0.noMit.tif\n"
       ]
      },
      {
       "output_type": "stream",
       "stream": "stdout",
       "text": [
        "Processing interfaces for class terminal in file /home/larry/Images/Michelle-Series//37108/s1 37108ME9grd siteC0.noMit.tif\n"
       ]
      },
      {
       "output_type": "stream",
       "stream": "stdout",
       "text": [
        "Processing interfaces for class glia in file /home/larry/Images/Michelle-Series//37108/s1 37108ME9grd siteC0.noMit.tif\n"
       ]
      },
      {
       "output_type": "stream",
       "stream": "stdout",
       "text": [
        "Writing capillary map to  /home/larry/Images/Michelle-Series//37108/capillary_interfaces.map\n"
       ]
      },
      {
       "output_type": "stream",
       "stream": "stdout",
       "text": [
        "Writing 37108 stats to interface_stats37108.csv\n"
       ]
      },
      {
       "output_type": "stream",
       "stream": "stdout",
       "text": [
        "['site 4_31090 1a site3 noMit.tif', 'site 2_31090 1a site2 noMit.tif', 'site 1_31090 1a site2 noMit.tif', 'site 6_31090 1a site4 noMit.tif', 'site 7_31090 1a site4 noMit.tif', 'site 11_310901a site1 noMit.tif', 'site 3_31090 1a site2 noMit.tif', 'site 5_31090 1a site3 noMit.tif', 'site 12_310901a site1 noMit.tif', 'site 10_310901a site1 noMit.tif']\n"
       ]
      },
      {
       "output_type": "stream",
       "stream": "stdout",
       "text": [
        "Reading /home/larry/Images/Michelle-Series//31090/site 4_31090 1a site3 noMit.tif\n"
       ]
      },
      {
       "output_type": "stream",
       "stream": "stdout",
       "text": [
        "Processing interfaces for class terminal in file /home/larry/Images/Michelle-Series//31090/site 4_31090 1a site3 noMit.tif\n"
       ]
      },
      {
       "output_type": "stream",
       "stream": "stdout",
       "text": [
        "Processing interfaces for class glia in file /home/larry/Images/Michelle-Series//31090/site 4_31090 1a site3 noMit.tif\n"
       ]
      },
      {
       "output_type": "stream",
       "stream": "stdout",
       "text": [
        "Reading /home/larry/Images/Michelle-Series//31090/site 2_31090 1a site2 noMit.tif\n"
       ]
      },
      {
       "output_type": "stream",
       "stream": "stdout",
       "text": [
        "Processing interfaces for class terminal in file /home/larry/Images/Michelle-Series//31090/site 2_31090 1a site2 noMit.tif\n"
       ]
      },
      {
       "output_type": "stream",
       "stream": "stdout",
       "text": [
        "Processing interfaces for class glia in file /home/larry/Images/Michelle-Series//31090/site 2_31090 1a site2 noMit.tif\n"
       ]
      },
      {
       "output_type": "stream",
       "stream": "stdout",
       "text": [
        "Reading /home/larry/Images/Michelle-Series//31090/site 1_31090 1a site2 noMit.tif\n"
       ]
      },
      {
       "output_type": "stream",
       "stream": "stdout",
       "text": [
        "Processing interfaces for class terminal in file /home/larry/Images/Michelle-Series//31090/site 1_31090 1a site2 noMit.tif\n"
       ]
      },
      {
       "output_type": "stream",
       "stream": "stdout",
       "text": [
        "Processing interfaces for class glia in file /home/larry/Images/Michelle-Series//31090/site 1_31090 1a site2 noMit.tif\n"
       ]
      },
      {
       "output_type": "stream",
       "stream": "stdout",
       "text": [
        "Reading /home/larry/Images/Michelle-Series//31090/site 6_31090 1a site4 noMit.tif\n"
       ]
      },
      {
       "output_type": "stream",
       "stream": "stdout",
       "text": [
        "Processing interfaces for class terminal in file /home/larry/Images/Michelle-Series//31090/site 6_31090 1a site4 noMit.tif\n"
       ]
      },
      {
       "output_type": "stream",
       "stream": "stdout",
       "text": [
        "Processing interfaces for class glia in file /home/larry/Images/Michelle-Series//31090/site 6_31090 1a site4 noMit.tif\n"
       ]
      },
      {
       "output_type": "stream",
       "stream": "stdout",
       "text": [
        "Reading /home/larry/Images/Michelle-Series//31090/site 7_31090 1a site4 noMit.tif\n"
       ]
      },
      {
       "output_type": "stream",
       "stream": "stdout",
       "text": [
        "Processing interfaces for class terminal in file /home/larry/Images/Michelle-Series//31090/site 7_31090 1a site4 noMit.tif\n"
       ]
      },
      {
       "output_type": "stream",
       "stream": "stdout",
       "text": [
        "Processing interfaces for class glia in file /home/larry/Images/Michelle-Series//31090/site 7_31090 1a site4 noMit.tif\n"
       ]
      },
      {
       "output_type": "stream",
       "stream": "stdout",
       "text": [
        "Reading /home/larry/Images/Michelle-Series//31090/site 11_310901a site1 noMit.tif\n"
       ]
      },
      {
       "output_type": "stream",
       "stream": "stdout",
       "text": [
        "Processing interfaces for class terminal in file /home/larry/Images/Michelle-Series//31090/site 11_310901a site1 noMit.tif\n"
       ]
      },
      {
       "output_type": "stream",
       "stream": "stdout",
       "text": [
        "Processing interfaces for class glia in file /home/larry/Images/Michelle-Series//31090/site 11_310901a site1 noMit.tif\n"
       ]
      },
      {
       "output_type": "stream",
       "stream": "stdout",
       "text": [
        "Reading /home/larry/Images/Michelle-Series//31090/site 3_31090 1a site2 noMit.tif\n"
       ]
      },
      {
       "output_type": "stream",
       "stream": "stdout",
       "text": [
        "Processing interfaces for class terminal in file /home/larry/Images/Michelle-Series//31090/site 3_31090 1a site2 noMit.tif\n"
       ]
      },
      {
       "output_type": "stream",
       "stream": "stdout",
       "text": [
        "Processing interfaces for class glia in file /home/larry/Images/Michelle-Series//31090/site 3_31090 1a site2 noMit.tif\n"
       ]
      },
      {
       "output_type": "stream",
       "stream": "stdout",
       "text": [
        "Reading /home/larry/Images/Michelle-Series//31090/site 5_31090 1a site3 noMit.tif\n"
       ]
      },
      {
       "output_type": "stream",
       "stream": "stdout",
       "text": [
        "Processing interfaces for class terminal in file /home/larry/Images/Michelle-Series//31090/site 5_31090 1a site3 noMit.tif\n"
       ]
      },
      {
       "output_type": "stream",
       "stream": "stdout",
       "text": [
        "Processing interfaces for class glia in file /home/larry/Images/Michelle-Series//31090/site 5_31090 1a site3 noMit.tif\n"
       ]
      },
      {
       "output_type": "stream",
       "stream": "stdout",
       "text": [
        "Reading /home/larry/Images/Michelle-Series//31090/site 12_310901a site1 noMit.tif\n"
       ]
      },
      {
       "output_type": "stream",
       "stream": "stdout",
       "text": [
        "Processing interfaces for class terminal in file /home/larry/Images/Michelle-Series//31090/site 12_310901a site1 noMit.tif\n"
       ]
      },
      {
       "output_type": "stream",
       "stream": "stdout",
       "text": [
        "Processing interfaces for class glia in file /home/larry/Images/Michelle-Series//31090/site 12_310901a site1 noMit.tif\n"
       ]
      },
      {
       "output_type": "stream",
       "stream": "stdout",
       "text": [
        "Reading /home/larry/Images/Michelle-Series//31090/site 10_310901a site1 noMit.tif\n"
       ]
      },
      {
       "output_type": "stream",
       "stream": "stdout",
       "text": [
        "Processing interfaces for class terminal in file /home/larry/Images/Michelle-Series//31090/site 10_310901a site1 noMit.tif\n"
       ]
      },
      {
       "output_type": "stream",
       "stream": "stdout",
       "text": [
        "Processing interfaces for class glia in file /home/larry/Images/Michelle-Series//31090/site 10_310901a site1 noMit.tif\n"
       ]
      },
      {
       "output_type": "stream",
       "stream": "stdout",
       "text": [
        "Writing capillary map to  /home/larry/Images/Michelle-Series//31090/capillary_interfaces.map\n"
       ]
      },
      {
       "output_type": "stream",
       "stream": "stdout",
       "text": [
        "Writing 31090 stats to interface_stats31090.csv\n"
       ]
      },
      {
       "output_type": "stream",
       "stream": "stdout",
       "text": [
        "['s9 31998me5grid2A3_noMit.tif', 's5 tracing site 5_31998me5 cap5.noMit.tif', 's8 31998me5grid2A_noMit.tif', 's7 tracing stie 7_31998me5 cap6.noMit.tif', 's6 tracing site 6_31998me5 cap5.noMit.tif', 's2 _2k_31998me5 cap2.noMit.tif', 's10 31998me5grid2Asite1_noMit.tif', 's3 _2k_31998me5 cap3.noMit.tif', 's1 tracing site 3_31998me5 cap3.noMit.tif', 's4 tracing site 1_31998me5 cap2.noMit.tif']\n"
       ]
      },
      {
       "output_type": "stream",
       "stream": "stdout",
       "text": [
        "Reading /home/larry/Images/Michelle-Series//31998/s9 31998me5grid2A3_noMit.tif\n"
       ]
      },
      {
       "output_type": "stream",
       "stream": "stdout",
       "text": [
        "Processing interfaces for class terminal in file /home/larry/Images/Michelle-Series//31998/s9 31998me5grid2A3_noMit.tif\n"
       ]
      },
      {
       "output_type": "stream",
       "stream": "stdout",
       "text": [
        "Processing interfaces for class glia in file /home/larry/Images/Michelle-Series//31998/s9 31998me5grid2A3_noMit.tif\n"
       ]
      },
      {
       "output_type": "stream",
       "stream": "stdout",
       "text": [
        "Reading /home/larry/Images/Michelle-Series//31998/s5 tracing site 5_31998me5 cap5.noMit.tif\n"
       ]
      },
      {
       "output_type": "stream",
       "stream": "stdout",
       "text": [
        "Processing interfaces for class terminal in file /home/larry/Images/Michelle-Series//31998/s5 tracing site 5_31998me5 cap5.noMit.tif\n"
       ]
      },
      {
       "output_type": "stream",
       "stream": "stdout",
       "text": [
        "Processing interfaces for class glia in file /home/larry/Images/Michelle-Series//31998/s5 tracing site 5_31998me5 cap5.noMit.tif\n"
       ]
      },
      {
       "output_type": "stream",
       "stream": "stdout",
       "text": [
        "Reading /home/larry/Images/Michelle-Series//31998/s8 31998me5grid2A_noMit.tif\n"
       ]
      },
      {
       "output_type": "stream",
       "stream": "stdout",
       "text": [
        "Processing interfaces for class terminal in file /home/larry/Images/Michelle-Series//31998/s8 31998me5grid2A_noMit.tif\n"
       ]
      },
      {
       "output_type": "stream",
       "stream": "stdout",
       "text": [
        "Processing interfaces for class glia in file /home/larry/Images/Michelle-Series//31998/s8 31998me5grid2A_noMit.tif\n"
       ]
      },
      {
       "output_type": "stream",
       "stream": "stdout",
       "text": [
        "Reading /home/larry/Images/Michelle-Series//31998/s7 tracing stie 7_31998me5 cap6.noMit.tif\n"
       ]
      },
      {
       "output_type": "stream",
       "stream": "stdout",
       "text": [
        "Processing interfaces for class terminal in file /home/larry/Images/Michelle-Series//31998/s7 tracing stie 7_31998me5 cap6.noMit.tif\n"
       ]
      },
      {
       "output_type": "stream",
       "stream": "stdout",
       "text": [
        "Processing interfaces for class glia in file /home/larry/Images/Michelle-Series//31998/s7 tracing stie 7_31998me5 cap6.noMit.tif\n"
       ]
      },
      {
       "output_type": "stream",
       "stream": "stdout",
       "text": [
        "Reading /home/larry/Images/Michelle-Series//31998/s6 tracing site 6_31998me5 cap5.noMit.tif\n"
       ]
      },
      {
       "output_type": "stream",
       "stream": "stdout",
       "text": [
        "Processing interfaces for class terminal in file /home/larry/Images/Michelle-Series//31998/s6 tracing site 6_31998me5 cap5.noMit.tif\n"
       ]
      },
      {
       "output_type": "stream",
       "stream": "stdout",
       "text": [
        "Processing interfaces for class glia in file /home/larry/Images/Michelle-Series//31998/s6 tracing site 6_31998me5 cap5.noMit.tif\n"
       ]
      },
      {
       "output_type": "stream",
       "stream": "stdout",
       "text": [
        "Reading /home/larry/Images/Michelle-Series//31998/s2 _2k_31998me5 cap2.noMit.tif\n"
       ]
      },
      {
       "output_type": "stream",
       "stream": "stdout",
       "text": [
        "Processing interfaces for class terminal in file /home/larry/Images/Michelle-Series//31998/s2 _2k_31998me5 cap2.noMit.tif\n"
       ]
      },
      {
       "output_type": "stream",
       "stream": "stdout",
       "text": [
        "Processing interfaces for class glia in file /home/larry/Images/Michelle-Series//31998/s2 _2k_31998me5 cap2.noMit.tif\n"
       ]
      },
      {
       "output_type": "stream",
       "stream": "stdout",
       "text": [
        "Reading /home/larry/Images/Michelle-Series//31998/s10 31998me5grid2Asite1_noMit.tif\n"
       ]
      },
      {
       "output_type": "stream",
       "stream": "stdout",
       "text": [
        "Processing interfaces for class terminal in file /home/larry/Images/Michelle-Series//31998/s10 31998me5grid2Asite1_noMit.tif\n"
       ]
      },
      {
       "output_type": "stream",
       "stream": "stdout",
       "text": [
        "Processing interfaces for class glia in file /home/larry/Images/Michelle-Series//31998/s10 31998me5grid2Asite1_noMit.tif\n"
       ]
      },
      {
       "output_type": "stream",
       "stream": "stdout",
       "text": [
        "Reading /home/larry/Images/Michelle-Series//31998/s3 _2k_31998me5 cap3.noMit.tif\n"
       ]
      },
      {
       "output_type": "stream",
       "stream": "stdout",
       "text": [
        "Processing interfaces for class terminal in file /home/larry/Images/Michelle-Series//31998/s3 _2k_31998me5 cap3.noMit.tif\n"
       ]
      },
      {
       "output_type": "stream",
       "stream": "stdout",
       "text": [
        "Processing interfaces for class glia in file /home/larry/Images/Michelle-Series//31998/s3 _2k_31998me5 cap3.noMit.tif\n"
       ]
      },
      {
       "output_type": "stream",
       "stream": "stdout",
       "text": [
        "Reading /home/larry/Images/Michelle-Series//31998/s1 tracing site 3_31998me5 cap3.noMit.tif\n"
       ]
      },
      {
       "output_type": "stream",
       "stream": "stdout",
       "text": [
        "Processing interfaces for class terminal in file /home/larry/Images/Michelle-Series//31998/s1 tracing site 3_31998me5 cap3.noMit.tif\n"
       ]
      },
      {
       "output_type": "stream",
       "stream": "stdout",
       "text": [
        "Processing interfaces for class glia in file /home/larry/Images/Michelle-Series//31998/s1 tracing site 3_31998me5 cap3.noMit.tif\n"
       ]
      },
      {
       "output_type": "stream",
       "stream": "stdout",
       "text": [
        "Reading /home/larry/Images/Michelle-Series//31998/s4 tracing site 1_31998me5 cap2.noMit.tif\n"
       ]
      },
      {
       "output_type": "stream",
       "stream": "stdout",
       "text": [
        "Processing interfaces for class terminal in file /home/larry/Images/Michelle-Series//31998/s4 tracing site 1_31998me5 cap2.noMit.tif\n"
       ]
      },
      {
       "output_type": "stream",
       "stream": "stdout",
       "text": [
        "Processing interfaces for class glia in file /home/larry/Images/Michelle-Series//31998/s4 tracing site 1_31998me5 cap2.noMit.tif\n"
       ]
      },
      {
       "output_type": "stream",
       "stream": "stdout",
       "text": [
        "Writing capillary map to  /home/larry/Images/Michelle-Series//31998/capillary_interfaces.map\n"
       ]
      },
      {
       "output_type": "stream",
       "stream": "stdout",
       "text": [
        "Writing 31998 stats to interface_stats31998.csv\n"
       ]
      },
      {
       "output_type": "stream",
       "stream": "stdout",
       "text": [
        "['s9 cropped5_Tile_r1-c1_29352me4 1D site2.noMit.tif', 's10 cropped6_Tile_r1-c1_29352me4 1D site2.noMit.tif', 's6 29352me4 1D site3 noMit.tif', 's3 29352me4 1D site2 noMit.tif', 's2 29352me4 1D site1 noMit.tif', 's1 29352me4 1D site0 noMit.tif']\n"
       ]
      },
      {
       "output_type": "stream",
       "stream": "stdout",
       "text": [
        "Reading /home/larry/Images/Michelle-Series//29352/s9 cropped5_Tile_r1-c1_29352me4 1D site2.noMit.tif\n"
       ]
      },
      {
       "output_type": "stream",
       "stream": "stdout",
       "text": [
        "Processing interfaces for class terminal in file /home/larry/Images/Michelle-Series//29352/s9 cropped5_Tile_r1-c1_29352me4 1D site2.noMit.tif\n"
       ]
      },
      {
       "output_type": "stream",
       "stream": "stdout",
       "text": [
        "Processing interfaces for class glia in file /home/larry/Images/Michelle-Series//29352/s9 cropped5_Tile_r1-c1_29352me4 1D site2.noMit.tif\n"
       ]
      },
      {
       "output_type": "stream",
       "stream": "stdout",
       "text": [
        "Reading /home/larry/Images/Michelle-Series//29352/s10 cropped6_Tile_r1-c1_29352me4 1D site2.noMit.tif\n"
       ]
      },
      {
       "output_type": "stream",
       "stream": "stdout",
       "text": [
        "Processing interfaces for class terminal in file /home/larry/Images/Michelle-Series//29352/s10 cropped6_Tile_r1-c1_29352me4 1D site2.noMit.tif\n"
       ]
      },
      {
       "output_type": "stream",
       "stream": "stdout",
       "text": [
        "Processing interfaces for class glia in file /home/larry/Images/Michelle-Series//29352/s10 cropped6_Tile_r1-c1_29352me4 1D site2.noMit.tif\n"
       ]
      },
      {
       "output_type": "stream",
       "stream": "stdout",
       "text": [
        "Reading /home/larry/Images/Michelle-Series//29352/s6 29352me4 1D site3 noMit.tif\n"
       ]
      },
      {
       "output_type": "stream",
       "stream": "stdout",
       "text": [
        "Processing interfaces for class terminal in file /home/larry/Images/Michelle-Series//29352/s6 29352me4 1D site3 noMit.tif\n"
       ]
      },
      {
       "output_type": "stream",
       "stream": "stdout",
       "text": [
        "Processing interfaces for class glia in file /home/larry/Images/Michelle-Series//29352/s6 29352me4 1D site3 noMit.tif\n"
       ]
      },
      {
       "output_type": "stream",
       "stream": "stdout",
       "text": [
        "Reading /home/larry/Images/Michelle-Series//29352/s3 29352me4 1D site2 noMit.tif\n"
       ]
      },
      {
       "output_type": "stream",
       "stream": "stdout",
       "text": [
        "Processing interfaces for class terminal in file /home/larry/Images/Michelle-Series//29352/s3 29352me4 1D site2 noMit.tif\n"
       ]
      },
      {
       "output_type": "stream",
       "stream": "stdout",
       "text": [
        "Processing interfaces for class glia in file /home/larry/Images/Michelle-Series//29352/s3 29352me4 1D site2 noMit.tif\n"
       ]
      },
      {
       "output_type": "stream",
       "stream": "stdout",
       "text": [
        "Reading /home/larry/Images/Michelle-Series//29352/s2 29352me4 1D site1 noMit.tif\n"
       ]
      },
      {
       "output_type": "stream",
       "stream": "stdout",
       "text": [
        "Processing interfaces for class terminal in file /home/larry/Images/Michelle-Series//29352/s2 29352me4 1D site1 noMit.tif\n"
       ]
      },
      {
       "output_type": "stream",
       "stream": "stdout",
       "text": [
        "Processing interfaces for class glia in file /home/larry/Images/Michelle-Series//29352/s2 29352me4 1D site1 noMit.tif\n"
       ]
      },
      {
       "output_type": "stream",
       "stream": "stdout",
       "text": [
        "Reading /home/larry/Images/Michelle-Series//29352/s1 29352me4 1D site0 noMit.tif\n"
       ]
      },
      {
       "output_type": "stream",
       "stream": "stdout",
       "text": [
        "Processing interfaces for class terminal in file /home/larry/Images/Michelle-Series//29352/s1 29352me4 1D site0 noMit.tif\n"
       ]
      },
      {
       "output_type": "stream",
       "stream": "stdout",
       "text": [
        "Processing interfaces for class glia in file /home/larry/Images/Michelle-Series//29352/s1 29352me4 1D site0 noMit.tif\n"
       ]
      },
      {
       "output_type": "stream",
       "stream": "stdout",
       "text": [
        "Writing capillary map to  /home/larry/Images/Michelle-Series//29352/capillary_interfaces.map\n"
       ]
      },
      {
       "output_type": "stream",
       "stream": "stdout",
       "text": [
        "Writing 29352 stats to interface_stats29352.csv\n"
       ]
      },
      {
       "output_type": "stream",
       "stream": "stdout",
       "text": [
        "['site5_2k_Tile_r1-c1_grid6 term_c1.noMit.tif', 'site3 23714me4site3_2k.noMit.tif', 'site1_2k_Tile_r1-c1_grid6 term_a2.noMit.tif', 'site7.noMit.tif', 'site8.noMit.tif', 'site2_2k_Tile_r1-c1_grid6 term_b1.noMit.tif', 'site9_2k_Tile_r1-c1_grid6 term_d1.noMit.tif', 'site6.noMit.tif', 'site4 23714me4site4_2k.noMit.tif', 'site10.noMit.tif']\n"
       ]
      },
      {
       "output_type": "stream",
       "stream": "stdout",
       "text": [
        "Reading /home/larry/Images/Michelle-Series//23714/site5_2k_Tile_r1-c1_grid6 term_c1.noMit.tif\n"
       ]
      },
      {
       "output_type": "stream",
       "stream": "stdout",
       "text": [
        "Processing interfaces for class terminal in file /home/larry/Images/Michelle-Series//23714/site5_2k_Tile_r1-c1_grid6 term_c1.noMit.tif\n"
       ]
      },
      {
       "output_type": "stream",
       "stream": "stdout",
       "text": [
        "Processing interfaces for class glia in file /home/larry/Images/Michelle-Series//23714/site5_2k_Tile_r1-c1_grid6 term_c1.noMit.tif\n"
       ]
      },
      {
       "output_type": "stream",
       "stream": "stdout",
       "text": [
        "Reading /home/larry/Images/Michelle-Series//23714/site3 23714me4site3_2k.noMit.tif\n"
       ]
      },
      {
       "output_type": "stream",
       "stream": "stdout",
       "text": [
        "Processing interfaces for class terminal in file /home/larry/Images/Michelle-Series//23714/site3 23714me4site3_2k.noMit.tif\n"
       ]
      },
      {
       "output_type": "stream",
       "stream": "stdout",
       "text": [
        "Processing interfaces for class glia in file /home/larry/Images/Michelle-Series//23714/site3 23714me4site3_2k.noMit.tif\n"
       ]
      },
      {
       "output_type": "stream",
       "stream": "stdout",
       "text": [
        "Reading /home/larry/Images/Michelle-Series//23714/site1_2k_Tile_r1-c1_grid6 term_a2.noMit.tif\n"
       ]
      },
      {
       "output_type": "stream",
       "stream": "stdout",
       "text": [
        "Processing interfaces for class terminal in file /home/larry/Images/Michelle-Series//23714/site1_2k_Tile_r1-c1_grid6 term_a2.noMit.tif\n"
       ]
      },
      {
       "output_type": "stream",
       "stream": "stdout",
       "text": [
        "Processing interfaces for class glia in file /home/larry/Images/Michelle-Series//23714/site1_2k_Tile_r1-c1_grid6 term_a2.noMit.tif\n"
       ]
      },
      {
       "output_type": "stream",
       "stream": "stdout",
       "text": [
        "Reading /home/larry/Images/Michelle-Series//23714/site7.noMit.tif\n"
       ]
      },
      {
       "output_type": "stream",
       "stream": "stdout",
       "text": [
        "Processing interfaces for class terminal in file /home/larry/Images/Michelle-Series//23714/site7.noMit.tif\n"
       ]
      },
      {
       "output_type": "stream",
       "stream": "stdout",
       "text": [
        "Processing interfaces for class glia in file /home/larry/Images/Michelle-Series//23714/site7.noMit.tif\n"
       ]
      },
      {
       "output_type": "stream",
       "stream": "stdout",
       "text": [
        "Reading /home/larry/Images/Michelle-Series//23714/site8.noMit.tif\n"
       ]
      },
      {
       "output_type": "stream",
       "stream": "stdout",
       "text": [
        "Processing interfaces for class terminal in file /home/larry/Images/Michelle-Series//23714/site8.noMit.tif\n"
       ]
      },
      {
       "output_type": "stream",
       "stream": "stdout",
       "text": [
        "Processing interfaces for class glia in file /home/larry/Images/Michelle-Series//23714/site8.noMit.tif\n"
       ]
      },
      {
       "output_type": "stream",
       "stream": "stdout",
       "text": [
        "Reading /home/larry/Images/Michelle-Series//23714/site2_2k_Tile_r1-c1_grid6 term_b1.noMit.tif\n"
       ]
      },
      {
       "output_type": "stream",
       "stream": "stdout",
       "text": [
        "Processing interfaces for class terminal in file /home/larry/Images/Michelle-Series//23714/site2_2k_Tile_r1-c1_grid6 term_b1.noMit.tif\n"
       ]
      },
      {
       "output_type": "stream",
       "stream": "stdout",
       "text": [
        "Processing interfaces for class glia in file /home/larry/Images/Michelle-Series//23714/site2_2k_Tile_r1-c1_grid6 term_b1.noMit.tif\n"
       ]
      },
      {
       "output_type": "stream",
       "stream": "stdout",
       "text": [
        "Reading /home/larry/Images/Michelle-Series//23714/site9_2k_Tile_r1-c1_grid6 term_d1.noMit.tif\n"
       ]
      },
      {
       "output_type": "stream",
       "stream": "stdout",
       "text": [
        "Processing interfaces for class terminal in file /home/larry/Images/Michelle-Series//23714/site9_2k_Tile_r1-c1_grid6 term_d1.noMit.tif\n"
       ]
      },
      {
       "output_type": "stream",
       "stream": "stdout",
       "text": [
        "Processing interfaces for class glia in file /home/larry/Images/Michelle-Series//23714/site9_2k_Tile_r1-c1_grid6 term_d1.noMit.tif\n"
       ]
      },
      {
       "output_type": "stream",
       "stream": "stdout",
       "text": [
        "Reading /home/larry/Images/Michelle-Series//23714/site6.noMit.tif\n"
       ]
      },
      {
       "output_type": "stream",
       "stream": "stdout",
       "text": [
        "Processing interfaces for class terminal in file /home/larry/Images/Michelle-Series//23714/site6.noMit.tif\n"
       ]
      },
      {
       "output_type": "stream",
       "stream": "stdout",
       "text": [
        "Processing interfaces for class glia in file /home/larry/Images/Michelle-Series//23714/site6.noMit.tif\n"
       ]
      },
      {
       "output_type": "stream",
       "stream": "stdout",
       "text": [
        "Reading /home/larry/Images/Michelle-Series//23714/site4 23714me4site4_2k.noMit.tif\n"
       ]
      },
      {
       "output_type": "stream",
       "stream": "stdout",
       "text": [
        "Processing interfaces for class terminal in file /home/larry/Images/Michelle-Series//23714/site4 23714me4site4_2k.noMit.tif\n"
       ]
      },
      {
       "output_type": "stream",
       "stream": "stdout",
       "text": [
        "Processing interfaces for class glia in file /home/larry/Images/Michelle-Series//23714/site4 23714me4site4_2k.noMit.tif\n"
       ]
      },
      {
       "output_type": "stream",
       "stream": "stdout",
       "text": [
        "Reading /home/larry/Images/Michelle-Series//23714/site10.noMit.tif\n"
       ]
      },
      {
       "output_type": "stream",
       "stream": "stdout",
       "text": [
        "Processing interfaces for class terminal in file /home/larry/Images/Michelle-Series//23714/site10.noMit.tif\n"
       ]
      },
      {
       "output_type": "stream",
       "stream": "stdout",
       "text": [
        "Processing interfaces for class glia in file /home/larry/Images/Michelle-Series//23714/site10.noMit.tif\n"
       ]
      },
      {
       "output_type": "stream",
       "stream": "stdout",
       "text": [
        "Writing capillary map to  /home/larry/Images/Michelle-Series//23714/capillary_interfaces.map\n"
       ]
      },
      {
       "output_type": "stream",
       "stream": "stdout",
       "text": [
        "Writing 23714 stats to interface_stats23714.csv\n"
       ]
      },
      {
       "output_type": "stream",
       "stream": "stdout",
       "text": [
        "['Tile_r1-c1_24888me5 site1a_2k.noMit.tif', 'site2_24888me1a.noMit.tif', 'site6_24888me1cTile_r1-c2_g3s01.noMit.tif', 'Tile_r1-c1_24888me5 site1d_2k.noMit.tif', 'Tile_r1-c1_24888me5 site1c_2k.noMit.tif', 'site4_24888me1aTile_r2-c2_g3s01.noMit.tif', 'site3_24888me1a.noMit.tif', 'site1_2k24888me1a_Tile_r2-c1_g3s01.noMit.tif', 'Tile_r1-c1_24888me5 site1b.noMit.tif', 'site5_24888me1cTile_r2-c1_g3s01.noMit.tif']\n"
       ]
      },
      {
       "output_type": "stream",
       "stream": "stdout",
       "text": [
        "Reading /home/larry/Images/Michelle-Series//24888/Tile_r1-c1_24888me5 site1a_2k.noMit.tif\n"
       ]
      },
      {
       "output_type": "stream",
       "stream": "stdout",
       "text": [
        "Processing interfaces for class terminal in file /home/larry/Images/Michelle-Series//24888/Tile_r1-c1_24888me5 site1a_2k.noMit.tif\n"
       ]
      },
      {
       "output_type": "stream",
       "stream": "stdout",
       "text": [
        "Processing interfaces for class glia in file /home/larry/Images/Michelle-Series//24888/Tile_r1-c1_24888me5 site1a_2k.noMit.tif\n"
       ]
      },
      {
       "output_type": "stream",
       "stream": "stdout",
       "text": [
        "Reading /home/larry/Images/Michelle-Series//24888/site2_24888me1a.noMit.tif\n"
       ]
      },
      {
       "output_type": "stream",
       "stream": "stdout",
       "text": [
        "Processing interfaces for class terminal in file /home/larry/Images/Michelle-Series//24888/site2_24888me1a.noMit.tif\n"
       ]
      },
      {
       "output_type": "stream",
       "stream": "stdout",
       "text": [
        "Processing interfaces for class glia in file /home/larry/Images/Michelle-Series//24888/site2_24888me1a.noMit.tif\n"
       ]
      },
      {
       "output_type": "stream",
       "stream": "stdout",
       "text": [
        "Reading /home/larry/Images/Michelle-Series//24888/site6_24888me1cTile_r1-c2_g3s01.noMit.tif\n"
       ]
      },
      {
       "output_type": "stream",
       "stream": "stdout",
       "text": [
        "Processing interfaces for class terminal in file /home/larry/Images/Michelle-Series//24888/site6_24888me1cTile_r1-c2_g3s01.noMit.tif\n"
       ]
      },
      {
       "output_type": "stream",
       "stream": "stdout",
       "text": [
        "Processing interfaces for class glia in file /home/larry/Images/Michelle-Series//24888/site6_24888me1cTile_r1-c2_g3s01.noMit.tif\n"
       ]
      },
      {
       "output_type": "stream",
       "stream": "stdout",
       "text": [
        "Reading /home/larry/Images/Michelle-Series//24888/Tile_r1-c1_24888me5 site1d_2k.noMit.tif\n"
       ]
      },
      {
       "output_type": "stream",
       "stream": "stdout",
       "text": [
        "Processing interfaces for class terminal in file /home/larry/Images/Michelle-Series//24888/Tile_r1-c1_24888me5 site1d_2k.noMit.tif\n"
       ]
      },
      {
       "output_type": "stream",
       "stream": "stdout",
       "text": [
        "Processing interfaces for class glia in file /home/larry/Images/Michelle-Series//24888/Tile_r1-c1_24888me5 site1d_2k.noMit.tif\n"
       ]
      },
      {
       "output_type": "stream",
       "stream": "stdout",
       "text": [
        "Reading /home/larry/Images/Michelle-Series//24888/Tile_r1-c1_24888me5 site1c_2k.noMit.tif\n"
       ]
      },
      {
       "output_type": "stream",
       "stream": "stdout",
       "text": [
        "Processing interfaces for class terminal in file /home/larry/Images/Michelle-Series//24888/Tile_r1-c1_24888me5 site1c_2k.noMit.tif\n"
       ]
      },
      {
       "output_type": "stream",
       "stream": "stdout",
       "text": [
        "Processing interfaces for class glia in file /home/larry/Images/Michelle-Series//24888/Tile_r1-c1_24888me5 site1c_2k.noMit.tif\n"
       ]
      },
      {
       "output_type": "stream",
       "stream": "stdout",
       "text": [
        "Reading /home/larry/Images/Michelle-Series//24888/site4_24888me1aTile_r2-c2_g3s01.noMit.tif\n"
       ]
      },
      {
       "output_type": "stream",
       "stream": "stdout",
       "text": [
        "Processing interfaces for class terminal in file /home/larry/Images/Michelle-Series//24888/site4_24888me1aTile_r2-c2_g3s01.noMit.tif\n"
       ]
      },
      {
       "output_type": "stream",
       "stream": "stdout",
       "text": [
        "Processing interfaces for class glia in file /home/larry/Images/Michelle-Series//24888/site4_24888me1aTile_r2-c2_g3s01.noMit.tif\n"
       ]
      },
      {
       "output_type": "stream",
       "stream": "stdout",
       "text": [
        "Reading /home/larry/Images/Michelle-Series//24888/site3_24888me1a.noMit.tif\n"
       ]
      },
      {
       "output_type": "stream",
       "stream": "stdout",
       "text": [
        "Processing interfaces for class terminal in file /home/larry/Images/Michelle-Series//24888/site3_24888me1a.noMit.tif\n"
       ]
      },
      {
       "output_type": "stream",
       "stream": "stdout",
       "text": [
        "Processing interfaces for class glia in file /home/larry/Images/Michelle-Series//24888/site3_24888me1a.noMit.tif\n"
       ]
      },
      {
       "output_type": "stream",
       "stream": "stdout",
       "text": [
        "Reading /home/larry/Images/Michelle-Series//24888/site1_2k24888me1a_Tile_r2-c1_g3s01.noMit.tif\n"
       ]
      },
      {
       "output_type": "stream",
       "stream": "stdout",
       "text": [
        "Processing interfaces for class terminal in file /home/larry/Images/Michelle-Series//24888/site1_2k24888me1a_Tile_r2-c1_g3s01.noMit.tif\n"
       ]
      },
      {
       "output_type": "stream",
       "stream": "stdout",
       "text": [
        "Processing interfaces for class glia in file /home/larry/Images/Michelle-Series//24888/site1_2k24888me1a_Tile_r2-c1_g3s01.noMit.tif\n"
       ]
      },
      {
       "output_type": "stream",
       "stream": "stdout",
       "text": [
        "Reading /home/larry/Images/Michelle-Series//24888/Tile_r1-c1_24888me5 site1b.noMit.tif\n"
       ]
      },
      {
       "output_type": "stream",
       "stream": "stdout",
       "text": [
        "Processing interfaces for class terminal in file /home/larry/Images/Michelle-Series//24888/Tile_r1-c1_24888me5 site1b.noMit.tif\n"
       ]
      },
      {
       "output_type": "stream",
       "stream": "stdout",
       "text": [
        "Processing interfaces for class glia in file /home/larry/Images/Michelle-Series//24888/Tile_r1-c1_24888me5 site1b.noMit.tif\n"
       ]
      },
      {
       "output_type": "stream",
       "stream": "stdout",
       "text": [
        "Reading /home/larry/Images/Michelle-Series//24888/site5_24888me1cTile_r2-c1_g3s01.noMit.tif\n"
       ]
      },
      {
       "output_type": "stream",
       "stream": "stdout",
       "text": [
        "Processing interfaces for class terminal in file /home/larry/Images/Michelle-Series//24888/site5_24888me1cTile_r2-c1_g3s01.noMit.tif\n"
       ]
      },
      {
       "output_type": "stream",
       "stream": "stdout",
       "text": [
        "Processing interfaces for class glia in file /home/larry/Images/Michelle-Series//24888/site5_24888me1cTile_r2-c1_g3s01.noMit.tif\n"
       ]
      },
      {
       "output_type": "stream",
       "stream": "stdout",
       "text": [
        "Writing capillary map to  /home/larry/Images/Michelle-Series//24888/capillary_interfaces.map\n"
       ]
      },
      {
       "output_type": "stream",
       "stream": "stdout",
       "text": [
        "Writing 24888 stats to interface_stats24888.csv\n"
       ]
      },
      {
       "output_type": "stream",
       "stream": "stdout",
       "text": [
        "['site 1_g1s1.noMit.tif', 'site 4_g1s2.noMit.tif', 'site 3_g1s2.noMit.tif', 'site3 2k wMit _Tile_r1-c1_24831me7UAsite1.noMit.tif', 'site4 2k wMit_Tile_r1-c1_24831me7UAsite1.noMit.tif', 'site6 2k wMit_Tile_r1-c1_24831me7UAsite2.noMit.tif', 'site5 2k wMit_Tile_r1-c1_24831me7UAsite2.noMit.tif', 'site1 2k _Tile_r1-c1_24831me7noUAsite1.noMit.tif', 'site 2_g1s2.noMit.tif']\n"
       ]
      },
      {
       "output_type": "stream",
       "stream": "stdout",
       "text": [
        "Reading /home/larry/Images/Michelle-Series//24831/site 1_g1s1.noMit.tif\n"
       ]
      },
      {
       "output_type": "stream",
       "stream": "stdout",
       "text": [
        "Processing interfaces for class terminal in file /home/larry/Images/Michelle-Series//24831/site 1_g1s1.noMit.tif\n"
       ]
      },
      {
       "output_type": "stream",
       "stream": "stdout",
       "text": [
        "Processing interfaces for class glia in file /home/larry/Images/Michelle-Series//24831/site 1_g1s1.noMit.tif\n"
       ]
      },
      {
       "output_type": "stream",
       "stream": "stdout",
       "text": [
        "Reading /home/larry/Images/Michelle-Series//24831/site 4_g1s2.noMit.tif\n"
       ]
      },
      {
       "output_type": "stream",
       "stream": "stdout",
       "text": [
        "Processing interfaces for class terminal in file /home/larry/Images/Michelle-Series//24831/site 4_g1s2.noMit.tif\n"
       ]
      },
      {
       "output_type": "stream",
       "stream": "stdout",
       "text": [
        "Processing interfaces for class glia in file /home/larry/Images/Michelle-Series//24831/site 4_g1s2.noMit.tif\n"
       ]
      },
      {
       "output_type": "stream",
       "stream": "stdout",
       "text": [
        "Reading /home/larry/Images/Michelle-Series//24831/site 3_g1s2.noMit.tif\n"
       ]
      },
      {
       "output_type": "stream",
       "stream": "stdout",
       "text": [
        "Processing interfaces for class terminal in file /home/larry/Images/Michelle-Series//24831/site 3_g1s2.noMit.tif\n"
       ]
      },
      {
       "output_type": "stream",
       "stream": "stdout",
       "text": [
        "Processing interfaces for class glia in file /home/larry/Images/Michelle-Series//24831/site 3_g1s2.noMit.tif\n"
       ]
      },
      {
       "output_type": "stream",
       "stream": "stdout",
       "text": [
        "Reading /home/larry/Images/Michelle-Series//24831/site3 2k wMit _Tile_r1-c1_24831me7UAsite1.noMit.tif\n"
       ]
      },
      {
       "output_type": "stream",
       "stream": "stdout",
       "text": [
        "Processing interfaces for class terminal in file /home/larry/Images/Michelle-Series//24831/site3 2k wMit _Tile_r1-c1_24831me7UAsite1.noMit.tif\n"
       ]
      },
      {
       "output_type": "stream",
       "stream": "stdout",
       "text": [
        "Processing interfaces for class glia in file /home/larry/Images/Michelle-Series//24831/site3 2k wMit _Tile_r1-c1_24831me7UAsite1.noMit.tif\n"
       ]
      },
      {
       "output_type": "stream",
       "stream": "stdout",
       "text": [
        "Reading /home/larry/Images/Michelle-Series//24831/site4 2k wMit_Tile_r1-c1_24831me7UAsite1.noMit.tif\n"
       ]
      },
      {
       "output_type": "stream",
       "stream": "stdout",
       "text": [
        "Processing interfaces for class terminal in file /home/larry/Images/Michelle-Series//24831/site4 2k wMit_Tile_r1-c1_24831me7UAsite1.noMit.tif\n"
       ]
      },
      {
       "output_type": "stream",
       "stream": "stdout",
       "text": [
        "Processing interfaces for class glia in file /home/larry/Images/Michelle-Series//24831/site4 2k wMit_Tile_r1-c1_24831me7UAsite1.noMit.tif\n"
       ]
      },
      {
       "output_type": "stream",
       "stream": "stdout",
       "text": [
        "Reading /home/larry/Images/Michelle-Series//24831/site6 2k wMit_Tile_r1-c1_24831me7UAsite2.noMit.tif\n"
       ]
      },
      {
       "output_type": "stream",
       "stream": "stdout",
       "text": [
        "Processing interfaces for class terminal in file /home/larry/Images/Michelle-Series//24831/site6 2k wMit_Tile_r1-c1_24831me7UAsite2.noMit.tif\n"
       ]
      },
      {
       "output_type": "stream",
       "stream": "stdout",
       "text": [
        "Processing interfaces for class glia in file /home/larry/Images/Michelle-Series//24831/site6 2k wMit_Tile_r1-c1_24831me7UAsite2.noMit.tif\n"
       ]
      },
      {
       "output_type": "stream",
       "stream": "stdout",
       "text": [
        "Reading /home/larry/Images/Michelle-Series//24831/site5 2k wMit_Tile_r1-c1_24831me7UAsite2.noMit.tif\n"
       ]
      },
      {
       "output_type": "stream",
       "stream": "stdout",
       "text": [
        "Processing interfaces for class terminal in file /home/larry/Images/Michelle-Series//24831/site5 2k wMit_Tile_r1-c1_24831me7UAsite2.noMit.tif\n"
       ]
      },
      {
       "output_type": "stream",
       "stream": "stdout",
       "text": [
        "Processing interfaces for class glia in file /home/larry/Images/Michelle-Series//24831/site5 2k wMit_Tile_r1-c1_24831me7UAsite2.noMit.tif\n"
       ]
      },
      {
       "output_type": "stream",
       "stream": "stdout",
       "text": [
        "Reading /home/larry/Images/Michelle-Series//24831/site1 2k _Tile_r1-c1_24831me7noUAsite1.noMit.tif\n"
       ]
      },
      {
       "output_type": "stream",
       "stream": "stdout",
       "text": [
        "Processing interfaces for class terminal in file /home/larry/Images/Michelle-Series//24831/site1 2k _Tile_r1-c1_24831me7noUAsite1.noMit.tif\n"
       ]
      },
      {
       "output_type": "stream",
       "stream": "stdout",
       "text": [
        "Processing interfaces for class glia in file /home/larry/Images/Michelle-Series//24831/site1 2k _Tile_r1-c1_24831me7noUAsite1.noMit.tif\n"
       ]
      },
      {
       "output_type": "stream",
       "stream": "stdout",
       "text": [
        "Reading /home/larry/Images/Michelle-Series//24831/site 2_g1s2.noMit.tif\n"
       ]
      },
      {
       "output_type": "stream",
       "stream": "stdout",
       "text": [
        "Processing interfaces for class terminal in file /home/larry/Images/Michelle-Series//24831/site 2_g1s2.noMit.tif\n"
       ]
      },
      {
       "output_type": "stream",
       "stream": "stdout",
       "text": [
        "Processing interfaces for class glia in file /home/larry/Images/Michelle-Series//24831/site 2_g1s2.noMit.tif\n"
       ]
      },
      {
       "output_type": "stream",
       "stream": "stdout",
       "text": [
        "Writing capillary map to  /home/larry/Images/Michelle-Series//24831/capillary_interfaces.map\n"
       ]
      },
      {
       "output_type": "stream",
       "stream": "stdout",
       "text": [
        "Writing 24831 stats to interface_stats24831.csv\n"
       ]
      },
      {
       "output_type": "stream",
       "stream": "stdout",
       "text": [
        "['site9_24163me6c.noMit.tif', 'site10_24163me6b .noMit.tif', 'site5_24163me6c.noMit.tif', '24163me6_3D_g1s6c .noMit.tif', 'site7_24163me6c .noMit.tif', 'site2_24163me6a .noMit.tif', 'site4_24163me6a .noMit.tif', 'site3_24163me6a .noMit.tif', 'site1_24163me6a .noMit.tif']\n"
       ]
      },
      {
       "output_type": "stream",
       "stream": "stdout",
       "text": [
        "Reading /home/larry/Images/Michelle-Series//24163/site9_24163me6c.noMit.tif\n"
       ]
      },
      {
       "output_type": "stream",
       "stream": "stdout",
       "text": [
        "Processing interfaces for class terminal in file /home/larry/Images/Michelle-Series//24163/site9_24163me6c.noMit.tif\n"
       ]
      },
      {
       "output_type": "stream",
       "stream": "stdout",
       "text": [
        "Processing interfaces for class glia in file /home/larry/Images/Michelle-Series//24163/site9_24163me6c.noMit.tif\n"
       ]
      },
      {
       "output_type": "stream",
       "stream": "stdout",
       "text": [
        "Reading /home/larry/Images/Michelle-Series//24163/site10_24163me6b .noMit.tif\n"
       ]
      },
      {
       "output_type": "stream",
       "stream": "stdout",
       "text": [
        "Processing interfaces for class terminal in file /home/larry/Images/Michelle-Series//24163/site10_24163me6b .noMit.tif\n"
       ]
      },
      {
       "output_type": "stream",
       "stream": "stdout",
       "text": [
        "Processing interfaces for class glia in file /home/larry/Images/Michelle-Series//24163/site10_24163me6b .noMit.tif\n"
       ]
      },
      {
       "output_type": "stream",
       "stream": "stdout",
       "text": [
        "Reading /home/larry/Images/Michelle-Series//24163/site5_24163me6c.noMit.tif\n"
       ]
      },
      {
       "output_type": "stream",
       "stream": "stdout",
       "text": [
        "Processing interfaces for class terminal in file /home/larry/Images/Michelle-Series//24163/site5_24163me6c.noMit.tif\n"
       ]
      },
      {
       "output_type": "stream",
       "stream": "stdout",
       "text": [
        "Processing interfaces for class glia in file /home/larry/Images/Michelle-Series//24163/site5_24163me6c.noMit.tif\n"
       ]
      },
      {
       "output_type": "stream",
       "stream": "stdout",
       "text": [
        "Reading /home/larry/Images/Michelle-Series//24163/24163me6_3D_g1s6c .noMit.tif\n"
       ]
      },
      {
       "output_type": "stream",
       "stream": "stdout",
       "text": [
        "Processing interfaces for class terminal in file /home/larry/Images/Michelle-Series//24163/24163me6_3D_g1s6c .noMit.tif\n"
       ]
      },
      {
       "output_type": "stream",
       "stream": "stdout",
       "text": [
        "Processing interfaces for class glia in file /home/larry/Images/Michelle-Series//24163/24163me6_3D_g1s6c .noMit.tif\n"
       ]
      },
      {
       "output_type": "stream",
       "stream": "stdout",
       "text": [
        "Reading /home/larry/Images/Michelle-Series//24163/site7_24163me6c .noMit.tif\n"
       ]
      },
      {
       "output_type": "stream",
       "stream": "stdout",
       "text": [
        "Processing interfaces for class terminal in file /home/larry/Images/Michelle-Series//24163/site7_24163me6c .noMit.tif\n"
       ]
      },
      {
       "output_type": "stream",
       "stream": "stdout",
       "text": [
        "Processing interfaces for class glia in file /home/larry/Images/Michelle-Series//24163/site7_24163me6c .noMit.tif\n"
       ]
      },
      {
       "output_type": "stream",
       "stream": "stdout",
       "text": [
        "Reading /home/larry/Images/Michelle-Series//24163/site2_24163me6a .noMit.tif\n"
       ]
      },
      {
       "output_type": "stream",
       "stream": "stdout",
       "text": [
        "Processing interfaces for class terminal in file /home/larry/Images/Michelle-Series//24163/site2_24163me6a .noMit.tif\n"
       ]
      },
      {
       "output_type": "stream",
       "stream": "stdout",
       "text": [
        "Processing interfaces for class glia in file /home/larry/Images/Michelle-Series//24163/site2_24163me6a .noMit.tif\n"
       ]
      },
      {
       "output_type": "stream",
       "stream": "stdout",
       "text": [
        "Reading /home/larry/Images/Michelle-Series//24163/site4_24163me6a .noMit.tif\n"
       ]
      },
      {
       "output_type": "stream",
       "stream": "stdout",
       "text": [
        "Processing interfaces for class terminal in file /home/larry/Images/Michelle-Series//24163/site4_24163me6a .noMit.tif\n"
       ]
      },
      {
       "output_type": "stream",
       "stream": "stdout",
       "text": [
        "Processing interfaces for class glia in file /home/larry/Images/Michelle-Series//24163/site4_24163me6a .noMit.tif\n"
       ]
      },
      {
       "output_type": "stream",
       "stream": "stdout",
       "text": [
        "Reading /home/larry/Images/Michelle-Series//24163/site3_24163me6a .noMit.tif\n"
       ]
      },
      {
       "output_type": "stream",
       "stream": "stdout",
       "text": [
        "Processing interfaces for class terminal in file /home/larry/Images/Michelle-Series//24163/site3_24163me6a .noMit.tif\n"
       ]
      },
      {
       "output_type": "stream",
       "stream": "stdout",
       "text": [
        "Processing interfaces for class glia in file /home/larry/Images/Michelle-Series//24163/site3_24163me6a .noMit.tif\n"
       ]
      },
      {
       "output_type": "stream",
       "stream": "stdout",
       "text": [
        "Reading /home/larry/Images/Michelle-Series//24163/site1_24163me6a .noMit.tif\n"
       ]
      },
      {
       "output_type": "stream",
       "stream": "stdout",
       "text": [
        "Processing interfaces for class terminal in file /home/larry/Images/Michelle-Series//24163/site1_24163me6a .noMit.tif\n"
       ]
      },
      {
       "output_type": "stream",
       "stream": "stdout",
       "text": [
        "Processing interfaces for class glia in file /home/larry/Images/Michelle-Series//24163/site1_24163me6a .noMit.tif\n"
       ]
      },
      {
       "output_type": "stream",
       "stream": "stdout",
       "text": [
        "Writing capillary map to  /home/larry/Images/Michelle-Series//24163/capillary_interfaces.map\n"
       ]
      },
      {
       "output_type": "stream",
       "stream": "stdout",
       "text": [
        "Writing 24163 stats to interface_stats24163.csv\n"
       ]
      },
      {
       "output_type": "stream",
       "stream": "stdout",
       "text": [
        "['site6_2k_30582-r1-c1e.FLATnoMit.tif', 'site2_2k_Tile_r2-c1_30582me3site1a.FLATnoMit.tif', 'site8_2k_30582-r1-c1h.FLATnoMit.tif', 'site4_2k_30582-r1-c1b.FLATnoMit.tif', 'site3_2k_30582-r1-c1c.FLATnoMit.tif', 'site1_2k_Tile_r2-c1_30582me3site1a.FLATnoMit.tif', 'site5_2k_30582-r1-c1a.FLATnoMit.tif', 'site7_2k_30582-r1-c1i.FLATnoMit.tif', 'site9 30582-r2-c1.FLATnoMit.tif']\n"
       ]
      },
      {
       "output_type": "stream",
       "stream": "stdout",
       "text": [
        "Reading /home/larry/Images/Michelle-Series//30582/site6_2k_30582-r1-c1e.FLATnoMit.tif\n"
       ]
      },
      {
       "output_type": "stream",
       "stream": "stdout",
       "text": [
        "Processing interfaces for class terminal in file /home/larry/Images/Michelle-Series//30582/site6_2k_30582-r1-c1e.FLATnoMit.tif\n"
       ]
      },
      {
       "output_type": "stream",
       "stream": "stdout",
       "text": [
        "Processing interfaces for class glia in file /home/larry/Images/Michelle-Series//30582/site6_2k_30582-r1-c1e.FLATnoMit.tif\n"
       ]
      },
      {
       "output_type": "stream",
       "stream": "stdout",
       "text": [
        "Reading /home/larry/Images/Michelle-Series//30582/site2_2k_Tile_r2-c1_30582me3site1a.FLATnoMit.tif\n"
       ]
      },
      {
       "output_type": "stream",
       "stream": "stdout",
       "text": [
        "Processing interfaces for class terminal in file /home/larry/Images/Michelle-Series//30582/site2_2k_Tile_r2-c1_30582me3site1a.FLATnoMit.tif\n"
       ]
      },
      {
       "output_type": "stream",
       "stream": "stdout",
       "text": [
        "Processing interfaces for class glia in file /home/larry/Images/Michelle-Series//30582/site2_2k_Tile_r2-c1_30582me3site1a.FLATnoMit.tif\n"
       ]
      },
      {
       "output_type": "stream",
       "stream": "stdout",
       "text": [
        "Reading /home/larry/Images/Michelle-Series//30582/site8_2k_30582-r1-c1h.FLATnoMit.tif\n"
       ]
      },
      {
       "output_type": "stream",
       "stream": "stdout",
       "text": [
        "Processing interfaces for class terminal in file /home/larry/Images/Michelle-Series//30582/site8_2k_30582-r1-c1h.FLATnoMit.tif\n"
       ]
      },
      {
       "output_type": "stream",
       "stream": "stdout",
       "text": [
        "Processing interfaces for class glia in file /home/larry/Images/Michelle-Series//30582/site8_2k_30582-r1-c1h.FLATnoMit.tif\n"
       ]
      },
      {
       "output_type": "stream",
       "stream": "stdout",
       "text": [
        "Reading /home/larry/Images/Michelle-Series//30582/site4_2k_30582-r1-c1b.FLATnoMit.tif\n"
       ]
      },
      {
       "output_type": "stream",
       "stream": "stdout",
       "text": [
        "Processing interfaces for class terminal in file /home/larry/Images/Michelle-Series//30582/site4_2k_30582-r1-c1b.FLATnoMit.tif\n"
       ]
      },
      {
       "output_type": "stream",
       "stream": "stdout",
       "text": [
        "Processing interfaces for class glia in file /home/larry/Images/Michelle-Series//30582/site4_2k_30582-r1-c1b.FLATnoMit.tif\n"
       ]
      },
      {
       "output_type": "stream",
       "stream": "stdout",
       "text": [
        "Reading /home/larry/Images/Michelle-Series//30582/site3_2k_30582-r1-c1c.FLATnoMit.tif\n"
       ]
      },
      {
       "output_type": "stream",
       "stream": "stdout",
       "text": [
        "Processing interfaces for class terminal in file /home/larry/Images/Michelle-Series//30582/site3_2k_30582-r1-c1c.FLATnoMit.tif\n"
       ]
      },
      {
       "output_type": "stream",
       "stream": "stdout",
       "text": [
        "Processing interfaces for class glia in file /home/larry/Images/Michelle-Series//30582/site3_2k_30582-r1-c1c.FLATnoMit.tif\n"
       ]
      },
      {
       "output_type": "stream",
       "stream": "stdout",
       "text": [
        "Reading /home/larry/Images/Michelle-Series//30582/site1_2k_Tile_r2-c1_30582me3site1a.FLATnoMit.tif\n"
       ]
      },
      {
       "output_type": "stream",
       "stream": "stdout",
       "text": [
        "Processing interfaces for class terminal in file /home/larry/Images/Michelle-Series//30582/site1_2k_Tile_r2-c1_30582me3site1a.FLATnoMit.tif\n"
       ]
      },
      {
       "output_type": "stream",
       "stream": "stdout",
       "text": [
        "Processing interfaces for class glia in file /home/larry/Images/Michelle-Series//30582/site1_2k_Tile_r2-c1_30582me3site1a.FLATnoMit.tif\n"
       ]
      },
      {
       "output_type": "stream",
       "stream": "stdout",
       "text": [
        "Reading /home/larry/Images/Michelle-Series//30582/site5_2k_30582-r1-c1a.FLATnoMit.tif\n"
       ]
      },
      {
       "output_type": "stream",
       "stream": "stdout",
       "text": [
        "Processing interfaces for class terminal in file /home/larry/Images/Michelle-Series//30582/site5_2k_30582-r1-c1a.FLATnoMit.tif\n"
       ]
      },
      {
       "output_type": "stream",
       "stream": "stdout",
       "text": [
        "Processing interfaces for class glia in file /home/larry/Images/Michelle-Series//30582/site5_2k_30582-r1-c1a.FLATnoMit.tif\n"
       ]
      },
      {
       "output_type": "stream",
       "stream": "stdout",
       "text": [
        "Reading /home/larry/Images/Michelle-Series//30582/site7_2k_30582-r1-c1i.FLATnoMit.tif\n"
       ]
      },
      {
       "output_type": "stream",
       "stream": "stdout",
       "text": [
        "Processing interfaces for class terminal in file /home/larry/Images/Michelle-Series//30582/site7_2k_30582-r1-c1i.FLATnoMit.tif\n"
       ]
      },
      {
       "output_type": "stream",
       "stream": "stdout",
       "text": [
        "Processing interfaces for class glia in file /home/larry/Images/Michelle-Series//30582/site7_2k_30582-r1-c1i.FLATnoMit.tif\n"
       ]
      },
      {
       "output_type": "stream",
       "stream": "stdout",
       "text": [
        "Reading /home/larry/Images/Michelle-Series//30582/site9 30582-r2-c1.FLATnoMit.tif\n"
       ]
      },
      {
       "output_type": "stream",
       "stream": "stdout",
       "text": [
        "Processing interfaces for class terminal in file /home/larry/Images/Michelle-Series//30582/site9 30582-r2-c1.FLATnoMit.tif\n"
       ]
      },
      {
       "output_type": "stream",
       "stream": "stdout",
       "text": [
        "Processing interfaces for class glia in file /home/larry/Images/Michelle-Series//30582/site9 30582-r2-c1.FLATnoMit.tif\n"
       ]
      },
      {
       "output_type": "stream",
       "stream": "stdout",
       "text": [
        "Writing capillary map to  /home/larry/Images/Michelle-Series//30582/capillary_interfaces.map\n"
       ]
      },
      {
       "output_type": "stream",
       "stream": "stdout",
       "text": [
        "Writing 30582 stats to interface_stats30582.csv\n"
       ]
      }
     ],
     "prompt_number": 11
    },
    {
     "cell_type": "code",
     "collapsed": false,
     "input": [],
     "language": "python",
     "metadata": {},
     "outputs": []
    }
   ],
   "metadata": {}
  }
 ]
}